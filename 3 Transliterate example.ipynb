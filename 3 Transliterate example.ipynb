{
 "cells": [
  {
   "cell_type": "markdown",
   "id": "ce125097",
   "metadata": {},
   "source": [
    "# Transliterate\n",
    "https://learn.microsoft.com/en-us/azure/ai-services/translator/reference/v3-0-transliterate\n",
    "\n",
    "<img src=\"https://github.com/retkowsky/azure-ai-translator/blob/main/logo.jpg?raw=true\" width=200>"
   ]
  },
  {
   "cell_type": "code",
   "execution_count": 1,
   "id": "632fc324",
   "metadata": {},
   "outputs": [],
   "source": [
    "import datetime\n",
    "import json\n",
    "import os\n",
    "import requests\n",
    "import sys\n",
    "import uuid\n",
    "\n",
    "from dotenv import load_dotenv"
   ]
  },
  {
   "cell_type": "code",
   "execution_count": 2,
   "id": "af0461df",
   "metadata": {},
   "outputs": [
    {
     "data": {
      "text/plain": [
       "'3.10.11 (main, May 16 2023, 00:28:57) [GCC 11.2.0]'"
      ]
     },
     "execution_count": 2,
     "metadata": {},
     "output_type": "execute_result"
    }
   ],
   "source": [
    "sys.version"
   ]
  },
  {
   "cell_type": "code",
   "execution_count": 3,
   "id": "7323c7bb",
   "metadata": {},
   "outputs": [
    {
     "name": "stdout",
     "output_type": "stream",
     "text": [
      "Today is 11-Apr-2024 12:39:43\n"
     ]
    }
   ],
   "source": [
    "print(f\"Today is {datetime.datetime.today().strftime('%d-%b-%Y %H:%M:%S')}\")"
   ]
  },
  {
   "cell_type": "markdown",
   "id": "3c7c3e4c",
   "metadata": {},
   "source": [
    "## Azure AI Translator credentials"
   ]
  },
  {
   "cell_type": "code",
   "execution_count": 4,
   "id": "5eef198c",
   "metadata": {},
   "outputs": [],
   "source": [
    "load_dotenv(\"azure.env\")\n",
    "\n",
    "azure_ai_translator_key = os.getenv(\"AZURE_AI_TRANSLATION_KEY\")\n",
    "azure_ai_translator_endpoint = os.getenv(\"AZURE_AI_TRANSLATION_ENDPOINT\")\n",
    "azure_ai_translator_region = os.getenv(\"AZURE_AI_TRANSLATION_REGION\")"
   ]
  },
  {
   "cell_type": "code",
   "execution_count": 5,
   "id": "e2acc88e",
   "metadata": {},
   "outputs": [],
   "source": [
    "path = \"/transliterate?api-version=3.0\"\n",
    "params = \"&language=ja&fromScript=jpan&toScript=latn\"\n",
    "\n",
    "constructed_url = azure_ai_translator_endpoint + path + params\n",
    "\n",
    "headers = {\n",
    "    \"Ocp-Apim-Subscription-Key\": azure_ai_translator_key,\n",
    "    \"Ocp-Apim-Subscription-Region\": azure_ai_translator_region,\n",
    "    \"Content-type\": \"application/json\",\n",
    "    \"X-ClientTraceId\": str(uuid.uuid4()),\n",
    "}"
   ]
  },
  {
   "cell_type": "code",
   "execution_count": 6,
   "id": "3371644f",
   "metadata": {},
   "outputs": [],
   "source": [
    "# Transliterate \"good afternoon\" from source Japanese.\n",
    "# Note: You can pass more than one object in body.\n",
    "body = [{\"text\": \"こんにちは\"}]"
   ]
  },
  {
   "cell_type": "code",
   "execution_count": 7,
   "id": "3d332428",
   "metadata": {},
   "outputs": [
    {
     "data": {
      "text/plain": [
       "[{'text': 'こんにちは'}]"
      ]
     },
     "execution_count": 7,
     "metadata": {},
     "output_type": "execute_result"
    }
   ],
   "source": [
    "body"
   ]
  },
  {
   "cell_type": "code",
   "execution_count": 8,
   "id": "d6e309a5",
   "metadata": {},
   "outputs": [
    {
     "name": "stdout",
     "output_type": "stream",
     "text": [
      "\u001b[1;31;34m\n",
      "[\n",
      "    {\n",
      "        \"script\": \"Latn\",\n",
      "        \"text\": \"Kon'nichiwa​\"\n",
      "    }\n",
      "]\n"
     ]
    }
   ],
   "source": [
    "request = requests.post(constructed_url, headers=headers, json=body)\n",
    "response = request.json()\n",
    "\n",
    "print(\"\\033[1;31;34m\")\n",
    "print(json.dumps(response, sort_keys=True, indent=4,\n",
    "      ensure_ascii=False, separators=(',', ': ')))"
   ]
  },
  {
   "cell_type": "code",
   "execution_count": 9,
   "id": "be626e75",
   "metadata": {},
   "outputs": [
    {
     "name": "stdout",
     "output_type": "stream",
     "text": [
      "Result: Kon'nichiwa​ with script = Latn\n"
     ]
    }
   ],
   "source": [
    "print(f\"Result: {response[0]['text']} with script = {response[0]['script']}\")"
   ]
  },
  {
   "cell_type": "code",
   "execution_count": null,
   "id": "6fc820de",
   "metadata": {},
   "outputs": [],
   "source": []
  }
 ],
 "metadata": {
  "kernelspec": {
   "display_name": "Python 3.10 - SDK v2",
   "language": "python",
   "name": "python310-sdkv2"
  },
  "language_info": {
   "codemirror_mode": {
    "name": "ipython",
    "version": 3
   },
   "file_extension": ".py",
   "mimetype": "text/x-python",
   "name": "python",
   "nbconvert_exporter": "python",
   "pygments_lexer": "ipython3",
   "version": "3.10.11"
  }
 },
 "nbformat": 4,
 "nbformat_minor": 5
}
