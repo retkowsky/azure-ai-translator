{
 "cells": [
  {
   "cell_type": "markdown",
   "id": "bef80185",
   "metadata": {},
   "source": [
    "# Language detection\n",
    "https://learn.microsoft.com/en-us/azure/ai-services/translator/reference/v3-0-detect\n",
    "\n",
    "<img src=\"https://th.bing.com/th/id/OIP.ngRD8aNJwXZ2B0eol5tFlwAAAA?rs=1&pid=ImgDetMain\" width=200>"
   ]
  },
  {
   "cell_type": "code",
   "execution_count": 1,
   "id": "06adda2b",
   "metadata": {},
   "outputs": [],
   "source": [
    "import datetime\n",
    "import json\n",
    "import os\n",
    "import requests\n",
    "import sys\n",
    "import uuid\n",
    "\n",
    "from dotenv import load_dotenv"
   ]
  },
  {
   "cell_type": "code",
   "execution_count": 2,
   "id": "d8a093ee",
   "metadata": {},
   "outputs": [
    {
     "data": {
      "text/plain": [
       "'3.10.11 (main, May 16 2023, 00:28:57) [GCC 11.2.0]'"
      ]
     },
     "execution_count": 2,
     "metadata": {},
     "output_type": "execute_result"
    }
   ],
   "source": [
    "sys.version"
   ]
  },
  {
   "cell_type": "code",
   "execution_count": 3,
   "id": "1b76cc36",
   "metadata": {},
   "outputs": [
    {
     "name": "stdout",
     "output_type": "stream",
     "text": [
      "Today is 10-Apr-2024 08:56:24\n"
     ]
    }
   ],
   "source": [
    "print(f\"Today is {datetime.datetime.today().strftime('%d-%b-%Y %H:%M:%S')}\")"
   ]
  },
  {
   "cell_type": "markdown",
   "id": "ad5c0c6b",
   "metadata": {},
   "source": [
    "## Azure AI Translator credentials"
   ]
  },
  {
   "cell_type": "code",
   "execution_count": 4,
   "id": "18ecb048",
   "metadata": {},
   "outputs": [],
   "source": [
    "load_dotenv(\"azure.env\")\n",
    "\n",
    "key = os.getenv(\"AZURE_AI_TRANSLATION_KEY\")\n",
    "endpoint = os.getenv(\"AZURE_AI_TRANSLATION_ENDPOINT\")\n",
    "region = os.getenv(\"AZURE_AI_TRANSLATION_REGION\")"
   ]
  },
  {
   "cell_type": "markdown",
   "id": "a3b0020d",
   "metadata": {},
   "source": [
    "## Examples"
   ]
  },
  {
   "cell_type": "code",
   "execution_count": 5,
   "id": "07a38837",
   "metadata": {},
   "outputs": [],
   "source": [
    "# Note: You can pass more than one object in body.\n",
    "body = [{\"text\": \"Salve, mondo!\"}]"
   ]
  },
  {
   "cell_type": "code",
   "execution_count": 6,
   "id": "1fc09d78",
   "metadata": {},
   "outputs": [
    {
     "name": "stdout",
     "output_type": "stream",
     "text": [
      "\u001b[1;31;34m\n",
      "[\n",
      "    {\n",
      "        \"isTranslationSupported\": true,\n",
      "        \"isTransliterationSupported\": false,\n",
      "        \"language\": \"it\",\n",
      "        \"score\": 0.99\n",
      "    }\n",
      "]\n"
     ]
    }
   ],
   "source": [
    "path = \"/detect?api-version=3.0\"\n",
    "constructed_url = endpoint + path\n",
    "\n",
    "headers = {\n",
    "    \"Ocp-Apim-Subscription-Key\": key,\n",
    "    \"Ocp-Apim-Subscription-Region\": region,\n",
    "    \"Content-type\": \"application/json\",\n",
    "    \"X-ClientTraceId\": str(uuid.uuid4()),\n",
    "}\n",
    "\n",
    "\n",
    "request = requests.post(constructed_url, headers=headers, json=body)\n",
    "response = request.json()\n",
    "\n",
    "print(\"\\033[1;31;34m\")\n",
    "print(\n",
    "    json.dumps(\n",
    "        response, sort_keys=True, indent=4, ensure_ascii=False, separators=(\",\", \": \")\n",
    "    )\n",
    ")"
   ]
  },
  {
   "cell_type": "code",
   "execution_count": 7,
   "id": "a67b80c1",
   "metadata": {},
   "outputs": [],
   "source": [
    "body = [{\"text\": \"こんにちは\"}]"
   ]
  },
  {
   "cell_type": "code",
   "execution_count": 8,
   "id": "88d460b9",
   "metadata": {},
   "outputs": [
    {
     "name": "stdout",
     "output_type": "stream",
     "text": [
      "\u001b[1;31;34m\n",
      "[\n",
      "    {\n",
      "        \"isTranslationSupported\": true,\n",
      "        \"isTransliterationSupported\": true,\n",
      "        \"language\": \"ja\",\n",
      "        \"score\": 1.0\n",
      "    }\n",
      "]\n"
     ]
    }
   ],
   "source": [
    "request = requests.post(constructed_url, headers=headers, json=body)\n",
    "response = request.json()\n",
    "\n",
    "print(\"\\033[1;31;34m\")\n",
    "print(\n",
    "    json.dumps(\n",
    "        response, sort_keys=True, indent=4, ensure_ascii=False, separators=(\",\", \": \")\n",
    "    )\n",
    ")"
   ]
  },
  {
   "cell_type": "code",
   "execution_count": 9,
   "id": "a2b27d39",
   "metadata": {},
   "outputs": [],
   "source": [
    "body = [{\"text\": \"Bonjour à tous\"}]"
   ]
  },
  {
   "cell_type": "code",
   "execution_count": 10,
   "id": "65f73db3",
   "metadata": {},
   "outputs": [
    {
     "name": "stdout",
     "output_type": "stream",
     "text": [
      "\u001b[1;31;34m\n",
      "[\n",
      "    {\n",
      "        \"isTranslationSupported\": true,\n",
      "        \"isTransliterationSupported\": false,\n",
      "        \"language\": \"fr\",\n",
      "        \"score\": 1.0\n",
      "    }\n",
      "]\n"
     ]
    }
   ],
   "source": [
    "request = requests.post(constructed_url, headers=headers, json=body)\n",
    "response = request.json()\n",
    "\n",
    "print(\"\\033[1;31;34m\")\n",
    "print(\n",
    "    json.dumps(\n",
    "        response, sort_keys=True, indent=4, ensure_ascii=False, separators=(\",\", \": \")\n",
    "    )\n",
    ")"
   ]
  },
  {
   "cell_type": "code",
   "execution_count": 11,
   "id": "4b7c9628",
   "metadata": {},
   "outputs": [],
   "source": [
    "body = [{\"text\": \"مَسَاءُ الْخَيْرْ\"}]"
   ]
  },
  {
   "cell_type": "code",
   "execution_count": 12,
   "id": "4b7bea6e",
   "metadata": {},
   "outputs": [
    {
     "name": "stdout",
     "output_type": "stream",
     "text": [
      "\u001b[1;31;34m\n",
      "[\n",
      "    {\n",
      "        \"isTranslationSupported\": true,\n",
      "        \"isTransliterationSupported\": true,\n",
      "        \"language\": \"ar\",\n",
      "        \"score\": 0.98\n",
      "    }\n",
      "]\n"
     ]
    }
   ],
   "source": [
    "request = requests.post(constructed_url, headers=headers, json=body)\n",
    "response = request.json()\n",
    "\n",
    "print(\"\\033[1;31;34m\")\n",
    "print(\n",
    "    json.dumps(\n",
    "        response, sort_keys=True, indent=4, ensure_ascii=False, separators=(\",\", \": \")\n",
    "    )\n",
    ")"
   ]
  },
  {
   "cell_type": "code",
   "execution_count": 13,
   "id": "e4aaf80a",
   "metadata": {},
   "outputs": [],
   "source": [
    "body = [{\"text\": \"안녕하세요\"}]"
   ]
  },
  {
   "cell_type": "code",
   "execution_count": 14,
   "id": "2525505a",
   "metadata": {},
   "outputs": [
    {
     "name": "stdout",
     "output_type": "stream",
     "text": [
      "\u001b[1;31;34m\n",
      "[\n",
      "    {\n",
      "        \"isTranslationSupported\": true,\n",
      "        \"isTransliterationSupported\": true,\n",
      "        \"language\": \"ko\",\n",
      "        \"score\": 1.0\n",
      "    }\n",
      "]\n"
     ]
    }
   ],
   "source": [
    "request = requests.post(constructed_url, headers=headers, json=body)\n",
    "response = request.json()\n",
    "\n",
    "print(\"\\033[1;31;34m\")\n",
    "print(\n",
    "    json.dumps(\n",
    "        response, sort_keys=True, indent=4, ensure_ascii=False, separators=(\",\", \": \")\n",
    "    )\n",
    ")"
   ]
  },
  {
   "cell_type": "code",
   "execution_count": null,
   "id": "29e30e20",
   "metadata": {},
   "outputs": [],
   "source": []
  }
 ],
 "metadata": {
  "kernelspec": {
   "display_name": "Python 3.10 - SDK v2",
   "language": "python",
   "name": "python310-sdkv2"
  },
  "language_info": {
   "codemirror_mode": {
    "name": "ipython",
    "version": 3
   },
   "file_extension": ".py",
   "mimetype": "text/x-python",
   "name": "python",
   "nbconvert_exporter": "python",
   "pygments_lexer": "ipython3",
   "version": "3.10.11"
  }
 },
 "nbformat": 4,
 "nbformat_minor": 5
}
