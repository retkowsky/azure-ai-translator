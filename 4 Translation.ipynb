{
 "cells": [
  {
   "cell_type": "markdown",
   "id": "69571d21",
   "metadata": {},
   "source": [
    "# Translation with Azure AI Translator\n",
    "\n",
    "https://learn.microsoft.com/en-us/azure/ai-services/translator/text-translation-overview"
   ]
  },
  {
   "cell_type": "markdown",
   "id": "fdfb04c7",
   "metadata": {},
   "source": [
    "<img src=\"webapp1.jpg\">"
   ]
  },
  {
   "cell_type": "code",
   "execution_count": 1,
   "id": "d56c0e34",
   "metadata": {},
   "outputs": [],
   "source": [
    "# %pip install azure-ai-translation-text==1.0.0b1"
   ]
  },
  {
   "cell_type": "code",
   "execution_count": 22,
   "id": "5b1ec5fd",
   "metadata": {},
   "outputs": [],
   "source": [
    "import datetime\n",
    "import gradio as gr\n",
    "import pandas as pd\n",
    "import sys\n",
    "\n",
    "from azure.ai.translation.text import TextTranslationClient, TranslatorCredential\n",
    "from azure.ai.translation.text.models import InputTextItem\n",
    "from azure.core.exceptions import HttpResponseError\n",
    "from dotenv import load_dotenv"
   ]
  },
  {
   "cell_type": "code",
   "execution_count": 3,
   "id": "ca2fe57d",
   "metadata": {},
   "outputs": [
    {
     "data": {
      "text/plain": [
       "'3.10.11 (main, May 16 2023, 00:28:57) [GCC 11.2.0]'"
      ]
     },
     "execution_count": 3,
     "metadata": {},
     "output_type": "execute_result"
    }
   ],
   "source": [
    "sys.version"
   ]
  },
  {
   "cell_type": "code",
   "execution_count": 4,
   "id": "18158f38",
   "metadata": {},
   "outputs": [
    {
     "name": "stdout",
     "output_type": "stream",
     "text": [
      "Today is 11-Apr-2024 12:41:02\n"
     ]
    }
   ],
   "source": [
    "print(f\"Today is {datetime.datetime.today().strftime('%d-%b-%Y %H:%M:%S')}\")"
   ]
  },
  {
   "cell_type": "markdown",
   "id": "6ebab494",
   "metadata": {},
   "source": [
    "## Azure AI Translator credentials"
   ]
  },
  {
   "cell_type": "code",
   "execution_count": 5,
   "id": "6ed00739",
   "metadata": {},
   "outputs": [],
   "source": [
    "load_dotenv(\"azure.env\")\n",
    "\n",
    "azure_ai_translator_key = os.getenv(\"AZURE_AI_TRANSLATION_KEY\")\n",
    "azure_ai_translator_endpoint = os.getenv(\"AZURE_AI_TRANSLATION_ENDPOINT\")\n",
    "azure_ai_translator_region = os.getenv(\"AZURE_AI_TRANSLATION_REGION\")"
   ]
  },
  {
   "cell_type": "code",
   "execution_count": 6,
   "id": "fd76cc61",
   "metadata": {},
   "outputs": [],
   "source": [
    "credential = TranslatorCredential(azure_ai_translator_key, azure_ai_translator_region)\n",
    "\n",
    "text_translator = TextTranslationClient(\n",
    "    endpoint=azure_ai_translator_endpoint, credential=credential)"
   ]
  },
  {
   "cell_type": "markdown",
   "id": "276a5455",
   "metadata": {},
   "source": [
    "## Testing"
   ]
  },
  {
   "cell_type": "code",
   "execution_count": 7,
   "id": "ae33d769",
   "metadata": {},
   "outputs": [
    {
     "name": "stdout",
     "output_type": "stream",
     "text": [
      "\u001b[1;31;34m\n",
      "Detected languages of the input text: en with score = 1.0\n",
      "\n",
      "Text was translated to: 'fr' and the result is: 'Azure est une plateforme de cloud computing gérée par Microsoft. Il offre l’accès, la gestion et le développement d’applications et de services via des centres de données mondiaux'.\n"
     ]
    }
   ],
   "source": [
    "try:\n",
    "    target_languages = [\"fr\"]\n",
    "    input_text_elements = [InputTextItem(text=\"Azure is a cloud computing platform run by Microsoft. It offers access, management, and the development of applications and services through global data centers\")]\n",
    "\n",
    "    response = text_translator.translate(\n",
    "        content=input_text_elements, to=target_languages)\n",
    "    translation = response[0] if response else None\n",
    "\n",
    "    if translation:\n",
    "        detected_language = translation.detected_language\n",
    "        print(\"\\033[1;31;34m\")\n",
    "        if detected_language:\n",
    "            print(\n",
    "                f\"Detected languages of the input text: {detected_language.language} with score = {detected_language.score}\"\n",
    "            )\n",
    "        print()\n",
    "        for translated_text in translation.translations:\n",
    "            print(\n",
    "                f\"Text was translated to: '{translated_text.to}' and the result is: '{translated_text.text}'.\")\n",
    "\n",
    "except HttpResponseError as exception:\n",
    "    if exception.error is not None:\n",
    "        print(f\"Error Code: {exception.error.code}\")\n",
    "        print()\n",
    "        print(f\"Message: {exception.error.message}\")\n",
    "    raise"
   ]
  },
  {
   "cell_type": "code",
   "execution_count": 8,
   "id": "908473f4",
   "metadata": {},
   "outputs": [
    {
     "name": "stdout",
     "output_type": "stream",
     "text": [
      "\u001b[1;31;34m\n",
      "Detected languages of the input text: fr with score = 1.0.\n",
      "\n",
      "Text was translated to: 'ko' and the result is: '다시 한 번 감사드립니다. 곧  봐요.'.\n"
     ]
    }
   ],
   "source": [
    "try:\n",
    "    target_languages = [\"ko\"]\n",
    "    input_text_elements = [InputTextItem(text=\"Merci encore. A bientôt.\")]\n",
    "\n",
    "    response = text_translator.translate(\n",
    "        content=input_text_elements, to=target_languages)\n",
    "    translation = response[0] if response else None\n",
    "\n",
    "    if translation:\n",
    "        detected_language = translation.detected_language\n",
    "        print(\"\\033[1;31;34m\")\n",
    "        \n",
    "        if detected_language:\n",
    "            print(\n",
    "                f\"Detected languages of the input text: {detected_language.language} with score = {detected_language.score}.\"\n",
    "            )\n",
    "            print()\n",
    "        for translated_text in translation.translations:\n",
    "            print(\n",
    "                f\"Text was translated to: '{translated_text.to}' and the result is: '{translated_text.text}'.\")\n",
    "\n",
    "except HttpResponseError as exception:\n",
    "    if exception.error is not None:\n",
    "        print(f\"Error Code: {exception.error.code}\")\n",
    "        print(f\"Message: {exception.error.message}\")\n",
    "    raise"
   ]
  },
  {
   "cell_type": "code",
   "execution_count": 9,
   "id": "21f06c2c",
   "metadata": {},
   "outputs": [],
   "source": [
    "mytext = \"Quel est le temps de trajet de Paris à Versailles ?\""
   ]
  },
  {
   "cell_type": "code",
   "execution_count": 10,
   "id": "89112229",
   "metadata": {},
   "outputs": [
    {
     "name": "stdout",
     "output_type": "stream",
     "text": [
      "Text to translate: Quel est le temps de trajet de Paris à Versailles ?\n",
      "\u001b[1;31;34m\n",
      "Translated to code: 'es' ==> '¿Cuál es el tiempo de viaje de París a Versalles?'.\n",
      "Translated to code: 'it' ==> 'Qual è la durata del viaggio da Parigi a Versailles?'.\n",
      "Translated to code: 'de' ==> 'Wie lange dauert die Fahrt von Paris nach Versailles?'.\n",
      "Translated to code: 'en' ==> 'What is the travel time from Paris to Versailles?'.\n",
      "Translated to code: 'el' ==> 'Ποιος είναι ο χρόνος ταξιδιού από το Παρίσι στις Βερσαλλίες;'.\n",
      "Translated to code: 'mn-Mong' ==> 'ᠫᠠᠷᠢᠰ ᠠᠴᠠ ᠹᠠᠨᠯᠰᠠᠢ ᠣᠷᠳᠣᠨ ᠬᠦᠷᠬᠦ ᠵᠢᠭᠤᠯᠴᠢᠯᠠᠯ ᠤᠨ ᠴᠠᠭ ᠨᠢ ᠬᠡᠳᠦᠢ ᠪᠤᠢ ?'.\n",
      "Translated to code: 'ko' ==> '파리에서 베르사유까지가는 데 걸리는 시간은 얼마입니까?'.\n",
      "Translated to code: 'fa' ==> 'زمان سفر از پاریس به ورسای چقدر است؟'.\n",
      "Translated to code: 'ru' ==> 'Сколько времени занимает поездка из Парижа в Версаль?'.\n",
      "Translated to code: 'ar' ==> 'ما هو وقت السفر من باريس إلى فرساي؟'.\n"
     ]
    }
   ],
   "source": [
    "try:\n",
    "    source_language = \"fr\"\n",
    "    target_languages = [\"es\", \"it\", \"de\", \"en\",\n",
    "                        \"el\", \"mn-Mong\", \"ko\", \"fa\", \"ru\", \"ar\"]\n",
    "    input_text_elements = [InputTextItem(text=mytext)]\n",
    "\n",
    "    response = text_translator.translate(content=input_text_elements,\n",
    "                                         to=target_languages,\n",
    "                                         from_parameter=source_language)\n",
    "    translation = response[0] if response else None\n",
    "\n",
    "    print(\"Text to translate:\", mytext)\n",
    "\n",
    "    if translation:\n",
    "        print(\"\\033[1;31;34m\")\n",
    "        for translated_text in translation.translations:\n",
    "            print(\n",
    "                f\"Translated to code: '{translated_text.to}' ==> '{translated_text.text}'.\")\n",
    "\n",
    "except HttpResponseError as exception:\n",
    "    print(f\"Error Code: {exception.error.code}\")\n",
    "    print(f\"Message: {exception.error.message}\")"
   ]
  },
  {
   "cell_type": "markdown",
   "id": "2f2d34aa",
   "metadata": {},
   "source": [
    "## Webapp"
   ]
  },
  {
   "cell_type": "markdown",
   "id": "8084d4d6",
   "metadata": {},
   "source": [
    "https://learn.microsoft.com/en-us/azure/ai-services/translator/language-support"
   ]
  },
  {
   "cell_type": "code",
   "execution_count": 11,
   "id": "59b80fb1",
   "metadata": {},
   "outputs": [],
   "source": [
    "credential = TranslatorCredential(azure_ai_translator_key, azure_ai_translator_region)\n",
    "\n",
    "text_translator = TextTranslationClient(\n",
    "    endpoint=azure_ai_translator_endpoint, credential=credential)"
   ]
  },
  {
   "cell_type": "code",
   "execution_count": 12,
   "id": "1a145b96",
   "metadata": {},
   "outputs": [
    {
     "name": "stdout",
     "output_type": "stream",
     "text": [
      "Number of supported languages for translate operation: 135\n",
      "Number of supported languages for transliterate operation: 42\n",
      "Number of supported languages for dictionary operations: 50\n",
      "\n",
      "Translation Languages:\n",
      "1 af -- name: Afrikaans (Afrikaans)\n",
      "2 am -- name: Amharic (አማርኛ)\n",
      "3 ar -- name: Arabic (العربية)\n",
      "4 as -- name: Assamese (অসমীয়া)\n",
      "5 az -- name: Azerbaijani (Azərbaycan)\n",
      "6 ba -- name: Bashkir (Bashkir)\n",
      "7 bg -- name: Bulgarian (Български)\n",
      "8 bho -- name: Bhojpuri (Bhojpuri)\n",
      "9 bn -- name: Bangla (বাংলা)\n",
      "10 bo -- name: Tibetan (བོད་སྐད་)\n",
      "11 brx -- name: Bodo (बड़ो)\n",
      "12 bs -- name: Bosnian (Bosnian)\n",
      "13 ca -- name: Catalan (Català)\n",
      "14 cs -- name: Czech (Čeština)\n",
      "15 cy -- name: Welsh (Cymraeg)\n",
      "16 da -- name: Danish (Dansk)\n",
      "17 de -- name: German (Deutsch)\n",
      "18 doi -- name: Dogri (Dogri)\n",
      "19 dsb -- name: Lower Sorbian (Dolnoserbšćina)\n",
      "20 dv -- name: Divehi (ދިވެހިބަސް)\n",
      "21 el -- name: Greek (Ελληνικά)\n",
      "22 en -- name: English (English)\n",
      "23 es -- name: Spanish (Español)\n",
      "24 et -- name: Estonian (Eesti)\n",
      "25 eu -- name: Basque (Euskara)\n",
      "26 fa -- name: Persian (فارسی)\n",
      "27 fi -- name: Finnish (Suomi)\n",
      "28 fil -- name: Filipino (Filipino)\n",
      "29 fj -- name: Fijian (Na Vosa Vakaviti)\n",
      "30 fo -- name: Faroese (Føroyskt)\n",
      "31 fr -- name: French (Français)\n",
      "32 fr-CA -- name: French (Canada) (Français (Canada))\n",
      "33 ga -- name: Irish (Gaeilge)\n",
      "34 gl -- name: Galician (Galego)\n",
      "35 gom -- name: Konkani (Konkani)\n",
      "36 gu -- name: Gujarati (ગુજરાતી)\n",
      "37 ha -- name: Hausa (Hausa)\n",
      "38 he -- name: Hebrew (עברית)\n",
      "39 hi -- name: Hindi (हिन्दी)\n",
      "40 hne -- name: Chhattisgarhi (Chhattisgarhi)\n",
      "41 hr -- name: Croatian (Hrvatski)\n",
      "42 hsb -- name: Upper Sorbian (Hornjoserbšćina)\n",
      "43 ht -- name: Haitian Creole (Haitian Creole)\n",
      "44 hu -- name: Hungarian (Magyar)\n",
      "45 hy -- name: Armenian (Հայերեն)\n",
      "46 id -- name: Indonesian (Indonesia)\n",
      "47 ig -- name: Igbo (Ásụ̀sụ́ Ìgbò)\n",
      "48 ikt -- name: Inuinnaqtun (Inuinnaqtun)\n",
      "49 is -- name: Icelandic (Íslenska)\n",
      "50 it -- name: Italian (Italiano)\n",
      "51 iu -- name: Inuktitut (ᐃᓄᒃᑎᑐᑦ)\n",
      "52 iu-Latn -- name: Inuktitut (Latin) (Inuktitut (Latin))\n",
      "53 ja -- name: Japanese (日本語)\n",
      "54 ka -- name: Georgian (ქართული)\n",
      "55 kk -- name: Kazakh (Қазақ Тілі)\n",
      "56 km -- name: Khmer (ខ្មែរ)\n",
      "57 kmr -- name: Kurdish (Northern) (Kurdî (Bakur))\n",
      "58 kn -- name: Kannada (ಕನ್ನಡ)\n",
      "59 ko -- name: Korean (한국어)\n",
      "60 ks -- name: Kashmiri (کٲشُر)\n",
      "61 ku -- name: Kurdish (Central) (Kurdî (Navîn))\n",
      "62 ky -- name: Kyrgyz (Кыргызча)\n",
      "63 ln -- name: Lingala (Lingála)\n",
      "64 lo -- name: Lao (ລາວ)\n",
      "65 lt -- name: Lithuanian (Lietuvių)\n",
      "66 lug -- name: Ganda (Ganda)\n",
      "67 lv -- name: Latvian (Latviešu)\n",
      "68 lzh -- name: Chinese (Literary) (中文 (文言文))\n",
      "69 mai -- name: Maithili (Maithili)\n",
      "70 mg -- name: Malagasy (Malagasy)\n",
      "71 mi -- name: Māori (Te Reo Māori)\n",
      "72 mk -- name: Macedonian (Македонски)\n",
      "73 ml -- name: Malayalam (മലയാളം)\n",
      "74 mn-Cyrl -- name: Mongolian (Cyrillic) (Mongolian (Cyrillic))\n",
      "75 mn-Mong -- name: Mongolian (Traditional) (ᠮᠣᠩᠭᠣᠯ ᠬᠡᠯᠡ)\n",
      "76 mni -- name: Manipuri (ꯃꯩꯇꯩꯂꯣꯟ)\n",
      "77 mr -- name: Marathi (मराठी)\n",
      "78 ms -- name: Malay (Melayu)\n",
      "79 mt -- name: Maltese (Malti)\n",
      "80 mww -- name: Hmong Daw (Hmong Daw)\n",
      "81 my -- name: Myanmar (Burmese) (မြန်မာ)\n",
      "82 nb -- name: Norwegian (Norsk Bokmål)\n",
      "83 ne -- name: Nepali (नेपाली)\n",
      "84 nl -- name: Dutch (Nederlands)\n",
      "85 nso -- name: Sesotho sa Leboa (Sesotho sa Leboa)\n",
      "86 nya -- name: Nyanja (Nyanja)\n",
      "87 or -- name: Odia (ଓଡ଼ିଆ)\n",
      "88 otq -- name: Querétaro Otomi (Hñähñu)\n",
      "89 pa -- name: Punjabi (ਪੰਜਾਬੀ)\n",
      "90 pl -- name: Polish (Polski)\n",
      "91 prs -- name: Dari (دری)\n",
      "92 ps -- name: Pashto (پښتو)\n",
      "93 pt -- name: Portuguese (Brazil) (Português (Brasil))\n",
      "94 pt-PT -- name: Portuguese (Portugal) (Português (Portugal))\n",
      "95 ro -- name: Romanian (Română)\n",
      "96 ru -- name: Russian (Русский)\n",
      "97 run -- name: Rundi (Rundi)\n",
      "98 rw -- name: Kinyarwanda (Kinyarwanda)\n",
      "99 sd -- name: Sindhi (سنڌي)\n",
      "100 si -- name: Sinhala (සිංහල)\n",
      "101 sk -- name: Slovak (Slovenčina)\n",
      "102 sl -- name: Slovenian (Slovenščina)\n",
      "103 sm -- name: Samoan (Gagana Sāmoa)\n",
      "104 sn -- name: Shona (chiShona)\n",
      "105 so -- name: Somali (Soomaali)\n",
      "106 sq -- name: Albanian (Shqip)\n",
      "107 sr-Cyrl -- name: Serbian (Cyrillic) (Српски (ћирилица))\n",
      "108 sr-Latn -- name: Serbian (Latin) (Srpski (latinica))\n",
      "109 st -- name: Sesotho (Sesotho)\n",
      "110 sv -- name: Swedish (Svenska)\n",
      "111 sw -- name: Swahili (Kiswahili)\n",
      "112 ta -- name: Tamil (தமிழ்)\n",
      "113 te -- name: Telugu (తెలుగు)\n",
      "114 th -- name: Thai (ไทย)\n",
      "115 ti -- name: Tigrinya (ትግር)\n",
      "116 tk -- name: Turkmen (Türkmen Dili)\n",
      "117 tlh-Latn -- name: Klingon (Latin) (Klingon (Latin))\n",
      "118 tlh-Piqd -- name: Klingon (pIqaD) (Klingon (pIqaD))\n",
      "119 tn -- name: Setswana (Setswana)\n",
      "120 to -- name: Tongan (Lea Fakatonga)\n",
      "121 tr -- name: Turkish (Türkçe)\n",
      "122 tt -- name: Tatar (Татар)\n",
      "123 ty -- name: Tahitian (Reo Tahiti)\n",
      "124 ug -- name: Uyghur (ئۇيغۇرچە)\n",
      "125 uk -- name: Ukrainian (Українська)\n",
      "126 ur -- name: Urdu (اردو)\n",
      "127 uz -- name: Uzbek (Latin) (Uzbek (Latin))\n",
      "128 vi -- name: Vietnamese (Tiếng Việt)\n",
      "129 xh -- name: Xhosa (isiXhosa)\n",
      "130 yo -- name: Yoruba (Èdè Yorùbá)\n",
      "131 yua -- name: Yucatec Maya (Yucatec Maya)\n",
      "132 yue -- name: Cantonese (Traditional) (粵語 (繁體))\n",
      "133 zh-Hans -- name: Chinese Simplified (中文 (简体))\n",
      "134 zh-Hant -- name: Chinese Traditional (繁體中文 (繁體))\n",
      "135 zu -- name: Zulu (Isi-Zulu)\n"
     ]
    }
   ],
   "source": [
    "try:\n",
    "    response = text_translator.get_languages()\n",
    "\n",
    "    print(\n",
    "        f\"Number of supported languages for translate operation: {len(response.translation) if response.translation is not None else 0}\"\n",
    "    )\n",
    "    print(\n",
    "        f\"Number of supported languages for transliterate operation: {len(response.transliteration) if response.transliteration is not None else 0}\"\n",
    "    )\n",
    "    print(\n",
    "        f\"Number of supported languages for dictionary operations: {len(response.dictionary) if response.dictionary is not None else 0}\"\n",
    "    )\n",
    "\n",
    "    print()\n",
    "\n",
    "    if response.translation is not None:\n",
    "        print(\"Translation Languages:\")\n",
    "        i = 1\n",
    "        for key, value in response.translation.items():\n",
    "            print(f\"{i} {key} -- name: {value.name} ({value.native_name})\")\n",
    "            i += 1\n",
    "\n",
    "except HttpResponseError as exception:\n",
    "    if exception.error is not None:\n",
    "        print(f\"Error Code: {exception.error.code}\")\n",
    "        print(f\"Message: {exception.error.message}\")\n",
    "    raise"
   ]
  },
  {
   "cell_type": "code",
   "execution_count": 13,
   "id": "712cc483",
   "metadata": {},
   "outputs": [
    {
     "data": {
      "text/html": [
       "<div>\n",
       "<style scoped>\n",
       "    .dataframe tbody tr th:only-of-type {\n",
       "        vertical-align: middle;\n",
       "    }\n",
       "\n",
       "    .dataframe tbody tr th {\n",
       "        vertical-align: top;\n",
       "    }\n",
       "\n",
       "    .dataframe thead th {\n",
       "        text-align: right;\n",
       "    }\n",
       "</style>\n",
       "<table border=\"1\" class=\"dataframe\">\n",
       "  <thead>\n",
       "    <tr style=\"text-align: right;\">\n",
       "      <th></th>\n",
       "      <th>Language_Code</th>\n",
       "      <th>Language_Name</th>\n",
       "      <th>Native_Name</th>\n",
       "    </tr>\n",
       "  </thead>\n",
       "  <tbody>\n",
       "    <tr>\n",
       "      <th>0</th>\n",
       "      <td>af</td>\n",
       "      <td>Afrikaans</td>\n",
       "      <td>Afrikaans</td>\n",
       "    </tr>\n",
       "    <tr>\n",
       "      <th>1</th>\n",
       "      <td>am</td>\n",
       "      <td>Amharic</td>\n",
       "      <td>አማርኛ</td>\n",
       "    </tr>\n",
       "    <tr>\n",
       "      <th>2</th>\n",
       "      <td>ar</td>\n",
       "      <td>Arabic</td>\n",
       "      <td>العربية</td>\n",
       "    </tr>\n",
       "    <tr>\n",
       "      <th>3</th>\n",
       "      <td>as</td>\n",
       "      <td>Assamese</td>\n",
       "      <td>অসমীয়া</td>\n",
       "    </tr>\n",
       "    <tr>\n",
       "      <th>4</th>\n",
       "      <td>az</td>\n",
       "      <td>Azerbaijani</td>\n",
       "      <td>Azərbaycan</td>\n",
       "    </tr>\n",
       "    <tr>\n",
       "      <th>...</th>\n",
       "      <td>...</td>\n",
       "      <td>...</td>\n",
       "      <td>...</td>\n",
       "    </tr>\n",
       "    <tr>\n",
       "      <th>130</th>\n",
       "      <td>yua</td>\n",
       "      <td>Yucatec Maya</td>\n",
       "      <td>Yucatec Maya</td>\n",
       "    </tr>\n",
       "    <tr>\n",
       "      <th>131</th>\n",
       "      <td>yue</td>\n",
       "      <td>Cantonese (Traditional)</td>\n",
       "      <td>粵語 (繁體)</td>\n",
       "    </tr>\n",
       "    <tr>\n",
       "      <th>132</th>\n",
       "      <td>zh-Hans</td>\n",
       "      <td>Chinese Simplified</td>\n",
       "      <td>中文 (简体)</td>\n",
       "    </tr>\n",
       "    <tr>\n",
       "      <th>133</th>\n",
       "      <td>zh-Hant</td>\n",
       "      <td>Chinese Traditional</td>\n",
       "      <td>繁體中文 (繁體)</td>\n",
       "    </tr>\n",
       "    <tr>\n",
       "      <th>134</th>\n",
       "      <td>zu</td>\n",
       "      <td>Zulu</td>\n",
       "      <td>Isi-Zulu</td>\n",
       "    </tr>\n",
       "  </tbody>\n",
       "</table>\n",
       "<p>135 rows × 3 columns</p>\n",
       "</div>"
      ],
      "text/plain": [
       "    Language_Code            Language_Name   Native_Name\n",
       "0              af                Afrikaans     Afrikaans\n",
       "1              am                  Amharic          አማርኛ\n",
       "2              ar                   Arabic       العربية\n",
       "3              as                 Assamese       অসমীয়া\n",
       "4              az              Azerbaijani    Azərbaycan\n",
       "..            ...                      ...           ...\n",
       "130           yua             Yucatec Maya  Yucatec Maya\n",
       "131           yue  Cantonese (Traditional)       粵語 (繁體)\n",
       "132       zh-Hans       Chinese Simplified       中文 (简体)\n",
       "133       zh-Hant      Chinese Traditional     繁體中文 (繁體)\n",
       "134            zu                     Zulu      Isi-Zulu\n",
       "\n",
       "[135 rows x 3 columns]"
      ]
     },
     "execution_count": 13,
     "metadata": {},
     "output_type": "execute_result"
    }
   ],
   "source": [
    "data = []\n",
    "\n",
    "if response.translation is not None:\n",
    "    for key, value in response.translation.items():\n",
    "        data.append({'Language_Code': key,\n",
    "                     'Language_Name': value.name,\n",
    "                     'Native_Name': value.native_name})\n",
    "\n",
    "df_languages = pd.DataFrame(data)\n",
    "df_languages"
   ]
  },
  {
   "cell_type": "code",
   "execution_count": 23,
   "id": "3bd207b5",
   "metadata": {},
   "outputs": [
    {
     "data": {
      "text/plain": [
       "{'af': 'Afrikaans',\n",
       " 'am': 'Amharic',\n",
       " 'ar': 'Arabic',\n",
       " 'as': 'Assamese',\n",
       " 'az': 'Azerbaijani',\n",
       " 'ba': 'Bashkir',\n",
       " 'bg': 'Bulgarian',\n",
       " 'bho': 'Bhojpuri',\n",
       " 'bn': 'Bangla',\n",
       " 'bo': 'Tibetan',\n",
       " 'brx': 'Bodo',\n",
       " 'bs': 'Bosnian',\n",
       " 'ca': 'Catalan',\n",
       " 'cs': 'Czech',\n",
       " 'cy': 'Welsh',\n",
       " 'da': 'Danish',\n",
       " 'de': 'German',\n",
       " 'doi': 'Dogri',\n",
       " 'dsb': 'Lower Sorbian',\n",
       " 'dv': 'Divehi',\n",
       " 'el': 'Greek',\n",
       " 'en': 'English',\n",
       " 'es': 'Spanish',\n",
       " 'et': 'Estonian',\n",
       " 'eu': 'Basque',\n",
       " 'fa': 'Persian',\n",
       " 'fi': 'Finnish',\n",
       " 'fil': 'Filipino',\n",
       " 'fj': 'Fijian',\n",
       " 'fo': 'Faroese',\n",
       " 'fr': 'French',\n",
       " 'fr-CA': 'French (Canada)',\n",
       " 'ga': 'Irish',\n",
       " 'gl': 'Galician',\n",
       " 'gom': 'Konkani',\n",
       " 'gu': 'Gujarati',\n",
       " 'ha': 'Hausa',\n",
       " 'he': 'Hebrew',\n",
       " 'hi': 'Hindi',\n",
       " 'hne': 'Chhattisgarhi',\n",
       " 'hr': 'Croatian',\n",
       " 'hsb': 'Upper Sorbian',\n",
       " 'ht': 'Haitian Creole',\n",
       " 'hu': 'Hungarian',\n",
       " 'hy': 'Armenian',\n",
       " 'id': 'Indonesian',\n",
       " 'ig': 'Igbo',\n",
       " 'ikt': 'Inuinnaqtun',\n",
       " 'is': 'Icelandic',\n",
       " 'it': 'Italian',\n",
       " 'iu': 'Inuktitut',\n",
       " 'iu-Latn': 'Inuktitut (Latin)',\n",
       " 'ja': 'Japanese',\n",
       " 'ka': 'Georgian',\n",
       " 'kk': 'Kazakh',\n",
       " 'km': 'Khmer',\n",
       " 'kmr': 'Kurdish (Northern)',\n",
       " 'kn': 'Kannada',\n",
       " 'ko': 'Korean',\n",
       " 'ks': 'Kashmiri',\n",
       " 'ku': 'Kurdish (Central)',\n",
       " 'ky': 'Kyrgyz',\n",
       " 'ln': 'Lingala',\n",
       " 'lo': 'Lao',\n",
       " 'lt': 'Lithuanian',\n",
       " 'lug': 'Ganda',\n",
       " 'lv': 'Latvian',\n",
       " 'lzh': 'Chinese (Literary)',\n",
       " 'mai': 'Maithili',\n",
       " 'mg': 'Malagasy',\n",
       " 'mi': 'Māori',\n",
       " 'mk': 'Macedonian',\n",
       " 'ml': 'Malayalam',\n",
       " 'mn-Cyrl': 'Mongolian (Cyrillic)',\n",
       " 'mn-Mong': 'Mongolian (Traditional)',\n",
       " 'mni': 'Manipuri',\n",
       " 'mr': 'Marathi',\n",
       " 'ms': 'Malay',\n",
       " 'mt': 'Maltese',\n",
       " 'mww': 'Hmong Daw',\n",
       " 'my': 'Myanmar (Burmese)',\n",
       " 'nb': 'Norwegian',\n",
       " 'ne': 'Nepali',\n",
       " 'nl': 'Dutch',\n",
       " 'nso': 'Sesotho sa Leboa',\n",
       " 'nya': 'Nyanja',\n",
       " 'or': 'Odia',\n",
       " 'otq': 'Querétaro Otomi',\n",
       " 'pa': 'Punjabi',\n",
       " 'pl': 'Polish',\n",
       " 'prs': 'Dari',\n",
       " 'ps': 'Pashto',\n",
       " 'pt': 'Portuguese (Brazil)',\n",
       " 'pt-PT': 'Portuguese (Portugal)',\n",
       " 'ro': 'Romanian',\n",
       " 'ru': 'Russian',\n",
       " 'run': 'Rundi',\n",
       " 'rw': 'Kinyarwanda',\n",
       " 'sd': 'Sindhi',\n",
       " 'si': 'Sinhala',\n",
       " 'sk': 'Slovak',\n",
       " 'sl': 'Slovenian',\n",
       " 'sm': 'Samoan',\n",
       " 'sn': 'Shona',\n",
       " 'so': 'Somali',\n",
       " 'sq': 'Albanian',\n",
       " 'sr-Cyrl': 'Serbian (Cyrillic)',\n",
       " 'sr-Latn': 'Serbian (Latin)',\n",
       " 'st': 'Sesotho',\n",
       " 'sv': 'Swedish',\n",
       " 'sw': 'Swahili',\n",
       " 'ta': 'Tamil',\n",
       " 'te': 'Telugu',\n",
       " 'th': 'Thai',\n",
       " 'ti': 'Tigrinya',\n",
       " 'tk': 'Turkmen',\n",
       " 'tlh-Latn': 'Klingon (Latin)',\n",
       " 'tlh-Piqd': 'Klingon (pIqaD)',\n",
       " 'tn': 'Setswana',\n",
       " 'to': 'Tongan',\n",
       " 'tr': 'Turkish',\n",
       " 'tt': 'Tatar',\n",
       " 'ty': 'Tahitian',\n",
       " 'ug': 'Uyghur',\n",
       " 'uk': 'Ukrainian',\n",
       " 'ur': 'Urdu',\n",
       " 'uz': 'Uzbek (Latin)',\n",
       " 'vi': 'Vietnamese',\n",
       " 'xh': 'Xhosa',\n",
       " 'yo': 'Yoruba',\n",
       " 'yua': 'Yucatec Maya',\n",
       " 'yue': 'Cantonese (Traditional)',\n",
       " 'zh-Hans': 'Chinese Simplified',\n",
       " 'zh-Hant': 'Chinese Traditional',\n",
       " 'zu': 'Zulu'}"
      ]
     },
     "execution_count": 23,
     "metadata": {},
     "output_type": "execute_result"
    }
   ],
   "source": [
    "language_dict = df_languages.set_index('Language_Code')['Language_Name'].to_dict()\n",
    "language_dict"
   ]
  },
  {
   "cell_type": "code",
   "execution_count": 15,
   "id": "1e0e0f19",
   "metadata": {},
   "outputs": [
    {
     "data": {
      "text/plain": [
       "135"
      ]
     },
     "execution_count": 15,
     "metadata": {},
     "output_type": "execute_result"
    }
   ],
   "source": [
    "language_full_names = list(language_dict.values())\n",
    "language_full_names.sort()\n",
    "len(language_full_names)"
   ]
  },
  {
   "cell_type": "code",
   "execution_count": 16,
   "id": "00c7299d",
   "metadata": {},
   "outputs": [],
   "source": [
    "language_codes = list(language_dict.keys())\n",
    "language_codes.sort()\n",
    "\n",
    "reverse_language_names = {v: k for k, v in language_dict.items()}"
   ]
  },
  {
   "cell_type": "code",
   "execution_count": 17,
   "id": "f03191ea",
   "metadata": {},
   "outputs": [],
   "source": [
    "def get_language_code(language_name):\n",
    "    # Function to get language code by language name\n",
    "    return reverse_language_names.get(language_name)"
   ]
  },
  {
   "cell_type": "code",
   "execution_count": 18,
   "id": "148c5e02",
   "metadata": {},
   "outputs": [
    {
     "data": {
      "text/plain": [
       "'fr'"
      ]
     },
     "execution_count": 18,
     "metadata": {},
     "output_type": "execute_result"
    }
   ],
   "source": [
    "# Quick test\n",
    "get_language_code(\"French\")"
   ]
  },
  {
   "cell_type": "code",
   "execution_count": 19,
   "id": "fdd3bc48",
   "metadata": {},
   "outputs": [],
   "source": [
    "def translate_fn(mytext, source_lang, target_lang):\n",
    "    \"\"\"\n",
    "    Translate the text from source lang to target lang\n",
    "    \"\"\"\n",
    "    source_lang = get_language_code(source_lang)\n",
    "    target_lang = get_language_code(target_lang)\n",
    "\n",
    "    target_lang = [target_lang]\n",
    "    input_text_elements = [InputTextItem(text=mytext)]\n",
    "    response = text_translator.translate(content=input_text_elements,\n",
    "                                         to=target_lang,\n",
    "                                         from_parameter=source_lang)\n",
    "\n",
    "    resp = response[0] if response else None\n",
    "\n",
    "    if resp:\n",
    "        for translated_text in resp.translations:\n",
    "            result = translated_text.text\n",
    "\n",
    "    return result"
   ]
  },
  {
   "cell_type": "code",
   "execution_count": 20,
   "id": "db86bd5a",
   "metadata": {},
   "outputs": [
    {
     "data": {
      "text/plain": [
       "'Bonjour'"
      ]
     },
     "execution_count": 20,
     "metadata": {},
     "output_type": "execute_result"
    }
   ],
   "source": [
    "# Quick test\n",
    "translate_fn(\"hello\", \"English\", \"French\")"
   ]
  },
  {
   "cell_type": "code",
   "execution_count": 21,
   "id": "6440cecc",
   "metadata": {},
   "outputs": [
    {
     "name": "stdout",
     "output_type": "stream",
     "text": [
      "Running on local URL:  http://127.0.0.1:7860\n",
      "Running on public URL: https://35b86eac92f9cf045f.gradio.live\n",
      "\n",
      "This share link expires in 72 hours. For free permanent hosting and GPU upgrades, run `gradio deploy` from Terminal to deploy to Spaces (https://huggingface.co/spaces)\n"
     ]
    },
    {
     "data": {
      "text/html": [
       "<div><iframe src=\"https://35b86eac92f9cf045f.gradio.live\" width=\"100%\" height=\"500\" allow=\"autoplay; camera; microphone; clipboard-read; clipboard-write;\" frameborder=\"0\" allowfullscreen></iframe></div>"
      ],
      "text/plain": [
       "<IPython.core.display.HTML object>"
      ]
     },
     "metadata": {},
     "output_type": "display_data"
    },
    {
     "data": {
      "text/plain": []
     },
     "execution_count": 21,
     "metadata": {},
     "output_type": "execute_result"
    }
   ],
   "source": [
    "image_url = \"https://th.bing.com/th/id/OIP.ngRD8aNJwXZ2B0eol5tFlwAAAA?rs=1&pid=ImgDetMain\"\n",
    "logo = \"<center> <img src= {} width=100px></center>\".format(image_url)\n",
    "\n",
    "translator_webapp = gr.Interface(\n",
    "    fn=translate_fn,\n",
    "    inputs=[\n",
    "        gr.components.Textbox(label=\"Text to translate\"),\n",
    "        gr.components.Dropdown(label=\"Source language\",\n",
    "                               choices=language_full_names),\n",
    "        gr.components.Dropdown(label=\"Target language\",\n",
    "                               choices=language_full_names),\n",
    "    ],\n",
    "    outputs=gr.Text(label=\"Translated text\"),\n",
    "    cache_examples=False,\n",
    "    title=\"Azure AI Translator\",\n",
    "    description=logo,\n",
    "    theme=\"JohnSmith9982/small_and_pretty\",\n",
    "    examples=[\n",
    "        [\n",
    "            \"Hello. Welcome to this presentation of Azure AI Translator\",\n",
    "            \"English\",\n",
    "            \"French\",\n",
    "        ],\n",
    "        [\n",
    "            \"Hola. Bienvenidos a esta presentación de Azure AI Translator\",\n",
    "            \"Spanish\",\n",
    "            \"Italian\",\n",
    "        ],\n",
    "        [\n",
    "            \"Bonjour à tous.\",\n",
    "            \"French\",\n",
    "            \"Arabic\",\n",
    "        ],\n",
    "    ],\n",
    ")\n",
    "\n",
    "translator_webapp.launch(share=True)"
   ]
  },
  {
   "cell_type": "code",
   "execution_count": null,
   "id": "18f9f9d2",
   "metadata": {},
   "outputs": [],
   "source": []
  },
  {
   "cell_type": "code",
   "execution_count": null,
   "id": "7b1a5de3",
   "metadata": {},
   "outputs": [],
   "source": []
  }
 ],
 "metadata": {
  "kernelspec": {
   "display_name": "Python 3.10 - SDK v2",
   "language": "python",
   "name": "python310-sdkv2"
  },
  "language_info": {
   "codemirror_mode": {
    "name": "ipython",
    "version": 3
   },
   "file_extension": ".py",
   "mimetype": "text/x-python",
   "name": "python",
   "nbconvert_exporter": "python",
   "pygments_lexer": "ipython3",
   "version": "3.10.11"
  }
 },
 "nbformat": 4,
 "nbformat_minor": 5
}
