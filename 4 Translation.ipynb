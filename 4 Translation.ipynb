{
 "cells": [
  {
   "cell_type": "markdown",
   "id": "69571d21",
   "metadata": {},
   "source": [
    "# Translation with Azure AI Translator\n",
    "\n",
    "https://learn.microsoft.com/en-us/azure/ai-services/translator/text-translation-overview"
   ]
  },
  {
   "cell_type": "markdown",
   "id": "fdfb04c7",
   "metadata": {},
   "source": [
    "<img src=\"https://github.com/retkowsky/azure-ai-translator/blob/main/webapp1.jpg?raw=true\">"
   ]
  },
  {
   "cell_type": "code",
   "execution_count": 1,
   "id": "5b1ec5fd",
   "metadata": {},
   "outputs": [],
   "source": [
    "import datetime\n",
    "import gradio as gr\n",
    "import pandas as pd\n",
    "import sys\n",
    "\n",
    "from azure.ai.translation.text import TextTranslationClient\n",
    "from azure.core.credentials import AzureKeyCredential\n",
    "from azure.ai.translation.text.models import InputTextItem\n",
    "from azure.core.exceptions import HttpResponseError\n",
    "from dotenv import load_dotenv"
   ]
  },
  {
   "cell_type": "code",
   "execution_count": 2,
   "id": "ca2fe57d",
   "metadata": {},
   "outputs": [
    {
     "data": {
      "text/plain": [
       "'3.10.14 (main, May  6 2024, 19:42:50) [GCC 11.2.0]'"
      ]
     },
     "execution_count": 2,
     "metadata": {},
     "output_type": "execute_result"
    }
   ],
   "source": [
    "sys.version"
   ]
  },
  {
   "cell_type": "code",
   "execution_count": 3,
   "id": "18158f38",
   "metadata": {},
   "outputs": [
    {
     "name": "stdout",
     "output_type": "stream",
     "text": [
      "Today is 05-Mar-2025 11:14:13\n"
     ]
    }
   ],
   "source": [
    "print(f\"Today is {datetime.datetime.today().strftime('%d-%b-%Y %H:%M:%S')}\")"
   ]
  },
  {
   "cell_type": "markdown",
   "id": "6ebab494",
   "metadata": {},
   "source": [
    "## Azure AI Translator credentials"
   ]
  },
  {
   "cell_type": "code",
   "execution_count": 4,
   "id": "6ed00739",
   "metadata": {},
   "outputs": [],
   "source": [
    "load_dotenv(\"azure.env\")\n",
    "\n",
    "azure_ai_translator_key = os.getenv(\"AZURE_AI_TRANSLATION_KEY\")\n",
    "azure_ai_translator_region = os.getenv(\"AZURE_AI_TRANSLATION_REGION\")"
   ]
  },
  {
   "cell_type": "code",
   "execution_count": 5,
   "id": "fd76cc61",
   "metadata": {},
   "outputs": [],
   "source": [
    "credential = AzureKeyCredential(azure_ai_translator_key)\n",
    "\n",
    "text_translator = TextTranslationClient(\n",
    "    credential=credential,\n",
    "    region=azure_ai_translator_region\n",
    ")"
   ]
  },
  {
   "cell_type": "code",
   "execution_count": 6,
   "id": "a9a16b1c-40b2-4223-ad7b-17224049f504",
   "metadata": {},
   "outputs": [],
   "source": [
    "response = text_translator.get_supported_languages()"
   ]
  },
  {
   "cell_type": "code",
   "execution_count": 7,
   "id": "51b88bbf-191e-42e6-a720-a5fc129cb5c0",
   "metadata": {},
   "outputs": [],
   "source": [
    "def print_languages(label, languages):\n",
    "        \"\"\"\n",
    "        Print supported languages of Azure AI Translator\n",
    "        \"\"\"\n",
    "        print(\"\\033[1;31;34m\")\n",
    "        \n",
    "        if languages is not None:\n",
    "            print(f\"Number of supported {label} languages = {len(languages)}\\n\")\n",
    "            print(f\"{label.capitalize()} languages:\")\n",
    "\n",
    "            for idx, (key, value) in enumerate(languages.items(), start=1):\n",
    "                print(f\"{idx:03}\\t{key:10} {value.name} ({value.native_name})\")\n",
    "\n",
    "        else:\n",
    "            print(f\"No supported {label} languages.\")"
   ]
  },
  {
   "cell_type": "code",
   "execution_count": 8,
   "id": "7fb02043-220d-48e0-a4a4-3fdf158b36da",
   "metadata": {},
   "outputs": [
    {
     "name": "stdout",
     "output_type": "stream",
     "text": [
      "\u001b[1;31;34m\n",
      "Number of supported translation languages = 135\n",
      "\n",
      "Translation languages:\n",
      "001\taf         Afrikaans (Afrikaans)\n",
      "002\tam         Amharic (አማርኛ)\n",
      "003\tar         Arabic (العربية)\n",
      "004\tas         Assamese (অসমীয়া)\n",
      "005\taz         Azerbaijani (Azərbaycan)\n",
      "006\tba         Bashkir (Bashkir)\n",
      "007\tbg         Bulgarian (Български)\n",
      "008\tbho        Bhojpuri (भोजपुरी)\n",
      "009\tbn         Bangla (বাংলা)\n",
      "010\tbo         Tibetan (བོད་སྐད་)\n",
      "011\tbrx        Bodo (बड़ो)\n",
      "012\tbs         Bosnian (Bosanski)\n",
      "013\tca         Catalan (Català)\n",
      "014\tcs         Czech (Čeština)\n",
      "015\tcy         Welsh (Cymraeg)\n",
      "016\tda         Danish (Dansk)\n",
      "017\tde         German (Deutsch)\n",
      "018\tdoi        Dogri (डोगरी)\n",
      "019\tdsb        Lower Sorbian (Dolnoserbšćina)\n",
      "020\tdv         Divehi (ދިވެހިބަސް)\n",
      "021\tel         Greek (Ελληνικά)\n",
      "022\ten         English (English)\n",
      "023\tes         Spanish (Español)\n",
      "024\tet         Estonian (Eesti)\n",
      "025\teu         Basque (Euskara)\n",
      "026\tfa         Persian (فارسی)\n",
      "027\tfi         Finnish (Suomi)\n",
      "028\tfil        Filipino (Filipino)\n",
      "029\tfj         Fijian (Na Vosa Vakaviti)\n",
      "030\tfo         Faroese (Føroyskt)\n",
      "031\tfr         French (Français)\n",
      "032\tfr-CA      French (Canada) (Français (Canada))\n",
      "033\tga         Irish (Gaeilge)\n",
      "034\tgl         Galician (Galego)\n",
      "035\tgom        Konkani (कोंकणी)\n",
      "036\tgu         Gujarati (ગુજરાતી)\n",
      "037\tha         Hausa (Hausa)\n",
      "038\the         Hebrew (עברית)\n",
      "039\thi         Hindi (हिन्दी)\n",
      "040\thne        Chhattisgarhi (छत्तीसगढ़ी)\n",
      "041\thr         Croatian (Hrvatski)\n",
      "042\thsb        Upper Sorbian (Hornjoserbšćina)\n",
      "043\tht         Haitian Creole (Haitian Creole)\n",
      "044\thu         Hungarian (Magyar)\n",
      "045\thy         Armenian (Հայերեն)\n",
      "046\tid         Indonesian (Indonesia)\n",
      "047\tig         Igbo (Ásụ̀sụ́ Ìgbò)\n",
      "048\tikt        Inuinnaqtun (Inuinnaqtun)\n",
      "049\tis         Icelandic (Íslenska)\n",
      "050\tit         Italian (Italiano)\n",
      "051\tiu         Inuktitut (ᐃᓄᒃᑎᑐᑦ)\n",
      "052\tiu-Latn    Inuktitut (Latin) (Inuktitut (Latin))\n",
      "053\tja         Japanese (日本語)\n",
      "054\tka         Georgian (ქართული)\n",
      "055\tkk         Kazakh (Қазақ Тілі)\n",
      "056\tkm         Khmer (ខ្មែរ)\n",
      "057\tkmr        Kurdish (Northern) (Kurdî (Bakur))\n",
      "058\tkn         Kannada (ಕನ್ನಡ)\n",
      "059\tko         Korean (한국어)\n",
      "060\tks         Kashmiri (کٲشُر)\n",
      "061\tku         Kurdish (Central) (Kurdî (Navîn))\n",
      "062\tky         Kyrgyz (Кыргызча)\n",
      "063\tln         Lingala (Lingála)\n",
      "064\tlo         Lao (ລາວ)\n",
      "065\tlt         Lithuanian (Lietuvių)\n",
      "066\tlug        Ganda (Ganda)\n",
      "067\tlv         Latvian (Latviešu)\n",
      "068\tlzh        Chinese (Literary) (中文 (文言文))\n",
      "069\tmai        Maithili (मैथिली)\n",
      "070\tmg         Malagasy (Malagasy)\n",
      "071\tmi         Māori (Te Reo Māori)\n",
      "072\tmk         Macedonian (Македонски)\n",
      "073\tml         Malayalam (മലയാളം)\n",
      "074\tmn-Cyrl    Mongolian (Cyrillic) (Монгол)\n",
      "075\tmn-Mong    Mongolian (Traditional) (ᠮᠣᠩᠭᠣᠯ ᠬᠡᠯᠡ)\n",
      "076\tmni        Manipuri (ꯃꯩꯇꯩꯂꯣꯟ)\n",
      "077\tmr         Marathi (मराठी)\n",
      "078\tms         Malay (Melayu)\n",
      "079\tmt         Maltese (Malti)\n",
      "080\tmww        Hmong Daw (Hmong Daw)\n",
      "081\tmy         Myanmar (Burmese) (မြန်မာ)\n",
      "082\tnb         Norwegian (Norsk Bokmål)\n",
      "083\tne         Nepali (नेपाली)\n",
      "084\tnl         Dutch (Nederlands)\n",
      "085\tnso        Sesotho sa Leboa (Sesotho sa Leboa)\n",
      "086\tnya        Nyanja (Nyanja)\n",
      "087\tor         Odia (ଓଡ଼ିଆ)\n",
      "088\totq        Querétaro Otomi (Hñähñu)\n",
      "089\tpa         Punjabi (ਪੰਜਾਬੀ)\n",
      "090\tpl         Polish (Polski)\n",
      "091\tprs        Dari (دری)\n",
      "092\tps         Pashto (پښتو)\n",
      "093\tpt         Portuguese (Brazil) (Português (Brasil))\n",
      "094\tpt-PT      Portuguese (Portugal) (Português (Portugal))\n",
      "095\tro         Romanian (Română)\n",
      "096\tru         Russian (Русский)\n",
      "097\trun        Rundi (Rundi)\n",
      "098\trw         Kinyarwanda (Kinyarwanda)\n",
      "099\tsd         Sindhi (سنڌي)\n",
      "100\tsi         Sinhala (සිංහල)\n",
      "101\tsk         Slovak (Slovenčina)\n",
      "102\tsl         Slovenian (Slovenščina)\n",
      "103\tsm         Samoan (Gagana Sāmoa)\n",
      "104\tsn         Shona (chiShona)\n",
      "105\tso         Somali (Soomaali)\n",
      "106\tsq         Albanian (Shqip)\n",
      "107\tsr-Cyrl    Serbian (Cyrillic) (Српски (ћирилица))\n",
      "108\tsr-Latn    Serbian (Latin) (Srpski (latinica))\n",
      "109\tst         Sesotho (Sesotho)\n",
      "110\tsv         Swedish (Svenska)\n",
      "111\tsw         Swahili (Kiswahili)\n",
      "112\tta         Tamil (தமிழ்)\n",
      "113\tte         Telugu (తెలుగు)\n",
      "114\tth         Thai (ไทย)\n",
      "115\tti         Tigrinya (ትግር)\n",
      "116\ttk         Turkmen (Türkmen Dili)\n",
      "117\ttlh-Latn   Klingon (Latin) (Klingon (Latin))\n",
      "118\ttlh-Piqd   Klingon (pIqaD) (Klingon (pIqaD))\n",
      "119\ttn         Setswana (Setswana)\n",
      "120\tto         Tongan (Lea Fakatonga)\n",
      "121\ttr         Turkish (Türkçe)\n",
      "122\ttt         Tatar (Татар)\n",
      "123\tty         Tahitian (Reo Tahiti)\n",
      "124\tug         Uyghur (ئۇيغۇرچە)\n",
      "125\tuk         Ukrainian (Українська)\n",
      "126\tur         Urdu (اردو)\n",
      "127\tuz         Uzbek (Latin) (O‘Zbek)\n",
      "128\tvi         Vietnamese (Tiếng Việt)\n",
      "129\txh         Xhosa (isiXhosa)\n",
      "130\tyo         Yoruba (Èdè Yorùbá)\n",
      "131\tyua        Yucatec Maya (Yucatec Maya)\n",
      "132\tyue        Cantonese (Traditional) (粵語 (繁體))\n",
      "133\tzh-Hans    Chinese Simplified (中文 (简体))\n",
      "134\tzh-Hant    Chinese Traditional (繁體中文 (繁體))\n",
      "135\tzu         Zulu (Isi-Zulu)\n"
     ]
    }
   ],
   "source": [
    "print_languages(\"translation\", response.translation)"
   ]
  },
  {
   "cell_type": "code",
   "execution_count": 9,
   "id": "14f0b8a7-c2c0-457d-8d69-5edc31839831",
   "metadata": {},
   "outputs": [
    {
     "data": {
      "text/html": [
       "<div>\n",
       "<style scoped>\n",
       "    .dataframe tbody tr th:only-of-type {\n",
       "        vertical-align: middle;\n",
       "    }\n",
       "\n",
       "    .dataframe tbody tr th {\n",
       "        vertical-align: top;\n",
       "    }\n",
       "\n",
       "    .dataframe thead th {\n",
       "        text-align: right;\n",
       "    }\n",
       "</style>\n",
       "<table border=\"1\" class=\"dataframe\">\n",
       "  <thead>\n",
       "    <tr style=\"text-align: right;\">\n",
       "      <th></th>\n",
       "      <th>Language_Code</th>\n",
       "      <th>Language_Name</th>\n",
       "      <th>Native_Name</th>\n",
       "    </tr>\n",
       "  </thead>\n",
       "  <tbody>\n",
       "    <tr>\n",
       "      <th>0</th>\n",
       "      <td>af</td>\n",
       "      <td>Afrikaans</td>\n",
       "      <td>Afrikaans</td>\n",
       "    </tr>\n",
       "    <tr>\n",
       "      <th>1</th>\n",
       "      <td>am</td>\n",
       "      <td>Amharic</td>\n",
       "      <td>አማርኛ</td>\n",
       "    </tr>\n",
       "    <tr>\n",
       "      <th>2</th>\n",
       "      <td>ar</td>\n",
       "      <td>Arabic</td>\n",
       "      <td>العربية</td>\n",
       "    </tr>\n",
       "    <tr>\n",
       "      <th>3</th>\n",
       "      <td>as</td>\n",
       "      <td>Assamese</td>\n",
       "      <td>অসমীয়া</td>\n",
       "    </tr>\n",
       "    <tr>\n",
       "      <th>4</th>\n",
       "      <td>az</td>\n",
       "      <td>Azerbaijani</td>\n",
       "      <td>Azərbaycan</td>\n",
       "    </tr>\n",
       "    <tr>\n",
       "      <th>...</th>\n",
       "      <td>...</td>\n",
       "      <td>...</td>\n",
       "      <td>...</td>\n",
       "    </tr>\n",
       "    <tr>\n",
       "      <th>130</th>\n",
       "      <td>yua</td>\n",
       "      <td>Yucatec Maya</td>\n",
       "      <td>Yucatec Maya</td>\n",
       "    </tr>\n",
       "    <tr>\n",
       "      <th>131</th>\n",
       "      <td>yue</td>\n",
       "      <td>Cantonese (Traditional)</td>\n",
       "      <td>粵語 (繁體)</td>\n",
       "    </tr>\n",
       "    <tr>\n",
       "      <th>132</th>\n",
       "      <td>zh-Hans</td>\n",
       "      <td>Chinese Simplified</td>\n",
       "      <td>中文 (简体)</td>\n",
       "    </tr>\n",
       "    <tr>\n",
       "      <th>133</th>\n",
       "      <td>zh-Hant</td>\n",
       "      <td>Chinese Traditional</td>\n",
       "      <td>繁體中文 (繁體)</td>\n",
       "    </tr>\n",
       "    <tr>\n",
       "      <th>134</th>\n",
       "      <td>zu</td>\n",
       "      <td>Zulu</td>\n",
       "      <td>Isi-Zulu</td>\n",
       "    </tr>\n",
       "  </tbody>\n",
       "</table>\n",
       "<p>135 rows × 3 columns</p>\n",
       "</div>"
      ],
      "text/plain": [
       "    Language_Code            Language_Name   Native_Name\n",
       "0              af                Afrikaans     Afrikaans\n",
       "1              am                  Amharic          አማርኛ\n",
       "2              ar                   Arabic       العربية\n",
       "3              as                 Assamese       অসমীয়া\n",
       "4              az              Azerbaijani    Azərbaycan\n",
       "..            ...                      ...           ...\n",
       "130           yua             Yucatec Maya  Yucatec Maya\n",
       "131           yue  Cantonese (Traditional)       粵語 (繁體)\n",
       "132       zh-Hans       Chinese Simplified       中文 (简体)\n",
       "133       zh-Hant      Chinese Traditional     繁體中文 (繁體)\n",
       "134            zu                     Zulu      Isi-Zulu\n",
       "\n",
       "[135 rows x 3 columns]"
      ]
     },
     "execution_count": 9,
     "metadata": {},
     "output_type": "execute_result"
    }
   ],
   "source": [
    "lang_list = []\n",
    "\n",
    "if response.translation is not None:\n",
    "    for key, value in response.translation.items():\n",
    "        lang_list.append(\n",
    "            {\n",
    "                \"Language_Code\": key,\n",
    "                \"Language_Name\": value.name,\n",
    "                \"Native_Name\": value.native_name,\n",
    "            }\n",
    "        )\n",
    "\n",
    "df_languages = pd.DataFrame(lang_list)\n",
    "df_languages"
   ]
  },
  {
   "cell_type": "code",
   "execution_count": 10,
   "id": "9c65648e-77ea-4a6f-9955-5a49b304983d",
   "metadata": {},
   "outputs": [],
   "source": [
    "# Get dict from dataframe\n",
    "language_dict = df_languages.set_index(\"Language_Code\")[\"Language_Name\"].to_dict()\n",
    "# Full names list\n",
    "language_full_names = list(language_dict.values())\n",
    "# Sort\n",
    "language_full_names.sort()\n",
    "# Language codes list\n",
    "language_codes = list(language_dict.keys())\n",
    "# Sort\n",
    "language_codes.sort()\n",
    "# Creation of dict\n",
    "reverse_language_names = {v: k for k, v in language_dict.items()}"
   ]
  },
  {
   "cell_type": "code",
   "execution_count": 11,
   "id": "a9518185-eeb8-4d7d-83d9-ffb6d0d99d33",
   "metadata": {},
   "outputs": [],
   "source": [
    "def get_language_code(language_name):\n",
    "    \"\"\"\n",
    "    Function to get language code by language name\n",
    "    Input: language full name\n",
    "    Output: language code name\n",
    "    \"\"\"\n",
    "    return reverse_language_names.get(language_name)"
   ]
  },
  {
   "cell_type": "code",
   "execution_count": 12,
   "id": "6cf5031b-7474-461b-b668-aef100c4e4cd",
   "metadata": {},
   "outputs": [
    {
     "name": "stdout",
     "output_type": "stream",
     "text": [
      "en\n"
     ]
    }
   ],
   "source": [
    "print(get_language_code(\"English\"))"
   ]
  },
  {
   "cell_type": "markdown",
   "id": "276a5455",
   "metadata": {},
   "source": [
    "## Testing"
   ]
  },
  {
   "cell_type": "code",
   "execution_count": 13,
   "id": "6a2c417a-5fba-4113-bbe9-ad33b93c97c6",
   "metadata": {},
   "outputs": [],
   "source": [
    "def azure_ai_translator(mytext, source_lang, target_lang):\n",
    "    \"\"\"\n",
    "    Translates text from one language to another using Azure AI Translator.\n",
    "    \n",
    "    Args:\n",
    "        mytext (str): The text to be translated.\n",
    "        source_lang (str): The full name of the source language.\n",
    "        target_lang (str): The full name of the target language.\n",
    "    \n",
    "    Returns:\n",
    "        str: The translated text, or None if an error occurs.\n",
    "    \"\"\"\n",
    "    try:\n",
    "        credential = AzureKeyCredential(azure_ai_translator_key)\n",
    "        \n",
    "        text_translator = TextTranslationClient(\n",
    "            credential=credential, region=azure_ai_translator_region)\n",
    "        input_text_elements = [mytext]\n",
    "\n",
    "        # Get language codes\n",
    "        source_lang_code = get_language_code(source_lang)\n",
    "        target_lang_code = [get_language_code(target_lang)]\n",
    "        \n",
    "        # Response\n",
    "        response = text_translator.translate(body=input_text_elements,\n",
    "                                             to_language=target_lang_code)\n",
    "        translation = response[0] if response else None\n",
    "\n",
    "        if translation:\n",
    "            detected_language = translation.detected_language\n",
    "            if detected_language:\n",
    "                print(f\"Detected languages of the input text: {detected_language.language} with score = {detected_language.score}.\")\n",
    "            for translated_text in translation.translations:\n",
    "                print(f\"\\nText to translate to: '{translated_text.to}'\")\n",
    "            return translated_text.text\n",
    "\n",
    "    except HttpResponseError as exception:\n",
    "        if exception.error is not None:\n",
    "            print(f\"Error Code: {exception.error.code}\")\n",
    "            print(f\"Message: {exception.error.message}\")"
   ]
  },
  {
   "cell_type": "code",
   "execution_count": 14,
   "id": "310647b9-d414-42e6-add7-d135e3949525",
   "metadata": {},
   "outputs": [
    {
     "name": "stdout",
     "output_type": "stream",
     "text": [
      "Detected languages of the input text: en with score = 1.0.\n",
      "\n",
      "Text to translate to: 'fr'\n",
      "Azure est une plateforme de cloud computing gérée par Microsoft. Elle offre l’accès, la gestion et le développement d’applications et de services par le biais de centres de données mondiaux\n"
     ]
    }
   ],
   "source": [
    "mytext = \"Azure is a cloud computing platform run by Microsoft. It offers access, management, and the development of applications and services through global data centers\"\n",
    "\n",
    "result = azure_ai_translator(mytext, \"English\", \"French\")\n",
    "print(result)"
   ]
  },
  {
   "cell_type": "code",
   "execution_count": 15,
   "id": "21f06c2c",
   "metadata": {},
   "outputs": [
    {
     "name": "stdout",
     "output_type": "stream",
     "text": [
      "Detected languages of the input text: fr with score = 1.0.\n",
      "\n",
      "Text to translate to: 'it'\n",
      "Qual è il tempo di viaggio da Parigi a Versailles?\n"
     ]
    }
   ],
   "source": [
    "mytext = \"Quel est le temps de trajet de Paris à Versailles ?\"\n",
    "\n",
    "result = azure_ai_translator(mytext, \"French\", \"Italian\")\n",
    "print(result)"
   ]
  },
  {
   "cell_type": "markdown",
   "id": "2f2d34aa",
   "metadata": {},
   "source": [
    "## Webapp"
   ]
  },
  {
   "cell_type": "markdown",
   "id": "8084d4d6",
   "metadata": {},
   "source": [
    "https://learn.microsoft.com/en-us/azure/ai-services/translator/language-support"
   ]
  },
  {
   "cell_type": "code",
   "execution_count": 18,
   "id": "6440cecc",
   "metadata": {},
   "outputs": [
    {
     "name": "stdout",
     "output_type": "stream",
     "text": [
      "* Running on local URL:  http://127.0.0.1:7863\n",
      "* Running on public URL: https://1e5738d4d8114a12b0.gradio.live\n",
      "\n",
      "This share link expires in 72 hours. For free permanent hosting and GPU upgrades, run `gradio deploy` from the terminal in the working directory to deploy to Hugging Face Spaces (https://huggingface.co/spaces)\n"
     ]
    },
    {
     "data": {
      "text/html": [
       "<div><iframe src=\"https://1e5738d4d8114a12b0.gradio.live\" width=\"100%\" height=\"500\" allow=\"autoplay; camera; microphone; clipboard-read; clipboard-write;\" frameborder=\"0\" allowfullscreen></iframe></div>"
      ],
      "text/plain": [
       "<IPython.core.display.HTML object>"
      ]
     },
     "metadata": {},
     "output_type": "display_data"
    },
    {
     "data": {
      "text/plain": []
     },
     "execution_count": 18,
     "metadata": {},
     "output_type": "execute_result"
    },
    {
     "name": "stdout",
     "output_type": "stream",
     "text": [
      "Detected languages of the input text: en with score = 1.0.\n",
      "\n",
      "Text to translate to: 'fr'\n",
      "Detected languages of the input text: es with score = 1.0.\n",
      "\n",
      "Text to translate to: 'it'\n",
      "Detected languages of the input text: fr with score = 1.0.\n",
      "\n",
      "Text to translate to: 'ar'\n"
     ]
    }
   ],
   "source": [
    "image_url = \"https://github.com/retkowsky/azure-ai-translator/blob/main/logo.jpg?raw=true\"\n",
    "logo = \"<center> <img src= {} width=200px></center>\".format(image_url)\n",
    "\n",
    "translator_webapp = gr.Interface(\n",
    "    fn=azure_ai_translator,\n",
    "    inputs=[\n",
    "        gr.components.Textbox(label=\"Text to translate\"),\n",
    "        gr.components.Dropdown(label=\"Source language\",\n",
    "                               choices=language_full_names),\n",
    "        gr.components.Dropdown(label=\"Target language\",\n",
    "                               choices=language_full_names),\n",
    "    ],\n",
    "    outputs=gr.Text(label=\"Translated text\"),\n",
    "    cache_examples=False,\n",
    "    title=\"Azure AI Translator\",\n",
    "    description=logo,\n",
    "    #theme=\"JohnSmith9982/small_and_pretty\",\n",
    "    examples=[\n",
    "        [\n",
    "            \"Hello. Welcome to this presentation of Azure AI Translator\",\n",
    "            \"English\",\n",
    "            \"French\",\n",
    "        ],\n",
    "        [\n",
    "            \"Hola. Bienvenidos a esta presentación de Azure AI Translator\",\n",
    "            \"Spanish\",\n",
    "            \"Italian\",\n",
    "        ],\n",
    "        [\n",
    "            \"Bonjour à tous.\",\n",
    "            \"French\",\n",
    "            \"Arabic\",\n",
    "        ],\n",
    "    ],\n",
    ")\n",
    "\n",
    "translator_webapp.launch(share=True)"
   ]
  },
  {
   "cell_type": "code",
   "execution_count": null,
   "id": "18f9f9d2",
   "metadata": {},
   "outputs": [],
   "source": []
  },
  {
   "cell_type": "code",
   "execution_count": null,
   "id": "7b1a5de3",
   "metadata": {},
   "outputs": [],
   "source": []
  }
 ],
 "metadata": {
  "kernelspec": {
   "display_name": "Python 3.10 - SDK v2",
   "language": "python",
   "name": "python310-sdkv2"
  },
  "language_info": {
   "codemirror_mode": {
    "name": "ipython",
    "version": 3
   },
   "file_extension": ".py",
   "mimetype": "text/x-python",
   "name": "python",
   "nbconvert_exporter": "python",
   "pygments_lexer": "ipython3",
   "version": "3.10.14"
  }
 },
 "nbformat": 4,
 "nbformat_minor": 5
}
