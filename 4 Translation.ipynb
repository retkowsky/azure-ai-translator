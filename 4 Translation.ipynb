{
 "cells": [
  {
   "cell_type": "markdown",
   "id": "69571d21",
   "metadata": {},
   "source": [
    "# Translation with Azure AI Translator\n",
    "\n",
    "https://learn.microsoft.com/en-us/azure/ai-services/translator/text-translation-overview\n",
    "\n",
    "<img src=\"https://th.bing.com/th/id/OIP.ngRD8aNJwXZ2B0eol5tFlwAAAA?rs=1&pid=ImgDetMain\" width=200>"
   ]
  },
  {
   "cell_type": "code",
   "execution_count": 1,
   "id": "d56c0e34",
   "metadata": {},
   "outputs": [],
   "source": [
    "# %pip install azure-ai-translation-text==1.0.0b1"
   ]
  },
  {
   "cell_type": "code",
   "execution_count": 21,
   "id": "5b1ec5fd",
   "metadata": {},
   "outputs": [],
   "source": [
    "import datetime\n",
    "import gradio as gr\n",
    "import sys\n",
    "\n",
    "from azure.ai.translation.text import TextTranslationClient, TranslatorCredential\n",
    "from azure.ai.translation.text.models import InputTextItem\n",
    "from azure.core.exceptions import HttpResponseError\n",
    "from dotenv import load_dotenv"
   ]
  },
  {
   "cell_type": "code",
   "execution_count": 3,
   "id": "ca2fe57d",
   "metadata": {},
   "outputs": [
    {
     "data": {
      "text/plain": [
       "'3.10.11 (main, May 16 2023, 00:28:57) [GCC 11.2.0]'"
      ]
     },
     "execution_count": 3,
     "metadata": {},
     "output_type": "execute_result"
    }
   ],
   "source": [
    "sys.version"
   ]
  },
  {
   "cell_type": "code",
   "execution_count": 4,
   "id": "18158f38",
   "metadata": {},
   "outputs": [
    {
     "name": "stdout",
     "output_type": "stream",
     "text": [
      "Today is 10-Apr-2024 09:09:25\n"
     ]
    }
   ],
   "source": [
    "print(f\"Today is {datetime.datetime.today().strftime('%d-%b-%Y %H:%M:%S')}\")"
   ]
  },
  {
   "cell_type": "markdown",
   "id": "6ebab494",
   "metadata": {},
   "source": [
    "## Azure AI Translator credentials"
   ]
  },
  {
   "cell_type": "code",
   "execution_count": 5,
   "id": "6ed00739",
   "metadata": {},
   "outputs": [],
   "source": [
    "load_dotenv(\"azure.env\")\n",
    "\n",
    "key = os.getenv(\"AZURE_AI_TRANSLATION_KEY\")\n",
    "endpoint = os.getenv(\"AZURE_AI_TRANSLATION_ENDPOINT\")\n",
    "region = os.getenv(\"AZURE_AI_TRANSLATION_REGION\")"
   ]
  },
  {
   "cell_type": "code",
   "execution_count": 6,
   "id": "fd76cc61",
   "metadata": {},
   "outputs": [],
   "source": [
    "credential = TranslatorCredential(key, region)\n",
    "\n",
    "text_translator = TextTranslationClient(\n",
    "    endpoint=endpoint, credential=credential)"
   ]
  },
  {
   "cell_type": "markdown",
   "id": "276a5455",
   "metadata": {},
   "source": [
    "## Testing"
   ]
  },
  {
   "cell_type": "code",
   "execution_count": 7,
   "id": "ae33d769",
   "metadata": {},
   "outputs": [
    {
     "name": "stdout",
     "output_type": "stream",
     "text": [
      "\u001b[1;31;34m\n",
      "Detected languages of the input text: en with score = 1.0.\n",
      "\n",
      "Text was translated to: 'fr' and the result is: 'Azure est une plateforme de cloud computing gérée par Microsoft. Il offre l’accès, la gestion et le développement d’applications et de services via des centres de données mondiaux'.\n"
     ]
    }
   ],
   "source": [
    "try:\n",
    "    target_languages = [\"fr\"]\n",
    "    input_text_elements = [InputTextItem(text=\"Azure is a cloud computing platform run by Microsoft. It offers access, management, and the development of applications and services through global data centers\")]\n",
    "\n",
    "    response = text_translator.translate(\n",
    "        content=input_text_elements, to=target_languages)\n",
    "    translation = response[0] if response else None\n",
    "\n",
    "    if translation:\n",
    "        detected_language = translation.detected_language\n",
    "        print(\"\\033[1;31;34m\")\n",
    "        if detected_language:\n",
    "            print(\n",
    "                f\"Detected languages of the input text: {detected_language.language} with score = {detected_language.score}.\"\n",
    "            )\n",
    "        print()\n",
    "        for translated_text in translation.translations:\n",
    "            print(\n",
    "                f\"Text was translated to: '{translated_text.to}' and the result is: '{translated_text.text}'.\")\n",
    "\n",
    "except HttpResponseError as exception:\n",
    "    if exception.error is not None:\n",
    "        print(f\"Error Code: {exception.error.code}\")\n",
    "        print()\n",
    "        print(f\"Message: {exception.error.message}\")\n",
    "    raise"
   ]
  },
  {
   "cell_type": "code",
   "execution_count": 8,
   "id": "908473f4",
   "metadata": {},
   "outputs": [
    {
     "name": "stdout",
     "output_type": "stream",
     "text": [
      "\u001b[1;31;34m\n",
      "Detected languages of the input text: fr with score = 1.0.\n",
      "\n",
      "Text was translated to: 'ko' and the result is: '다시 한 번 감사드립니다. 곧  봐요.'.\n"
     ]
    }
   ],
   "source": [
    "try:\n",
    "    target_languages = [\"ko\"]\n",
    "    input_text_elements = [InputTextItem(text=\"Merci encore. A bientôt.\")]\n",
    "\n",
    "    response = text_translator.translate(\n",
    "        content=input_text_elements, to=target_languages)\n",
    "    translation = response[0] if response else None\n",
    "\n",
    "    if translation:\n",
    "        detected_language = translation.detected_language\n",
    "        print(\"\\033[1;31;34m\")\n",
    "        \n",
    "        if detected_language:\n",
    "            print(\n",
    "                f\"Detected languages of the input text: {detected_language.language} with score = {detected_language.score}.\"\n",
    "            )\n",
    "            print()\n",
    "        for translated_text in translation.translations:\n",
    "            print(\n",
    "                f\"Text was translated to: '{translated_text.to}' and the result is: '{translated_text.text}'.\")\n",
    "\n",
    "except HttpResponseError as exception:\n",
    "    if exception.error is not None:\n",
    "        print(f\"Error Code: {exception.error.code}\")\n",
    "        print(f\"Message: {exception.error.message}\")\n",
    "    raise"
   ]
  },
  {
   "cell_type": "code",
   "execution_count": 9,
   "id": "21f06c2c",
   "metadata": {},
   "outputs": [],
   "source": [
    "mytext = \"Quel est le temps de trajet de Paris à Versailles ?\""
   ]
  },
  {
   "cell_type": "code",
   "execution_count": 10,
   "id": "89112229",
   "metadata": {},
   "outputs": [
    {
     "name": "stdout",
     "output_type": "stream",
     "text": [
      "Text to translate: Quel est le temps de trajet de Paris à Versailles ?\n",
      "\u001b[1;31;34m\n",
      "Translated to code: 'es' ==> '¿Cuál es el tiempo de viaje de París a Versalles?'.\n",
      "Translated to code: 'it' ==> 'Qual è la durata del viaggio da Parigi a Versailles?'.\n",
      "Translated to code: 'de' ==> 'Wie lange dauert die Fahrt von Paris nach Versailles?'.\n",
      "Translated to code: 'en' ==> 'What is the travel time from Paris to Versailles?'.\n",
      "Translated to code: 'el' ==> 'Ποιος είναι ο χρόνος ταξιδιού από το Παρίσι στις Βερσαλλίες;'.\n",
      "Translated to code: 'mn-Mong' ==> 'ᠫᠠᠷᠢᠰ ᠠᠴᠠ ᠹᠠᠨᠯᠰᠠᠢ ᠣᠷᠳᠣᠨ ᠬᠦᠷᠬᠦ ᠵᠢᠭᠤᠯᠴᠢᠯᠠᠯ ᠤᠨ ᠴᠠᠭ ᠨᠢ ᠬᠡᠳᠦᠢ ᠪᠤᠢ ?'.\n",
      "Translated to code: 'ko' ==> '파리에서 베르사유까지가는 데 걸리는 시간은 얼마입니까?'.\n",
      "Translated to code: 'fa' ==> 'زمان سفر از پاریس به ورسای چقدر است؟'.\n",
      "Translated to code: 'ru' ==> 'Сколько времени занимает поездка из Парижа в Версаль?'.\n",
      "Translated to code: 'ar' ==> 'ما هو وقت السفر من باريس إلى فرساي؟'.\n"
     ]
    }
   ],
   "source": [
    "try:\n",
    "    source_language = \"fr\"\n",
    "    target_languages = [\"es\", \"it\", \"de\", \"en\",\n",
    "                        \"el\", \"mn-Mong\", \"ko\", \"fa\", \"ru\", \"ar\"]\n",
    "    input_text_elements = [InputTextItem(text=mytext)]\n",
    "\n",
    "    response = text_translator.translate(content=input_text_elements,\n",
    "                                         to=target_languages,\n",
    "                                         from_parameter=source_language)\n",
    "    translation = response[0] if response else None\n",
    "\n",
    "    print(\"Text to translate:\", mytext)\n",
    "\n",
    "    if translation:\n",
    "        print(\"\\033[1;31;34m\")\n",
    "        for translated_text in translation.translations:\n",
    "            print(\n",
    "                f\"Translated to code: '{translated_text.to}' ==> '{translated_text.text}'.\")\n",
    "\n",
    "except HttpResponseError as exception:\n",
    "    print(f\"Error Code: {exception.error.code}\")\n",
    "    print(f\"Message: {exception.error.message}\")"
   ]
  },
  {
   "cell_type": "markdown",
   "id": "2f2d34aa",
   "metadata": {},
   "source": [
    "## Webapp"
   ]
  },
  {
   "cell_type": "markdown",
   "id": "8084d4d6",
   "metadata": {},
   "source": [
    "https://learn.microsoft.com/en-us/azure/ai-services/translator/language-support"
   ]
  },
  {
   "cell_type": "code",
   "execution_count": 11,
   "id": "4a94a044",
   "metadata": {},
   "outputs": [],
   "source": [
    "language_dict = {\n",
    "    \"af\": \"Afrikaans\",\n",
    "    \"sq\": \"Albanian\",\n",
    "    \"am\": \"Amharic\",\n",
    "    \"ar\": \"Arabic\",\n",
    "    \"hy\": \"Armenian\",\n",
    "    \"as\": \"Assamese\",\n",
    "    \"az\": \"Azerbaijani\",\n",
    "    \"bn\": \"Bangla\",\n",
    "    \"ba\": \"Bashkir\",\n",
    "    \"eu\": \"Basque\",\n",
    "    \"bho\": \"Bhojpuri\",\n",
    "    \"brx\": \"Bodo\",\n",
    "    \"bs\": \"Bosnian\",\n",
    "    \"bg\": \"Bulgarian\",\n",
    "    \"yue\": \"Cantonese\",\n",
    "    \"ca\": \"Catalan\",\n",
    "    \"lzh\": \"Chinese (Classical)\",\n",
    "    \"zh-Hans\": \"Chinese (Simplified)\",\n",
    "    \"zh-Hant\": \"Chinese (Traditional)\",\n",
    "    \"sn\": \"Chishona\",\n",
    "    \"hr\": \"Croatian\",\n",
    "    \"cs\": \"Czech\",\n",
    "    \"da\": \"Danish\",\n",
    "    \"prs\": \"Dari\",\n",
    "    \"dv\": \"Divehi\",\n",
    "    \"doi\": \"Dogri\",\n",
    "    \"nl\": \"Dutch\",\n",
    "    \"en\": \"English\",\n",
    "    \"et\": \"Estonian\",\n",
    "    \"fo\": \"Faroese\",\n",
    "    \"fj\": \"Fijian\",\n",
    "    \"fil\": \"Filipino\",\n",
    "    \"fi\": \"Finnish\",\n",
    "    \"fr\": \"French\",\n",
    "    \"fr-ca\": \"French (Canada)\",\n",
    "    \"gl\": \"Galician\",\n",
    "    \"ka\": \"Georgian\",\n",
    "    \"de\": \"German\",\n",
    "    \"el\": \"Greek\",\n",
    "    \"gu\": \"Gujarati\",\n",
    "    \"ht\": \"Haitian Creole\",\n",
    "    \"ha\": \"Hausa\",\n",
    "    \"he\": \"Hebrew\",\n",
    "    \"hi\": \"Hindi\",\n",
    "    \"mww\": \"Hmong Daw\",\n",
    "    \"hu\": \"Hungarian\",\n",
    "    \"is\": \"Icelandic\",\n",
    "    \"ig\": \"Igbo\",\n",
    "    \"id\": \"Indonesian\",\n",
    "    \"ikt\": \"Inuktitut\",\n",
    "    \"iu\": \"Inuktitut (Syllabics)\",\n",
    "    \"iu-Latn\": \"Inuktitut (Latin)\",\n",
    "    \"ga\": \"Irish\",\n",
    "    \"it\": \"Italian\",\n",
    "    \"ja\": \"Japanese\",\n",
    "    \"kn\": \"Kannada\",\n",
    "    \"ks\": \"Kashmiri\",\n",
    "    \"kk\": \"Kazakh\",\n",
    "    \"km\": \"Khmer\",\n",
    "    \"rw\": \"Kinyarwanda\",\n",
    "    \"tlh-Latn\": \"Klingon (Latin)\",\n",
    "    \"tlh-Piqd\": \"Klingon (pIqaD)\",\n",
    "    \"gom\": \"Konkani\",\n",
    "    \"ko\": \"Korean\",\n",
    "    \"ku\": \"Kurdish (Kurmanji)\",\n",
    "    \"kmr\": \"Kurdish (Sorani)\",\n",
    "    \"ky\": \"Kyrgyz\",\n",
    "    \"lo\": \"Lao\",\n",
    "    \"lv\": \"Latvian\",\n",
    "    \"lt\": \"Lithuanian\",\n",
    "    \"ln\": \"Lingala\",\n",
    "    \"dsb\": \"Lower Sorbian\",\n",
    "    \"lug\": \"Luganda\",\n",
    "    \"mk\": \"Macedonian\",\n",
    "    \"mai\": \"Maithili\",\n",
    "    \"mg\": \"Malagasy\",\n",
    "    \"ms\": \"Malay\",\n",
    "    \"ml\": \"Malayalam\",\n",
    "    \"mt\": \"Maltese\",\n",
    "    \"mi\": \"Māori\",\n",
    "    \"mr\": \"Marathi\",\n",
    "    \"mn-Cyrl\": \"Mongolian (Cyrillic)\",\n",
    "    \"mn-Mong\": \"Mongolian (Traditional Mongolian)\",\n",
    "    \"my\": \"Myanmar (Burmese)\",\n",
    "    \"ne\": \"Nepali\",\n",
    "    \"nb\": \"Norwegian (Bokmål)\",\n",
    "    \"nya\": \"Nyanja (Chichewa)\",\n",
    "    \"or\": \"Odia (Oriya)\",\n",
    "    \"ps\": \"Pashto\",\n",
    "    \"fa\": \"Persian\",\n",
    "    \"pl\": \"Polish\",\n",
    "    \"pt\": \"Portuguese\",\n",
    "    \"pt-pt\": \"Portuguese (Portugal)\",\n",
    "    \"pa\": \"Punjabi\",\n",
    "    \"otq\": \"Querétaro Otomi\",\n",
    "    \"ro\": \"Romanian\",\n",
    "    \"run\": \"Rundi\",\n",
    "    \"ru\": \"Russian\",\n",
    "    \"sm\": \"Samoan\",\n",
    "    \"sr-Cyrl\": \"Serbian (Cyrillic)\",\n",
    "    \"sr-Latn\": \"Serbian (Latin)\",\n",
    "    \"st\": \"Sesotho\",\n",
    "    \"nso\": \"Sesotho sa Leboa\",\n",
    "    \"tn\": \"Setswana\",\n",
    "    \"sd\": \"Sindhi\",\n",
    "    \"si\": \"Sinhala\",\n",
    "    \"sk\": \"Slovak\",\n",
    "    \"sl\": \"Slovenian\",\n",
    "    \"so\": \"Somali\",\n",
    "    \"es\": \"Spanish\",\n",
    "    \"sw\": \"Swahili\",\n",
    "    \"sv\": \"Swedish\",\n",
    "    \"ty\": \"Tahitian\",\n",
    "    \"ta\": \"Tamil\",\n",
    "    \"tt\": \"Tatar\",\n",
    "    \"te\": \"Telugu\",\n",
    "    \"th\": \"Thai\",\n",
    "    \"bo\": \"Tibetan\",\n",
    "    \"ti\": \"Tigrinya\",\n",
    "    \"to\": \"Tongan\",\n",
    "    \"tr\": \"Turkish\",\n",
    "    \"tk\": \"Turkmen\",\n",
    "    \"uk\": \"Ukrainian\",\n",
    "    \"hsb\": \"Upper Sorbian\",\n",
    "    \"ur\": \"Urdu\",\n",
    "    \"ug\": \"Uyghur\",\n",
    "    \"uz\": \"Uzbek\",\n",
    "    \"vi\": \"Vietnamese\",\n",
    "    \"cy\": \"Welsh\",\n",
    "    \"xh\": \"Xhosa\",\n",
    "    \"yo\": \"Yoruba\",\n",
    "    \"yua\": \"Yucatec Maya\",\n",
    "    \"zu\": \"Zulu\",\n",
    "}"
   ]
  },
  {
   "cell_type": "code",
   "execution_count": 12,
   "id": "f4afa4f9",
   "metadata": {},
   "outputs": [
    {
     "data": {
      "text/plain": [
       "133"
      ]
     },
     "execution_count": 12,
     "metadata": {},
     "output_type": "execute_result"
    }
   ],
   "source": [
    "language_full_names = list(language_dict.values())\n",
    "language_full_names.sort()\n",
    "len(language_full_names)"
   ]
  },
  {
   "cell_type": "code",
   "execution_count": 13,
   "id": "70537e93",
   "metadata": {},
   "outputs": [],
   "source": [
    "language_codes = list(language_dict.keys())\n",
    "language_codes.sort()\n",
    "\n",
    "reverse_language_names = {v: k for k, v in language_dict.items()}"
   ]
  },
  {
   "cell_type": "code",
   "execution_count": 14,
   "id": "c186b659",
   "metadata": {},
   "outputs": [],
   "source": [
    "def get_language_code(language_name):\n",
    "    # Function to get language code by language name\n",
    "    return reverse_language_names.get(language_name)"
   ]
  },
  {
   "cell_type": "code",
   "execution_count": 15,
   "id": "76dc2961",
   "metadata": {},
   "outputs": [
    {
     "data": {
      "text/plain": [
       "'fr'"
      ]
     },
     "execution_count": 15,
     "metadata": {},
     "output_type": "execute_result"
    }
   ],
   "source": [
    "# Quick test\n",
    "get_language_code(\"French\")"
   ]
  },
  {
   "cell_type": "code",
   "execution_count": 16,
   "id": "fdd3bc48",
   "metadata": {},
   "outputs": [],
   "source": [
    "def translate_fn(mytext, source_lang, target_lang):\n",
    "    \"\"\"\n",
    "    Translate the text from source lang to target lang\n",
    "    \"\"\"\n",
    "    source_lang = get_language_code(source_lang)\n",
    "    target_lang = get_language_code(target_lang)\n",
    "\n",
    "    target_lang = [target_lang]\n",
    "    input_text_elements = [InputTextItem(text=mytext)]\n",
    "    response = text_translator.translate(content=input_text_elements,\n",
    "                                         to=target_lang,\n",
    "                                         from_parameter=source_lang)\n",
    "\n",
    "    resp = response[0] if response else None\n",
    "\n",
    "    if resp:\n",
    "        for translated_text in resp.translations:\n",
    "            result = translated_text.text\n",
    "\n",
    "    return result"
   ]
  },
  {
   "cell_type": "code",
   "execution_count": 17,
   "id": "db86bd5a",
   "metadata": {},
   "outputs": [
    {
     "data": {
      "text/plain": [
       "'Bonjour'"
      ]
     },
     "execution_count": 17,
     "metadata": {},
     "output_type": "execute_result"
    }
   ],
   "source": [
    "# Quick test\n",
    "translate_fn(\"hello\", \"English\", \"French\")"
   ]
  },
  {
   "cell_type": "code",
   "execution_count": 20,
   "id": "6440cecc",
   "metadata": {},
   "outputs": [
    {
     "name": "stdout",
     "output_type": "stream",
     "text": [
      "Running on local URL:  http://127.0.0.1:7862\n",
      "Running on public URL: https://485a0c29944d4c4367.gradio.live\n",
      "\n",
      "This share link expires in 72 hours. For free permanent hosting and GPU upgrades, run `gradio deploy` from Terminal to deploy to Spaces (https://huggingface.co/spaces)\n"
     ]
    },
    {
     "data": {
      "text/html": [
       "<div><iframe src=\"https://485a0c29944d4c4367.gradio.live\" width=\"100%\" height=\"500\" allow=\"autoplay; camera; microphone; clipboard-read; clipboard-write;\" frameborder=\"0\" allowfullscreen></iframe></div>"
      ],
      "text/plain": [
       "<IPython.core.display.HTML object>"
      ]
     },
     "metadata": {},
     "output_type": "display_data"
    },
    {
     "data": {
      "text/plain": []
     },
     "execution_count": 20,
     "metadata": {},
     "output_type": "execute_result"
    }
   ],
   "source": [
    "image_url = \"https://th.bing.com/th/id/OIP.ngRD8aNJwXZ2B0eol5tFlwAAAA?rs=1&pid=ImgDetMain\"\n",
    "logo = \"<center> <img src= {} width=100px></center>\".format(image_url)\n",
    "\n",
    "translator_webapp = gr.Interface(\n",
    "    fn=translate_fn,\n",
    "    inputs=[\n",
    "        gr.components.Textbox(label=\"Text to translate\"),\n",
    "        gr.components.Dropdown(label=\"Source language\",\n",
    "                               choices=language_full_names),\n",
    "        gr.components.Dropdown(label=\"Target language\",\n",
    "                               choices=language_full_names),\n",
    "    ],\n",
    "    outputs=gr.Text(label=\"Translated text\"),\n",
    "    cache_examples=False,\n",
    "    title=\"Azure AI Translator\",\n",
    "    description=logo,\n",
    "    theme=\"JohnSmith9982/small_and_pretty\",\n",
    "    examples=[\n",
    "        [\n",
    "            \"Hello. Welcome to this presentation of Azure AI Translator\",\n",
    "            \"English\",\n",
    "            \"French\",\n",
    "        ],\n",
    "        [\n",
    "            \"Hola. Bienvenidos a esta presentación de Azure AI Translator\",\n",
    "            \"Spanish\",\n",
    "            \"Italian\",\n",
    "        ],\n",
    "        [\n",
    "            \"Bonjour à tous.\",\n",
    "            \"French\",\n",
    "            \"Arabic\",\n",
    "        ],\n",
    "    ],\n",
    ")\n",
    "\n",
    "translator_webapp.launch(share=True)"
   ]
  },
  {
   "cell_type": "code",
   "execution_count": null,
   "id": "18f9f9d2",
   "metadata": {},
   "outputs": [],
   "source": []
  },
  {
   "cell_type": "code",
   "execution_count": null,
   "id": "7b1a5de3",
   "metadata": {},
   "outputs": [],
   "source": []
  }
 ],
 "metadata": {
  "kernelspec": {
   "display_name": "Python 3.10 - SDK v2",
   "language": "python",
   "name": "python310-sdkv2"
  },
  "language_info": {
   "codemirror_mode": {
    "name": "ipython",
    "version": 3
   },
   "file_extension": ".py",
   "mimetype": "text/x-python",
   "name": "python",
   "nbconvert_exporter": "python",
   "pygments_lexer": "ipython3",
   "version": "3.10.11"
  }
 },
 "nbformat": 4,
 "nbformat_minor": 5
}
