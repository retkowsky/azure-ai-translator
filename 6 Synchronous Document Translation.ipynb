{
 "cells": [
  {
   "cell_type": "markdown",
   "id": "d32b45c0",
   "metadata": {},
   "source": [
    "# Synchronous Document Translation\n",
    "https://learn.microsoft.com/en-us/azure/ai-services/translator/document-translation/quickstarts/synchronous-rest-api\n"
   ]
  },
  {
   "cell_type": "markdown",
   "id": "9956e5e4",
   "metadata": {},
   "source": [
    "<img src=\"https://techcommunity.microsoft.com/t5/image/serverpage/image-id/552407i90F58669E536FA1A/image-size/large?v=v2&px=999\">"
   ]
  },
  {
   "cell_type": "markdown",
   "id": "1fd8bf2f",
   "metadata": {},
   "source": [
    "> https://aka.ms/TranslatorLanguageCodes "
   ]
  },
  {
   "cell_type": "markdown",
   "id": "3e18a9e1",
   "metadata": {},
   "source": [
    "<img src=\"webapp2.jpg\">"
   ]
  },
  {
   "cell_type": "code",
   "execution_count": 39,
   "id": "076c88fc",
   "metadata": {},
   "outputs": [],
   "source": [
    "import datetime\n",
    "import gradio as gr\n",
    "import os\n",
    "import pandas as pd\n",
    "import requests\n",
    "import sys\n",
    "import time\n",
    "\n",
    "from azure.ai.translation.text import TextTranslationClient, TranslatorCredential\n",
    "from dotenv import load_dotenv\n",
    "from IPython.display import FileLink"
   ]
  },
  {
   "cell_type": "code",
   "execution_count": 2,
   "id": "b93eb65f",
   "metadata": {},
   "outputs": [
    {
     "data": {
      "text/plain": [
       "'3.10.11 (main, May 16 2023, 00:28:57) [GCC 11.2.0]'"
      ]
     },
     "execution_count": 2,
     "metadata": {},
     "output_type": "execute_result"
    }
   ],
   "source": [
    "sys.version"
   ]
  },
  {
   "cell_type": "code",
   "execution_count": 3,
   "id": "6a8a50d3",
   "metadata": {},
   "outputs": [
    {
     "name": "stdout",
     "output_type": "stream",
     "text": [
      "Today is 11-Apr-2024 07:18:06\n"
     ]
    }
   ],
   "source": [
    "print(f\"Today is {datetime.datetime.today().strftime('%d-%b-%Y %H:%M:%S')}\")"
   ]
  },
  {
   "cell_type": "markdown",
   "id": "dc4937f9",
   "metadata": {},
   "source": [
    "## Azure AI Translator credentials"
   ]
  },
  {
   "cell_type": "code",
   "execution_count": 4,
   "id": "fb379d08",
   "metadata": {},
   "outputs": [],
   "source": [
    "load_dotenv(\"azure.env\")\n",
    "\n",
    "azure_ai_translator_key = os.getenv(\"AZURE_AI_TRANSLATION_KEY\")\n",
    "azure_ai_translator_endpoint = os.getenv(\"AZURE_AI_TRANSLATION_ENDPOINTDOCUMENT\")\n",
    "azure_ai_translator_region = os.getenv(\"AZURE_AI_TRANSLATION_REGION\")"
   ]
  },
  {
   "cell_type": "code",
   "execution_count": 5,
   "id": "6350f45f",
   "metadata": {},
   "outputs": [],
   "source": [
    "source_dir = \"source\"\n",
    "target_dir = \"translated\"\n",
    "\n",
    "os.makedirs(source_dir, exist_ok=True)\n",
    "os.makedirs(target_dir, exist_ok=True)"
   ]
  },
  {
   "cell_type": "markdown",
   "id": "89435185",
   "metadata": {},
   "source": [
    "## Function"
   ]
  },
  {
   "cell_type": "code",
   "execution_count": 6,
   "id": "746e46c8",
   "metadata": {},
   "outputs": [],
   "source": [
    "def translate(input_file, sourceLanguage, targetLanguage):\n",
    "    \"\"\"\n",
    "    Document translation\n",
    "    \"\"\"\n",
    "    start = time.time()\n",
    "    print(f\"Translating the document from {sourceLanguage} to {targetLanguage} ...\")\n",
    "\n",
    "    params = {\n",
    "        \"sourceLanguage\": sourceLanguage,\n",
    "        \"targetLanguage\": targetLanguage,\n",
    "        \"api-version\": \"2023-11-01-preview\",\n",
    "    }\n",
    "    \n",
    "    path = \"translator/document:translate\"\n",
    "    url = azure_ai_translator_endpoint + path\n",
    "\n",
    "    headers = {\"Ocp-Apim-Subscription-Key\": azure_ai_translator_key}\n",
    "    \n",
    "    with open(input_file, \"rb\") as document:\n",
    "        # Define the data to be sent\n",
    "        # Find list of supported content types here: https://aka.ms/dtsync-content-type\n",
    "        data = {\n",
    "            \"document\": (os.path.basename(input_file),\n",
    "                         document,\n",
    "                         \"application/vnd.openxmlformats-officedocument.wordprocessingml.document\")\n",
    "        }\n",
    "\n",
    "        # Send the POST request\n",
    "        response = requests.post(url, headers=headers, files=data, params=params)\n",
    "\n",
    "    # Write the response content to a file\n",
    "    with open(output_file, \"wb\") as output_document:\n",
    "        output_document.write(response.content)\n",
    "\n",
    "    elapsed = time.time() - start\n",
    "    print(\"\\nDone. Elapsed time: \" + time.strftime(\"%H:%M:%S.{}\".format(str(elapsed %\n",
    "          1)[2:])[:15], time.gmtime(elapsed)))"
   ]
  },
  {
   "cell_type": "markdown",
   "id": "d047662e",
   "metadata": {},
   "source": [
    "## Test 1"
   ]
  },
  {
   "cell_type": "code",
   "execution_count": 7,
   "id": "a0735ea0",
   "metadata": {},
   "outputs": [],
   "source": [
    "sourceLanguage = \"en\"\n",
    "targetLanguage = \"fr\""
   ]
  },
  {
   "cell_type": "code",
   "execution_count": 8,
   "id": "6211f8a5",
   "metadata": {},
   "outputs": [],
   "source": [
    "input_file = os.path.join(source_dir, \"worddocument.docx\")\n",
    "output_file = os.path.join(target_dir, \"worddocument_translated_\" + targetLanguage + \".docx\")"
   ]
  },
  {
   "cell_type": "code",
   "execution_count": 9,
   "id": "c53dc6d0",
   "metadata": {},
   "outputs": [
    {
     "data": {
      "text/html": [
       "<a href='source/worddocument.docx' target='_blank'>source/worddocument.docx</a><br>"
      ],
      "text/plain": [
       "/mnt/batch/tasks/shared/LS_root/mounts/clusters/seretkow9/code/Users/seretkow/Azure AI Translator examples/source/worddocument.docx"
      ]
     },
     "execution_count": 9,
     "metadata": {},
     "output_type": "execute_result"
    }
   ],
   "source": [
    "source_link = FileLink(path=os.path.join(\n",
    "    source_dir, os.path.basename(input_file)))\n",
    "source_link"
   ]
  },
  {
   "cell_type": "code",
   "execution_count": 10,
   "id": "ee63c4a3",
   "metadata": {},
   "outputs": [
    {
     "name": "stdout",
     "output_type": "stream",
     "text": [
      "Translating the document from en to fr ...\n",
      "\n",
      "Done. Elapsed time: 00:00:00.421438\n"
     ]
    }
   ],
   "source": [
    "translate(input_file, sourceLanguage, targetLanguage)"
   ]
  },
  {
   "cell_type": "code",
   "execution_count": 11,
   "id": "8a975ae5",
   "metadata": {},
   "outputs": [
    {
     "data": {
      "text/html": [
       "<a href='translated/worddocument_translated_fr.docx' target='_blank'>translated/worddocument_translated_fr.docx</a><br>"
      ],
      "text/plain": [
       "/mnt/batch/tasks/shared/LS_root/mounts/clusters/seretkow9/code/Users/seretkow/Azure AI Translator examples/translated/worddocument_translated_fr.docx"
      ]
     },
     "execution_count": 11,
     "metadata": {},
     "output_type": "execute_result"
    }
   ],
   "source": [
    "translated_link = FileLink(path=os.path.join(\n",
    "    target_dir, os.path.basename(output_file)))\n",
    "translated_link"
   ]
  },
  {
   "cell_type": "markdown",
   "id": "efd2d5a5",
   "metadata": {},
   "source": [
    "## Test 2"
   ]
  },
  {
   "cell_type": "code",
   "execution_count": 12,
   "id": "eb5ae4d8",
   "metadata": {},
   "outputs": [],
   "source": [
    "sourceLanguage = \"en\"\n",
    "targetLanguage = \"it\""
   ]
  },
  {
   "cell_type": "code",
   "execution_count": 13,
   "id": "10990c8a",
   "metadata": {},
   "outputs": [],
   "source": [
    "input_file = os.path.join(source_dir, \"worddocument.docx\")\n",
    "output_file = os.path.join(target_dir, \"worddocument_translated_\" + targetLanguage + \".docx\")"
   ]
  },
  {
   "cell_type": "code",
   "execution_count": 14,
   "id": "226d0b33",
   "metadata": {},
   "outputs": [
    {
     "name": "stdout",
     "output_type": "stream",
     "text": [
      "Translating the document from en to it ...\n",
      "\n",
      "Done. Elapsed time: 00:00:00.373859\n"
     ]
    }
   ],
   "source": [
    "translate(input_file, sourceLanguage, targetLanguage)"
   ]
  },
  {
   "cell_type": "code",
   "execution_count": 15,
   "id": "850df4b8",
   "metadata": {},
   "outputs": [
    {
     "data": {
      "text/html": [
       "<a href='translated/worddocument_translated_it.docx' target='_blank'>translated/worddocument_translated_it.docx</a><br>"
      ],
      "text/plain": [
       "/mnt/batch/tasks/shared/LS_root/mounts/clusters/seretkow9/code/Users/seretkow/Azure AI Translator examples/translated/worddocument_translated_it.docx"
      ]
     },
     "execution_count": 15,
     "metadata": {},
     "output_type": "execute_result"
    }
   ],
   "source": [
    "translated_link = FileLink(path=os.path.join(\n",
    "    target_dir, os.path.basename(output_file)))\n",
    "translated_link"
   ]
  },
  {
   "cell_type": "markdown",
   "id": "21ac8bea",
   "metadata": {},
   "source": [
    "## Test 3"
   ]
  },
  {
   "cell_type": "code",
   "execution_count": 16,
   "id": "ece8e6c6",
   "metadata": {},
   "outputs": [],
   "source": [
    "sourceLanguage = \"en\"\n",
    "targetLanguage = \"ar\""
   ]
  },
  {
   "cell_type": "code",
   "execution_count": 17,
   "id": "57238ffb",
   "metadata": {},
   "outputs": [],
   "source": [
    "input_file = os.path.join(source_dir, \"worddocument.docx\")\n",
    "output_file = os.path.join(target_dir, \"worddocument_translated_\" + targetLanguage + \".docx\")"
   ]
  },
  {
   "cell_type": "code",
   "execution_count": 18,
   "id": "3867f664",
   "metadata": {},
   "outputs": [
    {
     "name": "stdout",
     "output_type": "stream",
     "text": [
      "Translating the document from en to ar ...\n",
      "\n",
      "Done. Elapsed time: 00:00:00.433402\n"
     ]
    }
   ],
   "source": [
    "translate(input_file, sourceLanguage, targetLanguage)"
   ]
  },
  {
   "cell_type": "code",
   "execution_count": 19,
   "id": "bfe308ae",
   "metadata": {},
   "outputs": [
    {
     "data": {
      "text/html": [
       "<a href='translated/worddocument_translated_ar.docx' target='_blank'>translated/worddocument_translated_ar.docx</a><br>"
      ],
      "text/plain": [
       "/mnt/batch/tasks/shared/LS_root/mounts/clusters/seretkow9/code/Users/seretkow/Azure AI Translator examples/translated/worddocument_translated_ar.docx"
      ]
     },
     "execution_count": 19,
     "metadata": {},
     "output_type": "execute_result"
    }
   ],
   "source": [
    "translated_link = FileLink(path=os.path.join(\n",
    "    target_dir, os.path.basename(output_file)))\n",
    "translated_link"
   ]
  },
  {
   "cell_type": "markdown",
   "id": "d532a72b",
   "metadata": {},
   "source": [
    "## Test 4"
   ]
  },
  {
   "cell_type": "code",
   "execution_count": 20,
   "id": "10c2a6dd",
   "metadata": {},
   "outputs": [],
   "source": [
    "sourceLanguage = \"en\"\n",
    "targetLanguage = \"zh-Hans\""
   ]
  },
  {
   "cell_type": "code",
   "execution_count": 21,
   "id": "ada8a706",
   "metadata": {},
   "outputs": [],
   "source": [
    "input_file = os.path.join(source_dir, \"worddocument.docx\")\n",
    "output_file = os.path.join(target_dir, \"worddocument_translated_\" + targetLanguage + \".docx\")"
   ]
  },
  {
   "cell_type": "code",
   "execution_count": 22,
   "id": "e9c953f3",
   "metadata": {},
   "outputs": [
    {
     "name": "stdout",
     "output_type": "stream",
     "text": [
      "Translating the document from en to zh-Hans ...\n",
      "\n",
      "Done. Elapsed time: 00:00:00.426323\n"
     ]
    }
   ],
   "source": [
    "translate(input_file, sourceLanguage, targetLanguage)"
   ]
  },
  {
   "cell_type": "code",
   "execution_count": 23,
   "id": "636598ce",
   "metadata": {},
   "outputs": [
    {
     "data": {
      "text/html": [
       "<a href='translated/worddocument_translated_zh-Hans.docx' target='_blank'>translated/worddocument_translated_zh-Hans.docx</a><br>"
      ],
      "text/plain": [
       "/mnt/batch/tasks/shared/LS_root/mounts/clusters/seretkow9/code/Users/seretkow/Azure AI Translator examples/translated/worddocument_translated_zh-Hans.docx"
      ]
     },
     "execution_count": 23,
     "metadata": {},
     "output_type": "execute_result"
    }
   ],
   "source": [
    "translated_link = FileLink(path=os.path.join(\n",
    "    target_dir, os.path.basename(output_file)))\n",
    "translated_link"
   ]
  },
  {
   "cell_type": "markdown",
   "id": "311c2b8e",
   "metadata": {},
   "source": [
    "## Webapp"
   ]
  },
  {
   "cell_type": "code",
   "execution_count": 24,
   "id": "ac26fec8",
   "metadata": {},
   "outputs": [],
   "source": [
    "credential = TranslatorCredential(azure_ai_translator_key, azure_ai_translator_region)\n",
    "\n",
    "text_translator = TextTranslationClient(\n",
    "    endpoint=azure_ai_translator_endpoint, credential=credential)"
   ]
  },
  {
   "cell_type": "code",
   "execution_count": 25,
   "id": "7e016a20",
   "metadata": {},
   "outputs": [
    {
     "name": "stdout",
     "output_type": "stream",
     "text": [
      "Number of supported languages for translate operation: 135\n",
      "Number of supported languages for transliterate operation: 42\n",
      "Number of supported languages for dictionary operations: 50\n",
      "\n",
      "Translation Languages:\n",
      "1 af -- name: Afrikaans (Afrikaans)\n",
      "2 am -- name: Amharic (አማርኛ)\n",
      "3 ar -- name: Arabic (العربية)\n",
      "4 as -- name: Assamese (অসমীয়া)\n",
      "5 az -- name: Azerbaijani (Azərbaycan)\n",
      "6 ba -- name: Bashkir (Bashkir)\n",
      "7 bg -- name: Bulgarian (Български)\n",
      "8 bho -- name: Bhojpuri (भोजपुरी)\n",
      "9 bn -- name: Bangla (বাংলা)\n",
      "10 bo -- name: Tibetan (བོད་སྐད་)\n",
      "11 brx -- name: Bodo (बड़ो)\n",
      "12 bs -- name: Bosnian (Bosanski)\n",
      "13 ca -- name: Catalan (Català)\n",
      "14 cs -- name: Czech (Čeština)\n",
      "15 cy -- name: Welsh (Cymraeg)\n",
      "16 da -- name: Danish (Dansk)\n",
      "17 de -- name: German (Deutsch)\n",
      "18 doi -- name: Dogri (डोगरी)\n",
      "19 dsb -- name: Lower Sorbian (Dolnoserbšćina)\n",
      "20 dv -- name: Divehi (ދިވެހިބަސް)\n",
      "21 el -- name: Greek (Ελληνικά)\n",
      "22 en -- name: English (English)\n",
      "23 es -- name: Spanish (Español)\n",
      "24 et -- name: Estonian (Eesti)\n",
      "25 eu -- name: Basque (Euskara)\n",
      "26 fa -- name: Persian (فارسی)\n",
      "27 fi -- name: Finnish (Suomi)\n",
      "28 fil -- name: Filipino (Filipino)\n",
      "29 fj -- name: Fijian (Na Vosa Vakaviti)\n",
      "30 fo -- name: Faroese (Føroyskt)\n",
      "31 fr -- name: French (Français)\n",
      "32 fr-CA -- name: French (Canada) (Français (Canada))\n",
      "33 ga -- name: Irish (Gaeilge)\n",
      "34 gl -- name: Galician (Galego)\n",
      "35 gom -- name: Konkani (कोंकणी)\n",
      "36 gu -- name: Gujarati (ગુજરાતી)\n",
      "37 ha -- name: Hausa (Hausa)\n",
      "38 he -- name: Hebrew (עברית)\n",
      "39 hi -- name: Hindi (हिन्दी)\n",
      "40 hne -- name: Chhattisgarhi (छत्तीसगढ़ी)\n",
      "41 hr -- name: Croatian (Hrvatski)\n",
      "42 hsb -- name: Upper Sorbian (Hornjoserbšćina)\n",
      "43 ht -- name: Haitian Creole (Haitian Creole)\n",
      "44 hu -- name: Hungarian (Magyar)\n",
      "45 hy -- name: Armenian (Հայերեն)\n",
      "46 id -- name: Indonesian (Indonesia)\n",
      "47 ig -- name: Igbo (Ásụ̀sụ́ Ìgbò)\n",
      "48 ikt -- name: Inuinnaqtun (Inuinnaqtun)\n",
      "49 is -- name: Icelandic (Íslenska)\n",
      "50 it -- name: Italian (Italiano)\n",
      "51 iu -- name: Inuktitut (ᐃᓄᒃᑎᑐᑦ)\n",
      "52 iu-Latn -- name: Inuktitut (Latin) (Inuktitut (Latin))\n",
      "53 ja -- name: Japanese (日本語)\n",
      "54 ka -- name: Georgian (ქართული)\n",
      "55 kk -- name: Kazakh (Қазақ Тілі)\n",
      "56 km -- name: Khmer (ខ្មែរ)\n",
      "57 kmr -- name: Kurdish (Northern) (Kurdî (Bakur))\n",
      "58 kn -- name: Kannada (ಕನ್ನಡ)\n",
      "59 ko -- name: Korean (한국어)\n",
      "60 ks -- name: Kashmiri (کٲشُر)\n",
      "61 ku -- name: Kurdish (Central) (Kurdî (Navîn))\n",
      "62 ky -- name: Kyrgyz (Кыргызча)\n",
      "63 ln -- name: Lingala (Lingála)\n",
      "64 lo -- name: Lao (ລາວ)\n",
      "65 lt -- name: Lithuanian (Lietuvių)\n",
      "66 lug -- name: Ganda (Ganda)\n",
      "67 lv -- name: Latvian (Latviešu)\n",
      "68 lzh -- name: Chinese (Literary) (中文 (文言文))\n",
      "69 mai -- name: Maithili (मैथिली)\n",
      "70 mg -- name: Malagasy (Malagasy)\n",
      "71 mi -- name: Māori (Te Reo Māori)\n",
      "72 mk -- name: Macedonian (Македонски)\n",
      "73 ml -- name: Malayalam (മലയാളം)\n",
      "74 mn-Cyrl -- name: Mongolian (Cyrillic) (Монгол)\n",
      "75 mn-Mong -- name: Mongolian (Traditional) (ᠮᠣᠩᠭᠣᠯ ᠬᠡᠯᠡ)\n",
      "76 mni -- name: Manipuri (ꯃꯩꯇꯩꯂꯣꯟ)\n",
      "77 mr -- name: Marathi (मराठी)\n",
      "78 ms -- name: Malay (Melayu)\n",
      "79 mt -- name: Maltese (Malti)\n",
      "80 mww -- name: Hmong Daw (Hmong Daw)\n",
      "81 my -- name: Myanmar (Burmese) (မြန်မာ)\n",
      "82 nb -- name: Norwegian (Norsk Bokmål)\n",
      "83 ne -- name: Nepali (नेपाली)\n",
      "84 nl -- name: Dutch (Nederlands)\n",
      "85 nso -- name: Sesotho sa Leboa (Sesotho sa Leboa)\n",
      "86 nya -- name: Nyanja (Nyanja)\n",
      "87 or -- name: Odia (ଓଡ଼ିଆ)\n",
      "88 otq -- name: Querétaro Otomi (Hñähñu)\n",
      "89 pa -- name: Punjabi (ਪੰਜਾਬੀ)\n",
      "90 pl -- name: Polish (Polski)\n",
      "91 prs -- name: Dari (دری)\n",
      "92 ps -- name: Pashto (پښتو)\n",
      "93 pt -- name: Portuguese (Brazil) (Português (Brasil))\n",
      "94 pt-PT -- name: Portuguese (Portugal) (Português (Portugal))\n",
      "95 ro -- name: Romanian (Română)\n",
      "96 ru -- name: Russian (Русский)\n",
      "97 run -- name: Rundi (Rundi)\n",
      "98 rw -- name: Kinyarwanda (Kinyarwanda)\n",
      "99 sd -- name: Sindhi (سنڌي)\n",
      "100 si -- name: Sinhala (සිංහල)\n",
      "101 sk -- name: Slovak (Slovenčina)\n",
      "102 sl -- name: Slovenian (Slovenščina)\n",
      "103 sm -- name: Samoan (Gagana Sāmoa)\n",
      "104 sn -- name: Shona (chiShona)\n",
      "105 so -- name: Somali (Soomaali)\n",
      "106 sq -- name: Albanian (Shqip)\n",
      "107 sr-Cyrl -- name: Serbian (Cyrillic) (Српски (ћирилица))\n",
      "108 sr-Latn -- name: Serbian (Latin) (Srpski (latinica))\n",
      "109 st -- name: Sesotho (Sesotho)\n",
      "110 sv -- name: Swedish (Svenska)\n",
      "111 sw -- name: Swahili (Kiswahili)\n",
      "112 ta -- name: Tamil (தமிழ்)\n",
      "113 te -- name: Telugu (తెలుగు)\n",
      "114 th -- name: Thai (ไทย)\n",
      "115 ti -- name: Tigrinya (ትግር)\n",
      "116 tk -- name: Turkmen (Türkmen Dili)\n",
      "117 tlh-Latn -- name: Klingon (Latin) (Klingon (Latin))\n",
      "118 tlh-Piqd -- name: Klingon (pIqaD) (Klingon (pIqaD))\n",
      "119 tn -- name: Setswana (Setswana)\n",
      "120 to -- name: Tongan (Lea Fakatonga)\n",
      "121 tr -- name: Turkish (Türkçe)\n",
      "122 tt -- name: Tatar (Татар)\n",
      "123 ty -- name: Tahitian (Reo Tahiti)\n",
      "124 ug -- name: Uyghur (ئۇيغۇرچە)\n",
      "125 uk -- name: Ukrainian (Українська)\n",
      "126 ur -- name: Urdu (اردو)\n",
      "127 uz -- name: Uzbek (Latin) (O‘Zbek)\n",
      "128 vi -- name: Vietnamese (Tiếng Việt)\n",
      "129 xh -- name: Xhosa (isiXhosa)\n",
      "130 yo -- name: Yoruba (Èdè Yorùbá)\n",
      "131 yua -- name: Yucatec Maya (Yucatec Maya)\n",
      "132 yue -- name: Cantonese (Traditional) (粵語 (繁體))\n",
      "133 zh-Hans -- name: Chinese Simplified (中文 (简体))\n",
      "134 zh-Hant -- name: Chinese Traditional (繁體中文 (繁體))\n",
      "135 zu -- name: Zulu (Isi-Zulu)\n"
     ]
    }
   ],
   "source": [
    "try:\n",
    "    response = text_translator.get_languages()\n",
    "\n",
    "    print(\n",
    "        f\"Number of supported languages for translate operation: {len(response.translation) if response.translation is not None else 0}\"\n",
    "    )\n",
    "    print(\n",
    "        f\"Number of supported languages for transliterate operation: {len(response.transliteration) if response.transliteration is not None else 0}\"\n",
    "    )\n",
    "    print(\n",
    "        f\"Number of supported languages for dictionary operations: {len(response.dictionary) if response.dictionary is not None else 0}\"\n",
    "    )\n",
    "\n",
    "    print()\n",
    "\n",
    "    if response.translation is not None:\n",
    "        print(\"Translation Languages:\")\n",
    "        i = 1\n",
    "        for key, value in response.translation.items():\n",
    "            print(f\"{i} {key} -- name: {value.name} ({value.native_name})\")\n",
    "            i += 1\n",
    "\n",
    "except HttpResponseError as exception:\n",
    "    if exception.error is not None:\n",
    "        print(f\"Error Code: {exception.error.code}\")\n",
    "        print(f\"Message: {exception.error.message}\")\n",
    "    raise"
   ]
  },
  {
   "cell_type": "code",
   "execution_count": 26,
   "id": "dc0d6e9e",
   "metadata": {},
   "outputs": [
    {
     "data": {
      "text/html": [
       "<div>\n",
       "<style scoped>\n",
       "    .dataframe tbody tr th:only-of-type {\n",
       "        vertical-align: middle;\n",
       "    }\n",
       "\n",
       "    .dataframe tbody tr th {\n",
       "        vertical-align: top;\n",
       "    }\n",
       "\n",
       "    .dataframe thead th {\n",
       "        text-align: right;\n",
       "    }\n",
       "</style>\n",
       "<table border=\"1\" class=\"dataframe\">\n",
       "  <thead>\n",
       "    <tr style=\"text-align: right;\">\n",
       "      <th></th>\n",
       "      <th>Language_Code</th>\n",
       "      <th>Language_Name</th>\n",
       "      <th>Native_Name</th>\n",
       "    </tr>\n",
       "  </thead>\n",
       "  <tbody>\n",
       "    <tr>\n",
       "      <th>0</th>\n",
       "      <td>af</td>\n",
       "      <td>Afrikaans</td>\n",
       "      <td>Afrikaans</td>\n",
       "    </tr>\n",
       "    <tr>\n",
       "      <th>1</th>\n",
       "      <td>am</td>\n",
       "      <td>Amharic</td>\n",
       "      <td>አማርኛ</td>\n",
       "    </tr>\n",
       "    <tr>\n",
       "      <th>2</th>\n",
       "      <td>ar</td>\n",
       "      <td>Arabic</td>\n",
       "      <td>العربية</td>\n",
       "    </tr>\n",
       "    <tr>\n",
       "      <th>3</th>\n",
       "      <td>as</td>\n",
       "      <td>Assamese</td>\n",
       "      <td>অসমীয়া</td>\n",
       "    </tr>\n",
       "    <tr>\n",
       "      <th>4</th>\n",
       "      <td>az</td>\n",
       "      <td>Azerbaijani</td>\n",
       "      <td>Azərbaycan</td>\n",
       "    </tr>\n",
       "    <tr>\n",
       "      <th>...</th>\n",
       "      <td>...</td>\n",
       "      <td>...</td>\n",
       "      <td>...</td>\n",
       "    </tr>\n",
       "    <tr>\n",
       "      <th>130</th>\n",
       "      <td>yua</td>\n",
       "      <td>Yucatec Maya</td>\n",
       "      <td>Yucatec Maya</td>\n",
       "    </tr>\n",
       "    <tr>\n",
       "      <th>131</th>\n",
       "      <td>yue</td>\n",
       "      <td>Cantonese (Traditional)</td>\n",
       "      <td>粵語 (繁體)</td>\n",
       "    </tr>\n",
       "    <tr>\n",
       "      <th>132</th>\n",
       "      <td>zh-Hans</td>\n",
       "      <td>Chinese Simplified</td>\n",
       "      <td>中文 (简体)</td>\n",
       "    </tr>\n",
       "    <tr>\n",
       "      <th>133</th>\n",
       "      <td>zh-Hant</td>\n",
       "      <td>Chinese Traditional</td>\n",
       "      <td>繁體中文 (繁體)</td>\n",
       "    </tr>\n",
       "    <tr>\n",
       "      <th>134</th>\n",
       "      <td>zu</td>\n",
       "      <td>Zulu</td>\n",
       "      <td>Isi-Zulu</td>\n",
       "    </tr>\n",
       "  </tbody>\n",
       "</table>\n",
       "<p>135 rows × 3 columns</p>\n",
       "</div>"
      ],
      "text/plain": [
       "    Language_Code            Language_Name   Native_Name\n",
       "0              af                Afrikaans     Afrikaans\n",
       "1              am                  Amharic          አማርኛ\n",
       "2              ar                   Arabic       العربية\n",
       "3              as                 Assamese       অসমীয়া\n",
       "4              az              Azerbaijani    Azərbaycan\n",
       "..            ...                      ...           ...\n",
       "130           yua             Yucatec Maya  Yucatec Maya\n",
       "131           yue  Cantonese (Traditional)       粵語 (繁體)\n",
       "132       zh-Hans       Chinese Simplified       中文 (简体)\n",
       "133       zh-Hant      Chinese Traditional     繁體中文 (繁體)\n",
       "134            zu                     Zulu      Isi-Zulu\n",
       "\n",
       "[135 rows x 3 columns]"
      ]
     },
     "execution_count": 26,
     "metadata": {},
     "output_type": "execute_result"
    }
   ],
   "source": [
    "data = []\n",
    "\n",
    "if response.translation is not None:\n",
    "    for key, value in response.translation.items():\n",
    "        data.append({'Language_Code': key,\n",
    "                     'Language_Name': value.name,\n",
    "                     'Native_Name': value.native_name})\n",
    "\n",
    "df_languages = pd.DataFrame(data)\n",
    "df_languages"
   ]
  },
  {
   "cell_type": "code",
   "execution_count": 27,
   "id": "b5eb5bd6",
   "metadata": {},
   "outputs": [
    {
     "name": "stdout",
     "output_type": "stream",
     "text": [
      "{'af': 'Afrikaans', 'am': 'Amharic', 'ar': 'Arabic', 'as': 'Assamese', 'az': 'Azerbaijani', 'ba': 'Bashkir', 'bg': 'Bulgarian', 'bho': 'Bhojpuri', 'bn': 'Bangla', 'bo': 'Tibetan', 'brx': 'Bodo', 'bs': 'Bosnian', 'ca': 'Catalan', 'cs': 'Czech', 'cy': 'Welsh', 'da': 'Danish', 'de': 'German', 'doi': 'Dogri', 'dsb': 'Lower Sorbian', 'dv': 'Divehi', 'el': 'Greek', 'en': 'English', 'es': 'Spanish', 'et': 'Estonian', 'eu': 'Basque', 'fa': 'Persian', 'fi': 'Finnish', 'fil': 'Filipino', 'fj': 'Fijian', 'fo': 'Faroese', 'fr': 'French', 'fr-CA': 'French (Canada)', 'ga': 'Irish', 'gl': 'Galician', 'gom': 'Konkani', 'gu': 'Gujarati', 'ha': 'Hausa', 'he': 'Hebrew', 'hi': 'Hindi', 'hne': 'Chhattisgarhi', 'hr': 'Croatian', 'hsb': 'Upper Sorbian', 'ht': 'Haitian Creole', 'hu': 'Hungarian', 'hy': 'Armenian', 'id': 'Indonesian', 'ig': 'Igbo', 'ikt': 'Inuinnaqtun', 'is': 'Icelandic', 'it': 'Italian', 'iu': 'Inuktitut', 'iu-Latn': 'Inuktitut (Latin)', 'ja': 'Japanese', 'ka': 'Georgian', 'kk': 'Kazakh', 'km': 'Khmer', 'kmr': 'Kurdish (Northern)', 'kn': 'Kannada', 'ko': 'Korean', 'ks': 'Kashmiri', 'ku': 'Kurdish (Central)', 'ky': 'Kyrgyz', 'ln': 'Lingala', 'lo': 'Lao', 'lt': 'Lithuanian', 'lug': 'Ganda', 'lv': 'Latvian', 'lzh': 'Chinese (Literary)', 'mai': 'Maithili', 'mg': 'Malagasy', 'mi': 'Māori', 'mk': 'Macedonian', 'ml': 'Malayalam', 'mn-Cyrl': 'Mongolian (Cyrillic)', 'mn-Mong': 'Mongolian (Traditional)', 'mni': 'Manipuri', 'mr': 'Marathi', 'ms': 'Malay', 'mt': 'Maltese', 'mww': 'Hmong Daw', 'my': 'Myanmar (Burmese)', 'nb': 'Norwegian', 'ne': 'Nepali', 'nl': 'Dutch', 'nso': 'Sesotho sa Leboa', 'nya': 'Nyanja', 'or': 'Odia', 'otq': 'Querétaro Otomi', 'pa': 'Punjabi', 'pl': 'Polish', 'prs': 'Dari', 'ps': 'Pashto', 'pt': 'Portuguese (Brazil)', 'pt-PT': 'Portuguese (Portugal)', 'ro': 'Romanian', 'ru': 'Russian', 'run': 'Rundi', 'rw': 'Kinyarwanda', 'sd': 'Sindhi', 'si': 'Sinhala', 'sk': 'Slovak', 'sl': 'Slovenian', 'sm': 'Samoan', 'sn': 'Shona', 'so': 'Somali', 'sq': 'Albanian', 'sr-Cyrl': 'Serbian (Cyrillic)', 'sr-Latn': 'Serbian (Latin)', 'st': 'Sesotho', 'sv': 'Swedish', 'sw': 'Swahili', 'ta': 'Tamil', 'te': 'Telugu', 'th': 'Thai', 'ti': 'Tigrinya', 'tk': 'Turkmen', 'tlh-Latn': 'Klingon (Latin)', 'tlh-Piqd': 'Klingon (pIqaD)', 'tn': 'Setswana', 'to': 'Tongan', 'tr': 'Turkish', 'tt': 'Tatar', 'ty': 'Tahitian', 'ug': 'Uyghur', 'uk': 'Ukrainian', 'ur': 'Urdu', 'uz': 'Uzbek (Latin)', 'vi': 'Vietnamese', 'xh': 'Xhosa', 'yo': 'Yoruba', 'yua': 'Yucatec Maya', 'yue': 'Cantonese (Traditional)', 'zh-Hans': 'Chinese Simplified', 'zh-Hant': 'Chinese Traditional', 'zu': 'Zulu'}\n"
     ]
    }
   ],
   "source": [
    "language_dict = df_languages.set_index('Language_Code')['Language_Name'].to_dict()\n",
    "print(language_dict)"
   ]
  },
  {
   "cell_type": "code",
   "execution_count": 28,
   "id": "cd63f0c4",
   "metadata": {},
   "outputs": [
    {
     "data": {
      "text/plain": [
       "135"
      ]
     },
     "execution_count": 28,
     "metadata": {},
     "output_type": "execute_result"
    }
   ],
   "source": [
    "language_full_names = list(language_dict.values())\n",
    "language_full_names.sort()\n",
    "len(language_full_names)"
   ]
  },
  {
   "cell_type": "code",
   "execution_count": 29,
   "id": "3009144b",
   "metadata": {},
   "outputs": [],
   "source": [
    "language_codes = list(language_dict.keys())\n",
    "language_codes.sort()\n",
    "\n",
    "reverse_language_names = {v: k for k, v in language_dict.items()}"
   ]
  },
  {
   "cell_type": "code",
   "execution_count": 30,
   "id": "cf899d75",
   "metadata": {},
   "outputs": [],
   "source": [
    "def get_language_code(language_name):\n",
    "    # Function to get language code by language name\n",
    "    return reverse_language_names.get(language_name)"
   ]
  },
  {
   "cell_type": "code",
   "execution_count": 31,
   "id": "25046dbe",
   "metadata": {},
   "outputs": [
    {
     "data": {
      "text/plain": [
       "'fr'"
      ]
     },
     "execution_count": 31,
     "metadata": {},
     "output_type": "execute_result"
    }
   ],
   "source": [
    "# Quick test\n",
    "get_language_code(\"French\")"
   ]
  },
  {
   "cell_type": "code",
   "execution_count": 32,
   "id": "93688dc4",
   "metadata": {},
   "outputs": [],
   "source": [
    "def get_format_from_extension(source_ext):\n",
    "    format_mapping = {\n",
    "        '.txt': \"text/plain\",\n",
    "        '.txv': \"text/tab-separated-values\",\n",
    "        '.tab': \"text/tab-separated-values\",\n",
    "        '.csv': \"text/csv\",\n",
    "        '.html': \"text/html\",\n",
    "        '.htm': \"text/html\",\n",
    "        '.mthml': \"message/rfc822@application/x-mimearchive@multipart/related\",\n",
    "        '.mthm': \"message/rfc822@application/x-mimearchive@multipart/related\",\n",
    "        '.pptx': \"application/vnd.openxmlformats-officedocument.presentationml.presentation\",\n",
    "        '.xlsx': \"application/vnd.openxmlformats-officedocument.spreadsheetml.sheet\",\n",
    "        '.docx': \"application/vnd.openxmlformats-officedocument.wordprocessingml.document\",\n",
    "        '.msg': \"application/vnd.ms-outlook\",\n",
    "        '.xlf': \"application/xliff+xml\",\n",
    "        '.xliff': \"application/xliff+xml\"\n",
    "    }\n",
    "    return format_mapping.get(source_ext, None)"
   ]
  },
  {
   "cell_type": "code",
   "execution_count": 33,
   "id": "09544cbe",
   "metadata": {},
   "outputs": [
    {
     "data": {
      "text/plain": [
       "'application/vnd.openxmlformats-officedocument.presentationml.presentation'"
      ]
     },
     "execution_count": 33,
     "metadata": {},
     "output_type": "execute_result"
    }
   ],
   "source": [
    "# Test\n",
    "source_ext = '.pptx'\n",
    "get_format_from_extension(source_ext)"
   ]
  },
  {
   "cell_type": "code",
   "execution_count": 34,
   "id": "60db20bf",
   "metadata": {},
   "outputs": [],
   "source": [
    "def document_translation_fn(source_document, name_source_lang, name_target_lang):\n",
    "    \"\"\"\n",
    "    Synchronous document translation\n",
    "    \"\"\"\n",
    "    # Get the code\n",
    "    source_lang = get_language_code(name_source_lang)\n",
    "    target_lang = get_language_code(name_target_lang)\n",
    "    \n",
    "    # Output file\n",
    "    source_file = os.path.splitext(os.path.basename(source_document))[0]\n",
    "    source_ext = os.path.splitext(source_document)[1]\n",
    "    \n",
    "    output_file = os.path.join(target_dir, source_file + \"_\" + str(name_target_lang) + source_ext)\n",
    "    \n",
    "    fileformat = get_format_from_extension(source_ext)\n",
    "    \n",
    "    params = {\n",
    "        \"sourceLanguage\": source_lang,\n",
    "        \"targetLanguage\": target_lang,\n",
    "        \"api-version\": \"2023-11-01-preview\",\n",
    "    }\n",
    "\n",
    "    headers = {\"Ocp-Apim-Subscription-Key\": azure_ai_translator_key}\n",
    "    \n",
    "    path = \"translator/document:translate\"\n",
    "    url = azure_ai_translator_endpoint + path\n",
    "\n",
    "    with open(source_document, \"rb\") as document:\n",
    "        # Define the data to be sent\n",
    "        # Find list of supported content types here: https://aka.ms/dtsync-content-type\n",
    "        data = {\n",
    "            \"document\": (os.path.basename(source_document),\n",
    "                         document,\n",
    "                         fileformat)\n",
    "        }\n",
    "\n",
    "        # Send the POST request\n",
    "        response = requests.post(url, headers=headers, files=data, params=params)\n",
    "\n",
    "    # Write the response content to a file\n",
    "    with open(output_file, \"wb\") as output_document:\n",
    "        output_document.write(response.content)\n",
    "        \n",
    "    return output_file"
   ]
  },
  {
   "cell_type": "code",
   "execution_count": 35,
   "id": "840a4ac9",
   "metadata": {},
   "outputs": [
    {
     "data": {
      "text/plain": [
       "'translated/worddocument_Italian.docx'"
      ]
     },
     "execution_count": 35,
     "metadata": {},
     "output_type": "execute_result"
    }
   ],
   "source": [
    "# Quick test\n",
    "document_translation_fn(\"source/worddocument.docx\", \"English\", \"Italian\")"
   ]
  },
  {
   "cell_type": "code",
   "execution_count": 37,
   "id": "f1595b81",
   "metadata": {},
   "outputs": [
    {
     "name": "stderr",
     "output_type": "stream",
     "text": [
      "themes/theme_schema@0.0.3.json: 100%|██████████| 13.3k/13.3k [00:00<00:00, 22.8MB/s]\n"
     ]
    },
    {
     "name": "stdout",
     "output_type": "stream",
     "text": [
      "Running on local URL:  http://127.0.0.1:7861\n",
      "Running on public URL: https://fdef60e4b0cb8906a5.gradio.live\n",
      "\n",
      "This share link expires in 72 hours. For free permanent hosting and GPU upgrades, run `gradio deploy` from Terminal to deploy to Spaces (https://huggingface.co/spaces)\n"
     ]
    },
    {
     "data": {
      "text/html": [
       "<div><iframe src=\"https://fdef60e4b0cb8906a5.gradio.live\" width=\"100%\" height=\"500\" allow=\"autoplay; camera; microphone; clipboard-read; clipboard-write;\" frameborder=\"0\" allowfullscreen></iframe></div>"
      ],
      "text/plain": [
       "<IPython.core.display.HTML object>"
      ]
     },
     "metadata": {},
     "output_type": "display_data"
    },
    {
     "data": {
      "text/plain": []
     },
     "execution_count": 37,
     "metadata": {},
     "output_type": "execute_result"
    }
   ],
   "source": [
    "image_url = \"https://th.bing.com/th/id/OIP.ngRD8aNJwXZ2B0eol5tFlwAAAA?rs=1&pid=ImgDetMain\"\n",
    "logo = \"<center> <img src= {} width=100px></center>\".format(image_url)\n",
    "\n",
    "doc_translator_webapp = gr.Interface(\n",
    "    fn=document_translation_fn,\n",
    "    inputs=[\n",
    "        gr.components.File(label=\"Document to translate\"),\n",
    "        gr.components.Dropdown(label=\"Source language\",\n",
    "                               choices=language_full_names),\n",
    "        gr.components.Dropdown(label=\"Target language\",\n",
    "                               choices=language_full_names),\n",
    "    ],\n",
    "    outputs=gr.File(label=\"Translated text\"),\n",
    "    cache_examples=False,\n",
    "    title=\"Synchronous document translation with Azure AI Translator\",\n",
    "    theme=\"rottenlittlecreature/Moon_Goblin\",\n",
    "    description=logo,\n",
    ")\n",
    "\n",
    "doc_translator_webapp.launch(share=True)"
   ]
  },
  {
   "cell_type": "code",
   "execution_count": null,
   "id": "2d7835c3",
   "metadata": {},
   "outputs": [],
   "source": []
  },
  {
   "cell_type": "code",
   "execution_count": null,
   "id": "15bd10f7",
   "metadata": {},
   "outputs": [],
   "source": []
  }
 ],
 "metadata": {
  "kernelspec": {
   "display_name": "Python 3.10 - SDK v2",
   "language": "python",
   "name": "python310-sdkv2"
  },
  "language_info": {
   "codemirror_mode": {
    "name": "ipython",
    "version": 3
   },
   "file_extension": ".py",
   "mimetype": "text/x-python",
   "name": "python",
   "nbconvert_exporter": "python",
   "pygments_lexer": "ipython3",
   "version": "3.10.11"
  }
 },
 "nbformat": 4,
 "nbformat_minor": 5
}
