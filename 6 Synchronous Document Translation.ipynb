{
 "cells": [
  {
   "cell_type": "markdown",
   "id": "d32b45c0",
   "metadata": {},
   "source": [
    "# Synchronous Document Translation\n",
    "https://learn.microsoft.com/en-us/azure/ai-services/translator/document-translation/quickstarts/synchronous-rest-api\n"
   ]
  },
  {
   "cell_type": "markdown",
   "id": "9956e5e4",
   "metadata": {},
   "source": [
    "<img src=\"https://techcommunity.microsoft.com/t5/image/serverpage/image-id/552407i90F58669E536FA1A/image-size/large?v=v2&px=999\">"
   ]
  },
  {
   "cell_type": "markdown",
   "id": "1fd8bf2f",
   "metadata": {},
   "source": [
    "> https://aka.ms/TranslatorLanguageCodes "
   ]
  },
  {
   "cell_type": "code",
   "execution_count": 1,
   "id": "076c88fc",
   "metadata": {},
   "outputs": [],
   "source": [
    "import datetime\n",
    "import os\n",
    "import requests\n",
    "import sys\n",
    "import time\n",
    "\n",
    "from dotenv import load_dotenv\n",
    "from IPython.display import FileLink"
   ]
  },
  {
   "cell_type": "code",
   "execution_count": 2,
   "id": "b93eb65f",
   "metadata": {},
   "outputs": [
    {
     "data": {
      "text/plain": [
       "'3.10.11 (main, May 16 2023, 00:28:57) [GCC 11.2.0]'"
      ]
     },
     "execution_count": 2,
     "metadata": {},
     "output_type": "execute_result"
    }
   ],
   "source": [
    "sys.version"
   ]
  },
  {
   "cell_type": "code",
   "execution_count": 3,
   "id": "6a8a50d3",
   "metadata": {},
   "outputs": [
    {
     "name": "stdout",
     "output_type": "stream",
     "text": [
      "Today is 10-Apr-2024 09:28:19\n"
     ]
    }
   ],
   "source": [
    "print(f\"Today is {datetime.datetime.today().strftime('%d-%b-%Y %H:%M:%S')}\")"
   ]
  },
  {
   "cell_type": "markdown",
   "id": "dc4937f9",
   "metadata": {},
   "source": [
    "## Azure AI Translator credentials"
   ]
  },
  {
   "cell_type": "code",
   "execution_count": 4,
   "id": "fb379d08",
   "metadata": {},
   "outputs": [],
   "source": [
    "load_dotenv(\"azure.env\")\n",
    "\n",
    "key = os.getenv(\"AZURE_AI_TRANSLATION_KEY\")\n",
    "endpoint = os.getenv(\"AZURE_AI_TRANSLATION_ENDPOINTDOCUMENT\")\n",
    "region = os.getenv(\"AZURE_AI_TRANSLATION_REGION\")"
   ]
  },
  {
   "cell_type": "code",
   "execution_count": 5,
   "id": "6350f45f",
   "metadata": {},
   "outputs": [],
   "source": [
    "source_dir = \"source\"\n",
    "target_dir = \"translated\"\n",
    "\n",
    "os.makedirs(source_dir, exist_ok=True)\n",
    "os.makedirs(target_dir, exist_ok=True)"
   ]
  },
  {
   "cell_type": "code",
   "execution_count": 6,
   "id": "746e46c8",
   "metadata": {},
   "outputs": [],
   "source": [
    "def translate(input_file, sourceLanguage, targetLanguage):\n",
    "    \"\"\"\n",
    "    Document translation\n",
    "    \"\"\"\n",
    "    start = time.time()\n",
    "    print(f\"Translating the document from {sourceLanguage} to {targetLanguage} ...\")\n",
    "\n",
    "    params = {\n",
    "        \"sourceLanguage\": sourceLanguage,\n",
    "        \"targetLanguage\": targetLanguage,\n",
    "        \"api-version\": \"2023-11-01-preview\",\n",
    "    }\n",
    "    \n",
    "    path = \"translator/document:translate\"\n",
    "    url = endpoint + path\n",
    "\n",
    "    headers = {\"Ocp-Apim-Subscription-Key\": key}\n",
    "    \n",
    "    with open(input_file, \"rb\") as document:\n",
    "        # Define the data to be sent\n",
    "        # Find list of supported content types here: https://aka.ms/dtsync-content-type\n",
    "        data = {\n",
    "            \"document\": (os.path.basename(input_file),\n",
    "                         document,\n",
    "                         \"application/vnd.openxmlformats-officedocument.wordprocessingml.document\")\n",
    "        }\n",
    "\n",
    "        # Send the POST request\n",
    "        response = requests.post(url, headers=headers, files=data, params=params)\n",
    "\n",
    "    # Write the response content to a file\n",
    "    with open(output_file, \"wb\") as output_document:\n",
    "        output_document.write(response.content)\n",
    "\n",
    "    elapsed = time.time() - start\n",
    "    print(\"\\nDone. Elapsed time: \" + time.strftime(\"%H:%M:%S.{}\".format(str(elapsed %\n",
    "          1)[2:])[:15], time.gmtime(elapsed)))"
   ]
  },
  {
   "cell_type": "markdown",
   "id": "d047662e",
   "metadata": {},
   "source": [
    "## Test 1"
   ]
  },
  {
   "cell_type": "code",
   "execution_count": 7,
   "id": "a0735ea0",
   "metadata": {},
   "outputs": [],
   "source": [
    "sourceLanguage = \"en\"\n",
    "targetLanguage = \"fr\""
   ]
  },
  {
   "cell_type": "code",
   "execution_count": 8,
   "id": "6211f8a5",
   "metadata": {},
   "outputs": [],
   "source": [
    "input_file = os.path.join(source_dir, \"worddocument.docx\")\n",
    "output_file = os.path.join(target_dir, \"worddocument_translated_\" + targetLanguage + \".docx\")"
   ]
  },
  {
   "cell_type": "code",
   "execution_count": 9,
   "id": "c53dc6d0",
   "metadata": {},
   "outputs": [
    {
     "data": {
      "text/html": [
       "<a href='source/worddocument.docx' target='_blank'>source/worddocument.docx</a><br>"
      ],
      "text/plain": [
       "/mnt/batch/tasks/shared/LS_root/mounts/clusters/seretkow9/code/Users/seretkow/Azure AI Translator examples/source/worddocument.docx"
      ]
     },
     "execution_count": 9,
     "metadata": {},
     "output_type": "execute_result"
    }
   ],
   "source": [
    "source_link = FileLink(path=os.path.join(\n",
    "    source_dir, os.path.basename(input_file)))\n",
    "source_link"
   ]
  },
  {
   "cell_type": "code",
   "execution_count": 10,
   "id": "ee63c4a3",
   "metadata": {},
   "outputs": [
    {
     "name": "stdout",
     "output_type": "stream",
     "text": [
      "Translating the document from en to fr ...\n",
      "\n",
      "Done. Elapsed time: 00:00:00.384228\n"
     ]
    }
   ],
   "source": [
    "translate(input_file, sourceLanguage, targetLanguage)"
   ]
  },
  {
   "cell_type": "code",
   "execution_count": 11,
   "id": "8a975ae5",
   "metadata": {},
   "outputs": [
    {
     "data": {
      "text/html": [
       "<a href='translated/worddocument_translated_fr.docx' target='_blank'>translated/worddocument_translated_fr.docx</a><br>"
      ],
      "text/plain": [
       "/mnt/batch/tasks/shared/LS_root/mounts/clusters/seretkow9/code/Users/seretkow/Azure AI Translator examples/translated/worddocument_translated_fr.docx"
      ]
     },
     "execution_count": 11,
     "metadata": {},
     "output_type": "execute_result"
    }
   ],
   "source": [
    "translated_link = FileLink(path=os.path.join(\n",
    "    target_dir, os.path.basename(output_file)))\n",
    "translated_link"
   ]
  },
  {
   "cell_type": "markdown",
   "id": "efd2d5a5",
   "metadata": {},
   "source": [
    "## Test 2"
   ]
  },
  {
   "cell_type": "code",
   "execution_count": 12,
   "id": "eb5ae4d8",
   "metadata": {},
   "outputs": [],
   "source": [
    "sourceLanguage = \"en\"\n",
    "targetLanguage = \"it\""
   ]
  },
  {
   "cell_type": "code",
   "execution_count": 13,
   "id": "10990c8a",
   "metadata": {},
   "outputs": [],
   "source": [
    "input_file = os.path.join(source_dir, \"worddocument.docx\")\n",
    "output_file = os.path.join(target_dir, \"worddocument_translated_\" + targetLanguage + \".docx\")"
   ]
  },
  {
   "cell_type": "code",
   "execution_count": 14,
   "id": "226d0b33",
   "metadata": {},
   "outputs": [
    {
     "name": "stdout",
     "output_type": "stream",
     "text": [
      "Translating the document from en to it ...\n",
      "\n",
      "Done. Elapsed time: 00:00:00.426173\n"
     ]
    }
   ],
   "source": [
    "translate(input_file, sourceLanguage, targetLanguage)"
   ]
  },
  {
   "cell_type": "code",
   "execution_count": 15,
   "id": "850df4b8",
   "metadata": {},
   "outputs": [
    {
     "data": {
      "text/html": [
       "<a href='translated/worddocument_translated_it.docx' target='_blank'>translated/worddocument_translated_it.docx</a><br>"
      ],
      "text/plain": [
       "/mnt/batch/tasks/shared/LS_root/mounts/clusters/seretkow9/code/Users/seretkow/Azure AI Translator examples/translated/worddocument_translated_it.docx"
      ]
     },
     "execution_count": 15,
     "metadata": {},
     "output_type": "execute_result"
    }
   ],
   "source": [
    "translated_link = FileLink(path=os.path.join(\n",
    "    target_dir, os.path.basename(output_file)))\n",
    "translated_link"
   ]
  },
  {
   "cell_type": "markdown",
   "id": "21ac8bea",
   "metadata": {},
   "source": [
    "## Test 3"
   ]
  },
  {
   "cell_type": "code",
   "execution_count": 16,
   "id": "ece8e6c6",
   "metadata": {},
   "outputs": [],
   "source": [
    "sourceLanguage = \"en\"\n",
    "targetLanguage = \"ar\""
   ]
  },
  {
   "cell_type": "code",
   "execution_count": 17,
   "id": "57238ffb",
   "metadata": {},
   "outputs": [],
   "source": [
    "input_file = os.path.join(source_dir, \"worddocument.docx\")\n",
    "output_file = os.path.join(target_dir, \"worddocument_translated_\" + targetLanguage + \".docx\")"
   ]
  },
  {
   "cell_type": "code",
   "execution_count": 18,
   "id": "3867f664",
   "metadata": {},
   "outputs": [
    {
     "name": "stdout",
     "output_type": "stream",
     "text": [
      "Translating the document from en to ar ...\n",
      "\n",
      "Done. Elapsed time: 00:00:00.440634\n"
     ]
    }
   ],
   "source": [
    "translate(input_file, sourceLanguage, targetLanguage)"
   ]
  },
  {
   "cell_type": "code",
   "execution_count": 19,
   "id": "bfe308ae",
   "metadata": {},
   "outputs": [
    {
     "data": {
      "text/html": [
       "<a href='translated/worddocument_translated_ar.docx' target='_blank'>translated/worddocument_translated_ar.docx</a><br>"
      ],
      "text/plain": [
       "/mnt/batch/tasks/shared/LS_root/mounts/clusters/seretkow9/code/Users/seretkow/Azure AI Translator examples/translated/worddocument_translated_ar.docx"
      ]
     },
     "execution_count": 19,
     "metadata": {},
     "output_type": "execute_result"
    }
   ],
   "source": [
    "translated_link = FileLink(path=os.path.join(\n",
    "    target_dir, os.path.basename(output_file)))\n",
    "translated_link"
   ]
  },
  {
   "cell_type": "markdown",
   "id": "d532a72b",
   "metadata": {},
   "source": [
    "## Test 4"
   ]
  },
  {
   "cell_type": "code",
   "execution_count": 20,
   "id": "10c2a6dd",
   "metadata": {},
   "outputs": [],
   "source": [
    "sourceLanguage = \"en\"\n",
    "targetLanguage = \"zh-Hans\""
   ]
  },
  {
   "cell_type": "code",
   "execution_count": 21,
   "id": "ada8a706",
   "metadata": {},
   "outputs": [],
   "source": [
    "input_file = os.path.join(source_dir, \"worddocument.docx\")\n",
    "output_file = os.path.join(target_dir, \"worddocument_translated_\" + targetLanguage + \".docx\")"
   ]
  },
  {
   "cell_type": "code",
   "execution_count": 22,
   "id": "e9c953f3",
   "metadata": {},
   "outputs": [
    {
     "name": "stdout",
     "output_type": "stream",
     "text": [
      "Translating the document from en to zh-Hans ...\n",
      "\n",
      "Done. Elapsed time: 00:00:00.391599\n"
     ]
    }
   ],
   "source": [
    "translate(input_file, sourceLanguage, targetLanguage)"
   ]
  },
  {
   "cell_type": "code",
   "execution_count": 23,
   "id": "636598ce",
   "metadata": {},
   "outputs": [
    {
     "data": {
      "text/html": [
       "<a href='translated/worddocument_translated_zh-Hans.docx' target='_blank'>translated/worddocument_translated_zh-Hans.docx</a><br>"
      ],
      "text/plain": [
       "/mnt/batch/tasks/shared/LS_root/mounts/clusters/seretkow9/code/Users/seretkow/Azure AI Translator examples/translated/worddocument_translated_zh-Hans.docx"
      ]
     },
     "execution_count": 23,
     "metadata": {},
     "output_type": "execute_result"
    }
   ],
   "source": [
    "translated_link = FileLink(path=os.path.join(\n",
    "    target_dir, os.path.basename(output_file)))\n",
    "translated_link"
   ]
  },
  {
   "cell_type": "code",
   "execution_count": null,
   "id": "f3704d63",
   "metadata": {},
   "outputs": [],
   "source": []
  }
 ],
 "metadata": {
  "kernelspec": {
   "display_name": "Python 3.10 - SDK v2",
   "language": "python",
   "name": "python310-sdkv2"
  },
  "language_info": {
   "codemirror_mode": {
    "name": "ipython",
    "version": 3
   },
   "file_extension": ".py",
   "mimetype": "text/x-python",
   "name": "python",
   "nbconvert_exporter": "python",
   "pygments_lexer": "ipython3",
   "version": "3.10.11"
  }
 },
 "nbformat": 4,
 "nbformat_minor": 5
}
