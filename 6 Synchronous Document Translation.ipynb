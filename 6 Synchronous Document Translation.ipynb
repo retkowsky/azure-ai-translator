{
 "cells": [
  {
   "cell_type": "markdown",
   "id": "d32b45c0",
   "metadata": {},
   "source": [
    "# Synchronous Document Translation\n",
    "https://learn.microsoft.com/en-us/azure/ai-services/translator/document-translation/quickstarts/synchronous-rest-api\n"
   ]
  },
  {
   "cell_type": "markdown",
   "id": "9956e5e4",
   "metadata": {},
   "source": [
    "<img src=\"https://techcommunity.microsoft.com/t5/image/serverpage/image-id/552407i90F58669E536FA1A/image-size/large?v=v2&px=999\">"
   ]
  },
  {
   "cell_type": "markdown",
   "id": "1fd8bf2f",
   "metadata": {},
   "source": [
    "> https://aka.ms/TranslatorLanguageCodes "
   ]
  },
  {
   "cell_type": "code",
   "execution_count": 34,
   "id": "076c88fc",
   "metadata": {},
   "outputs": [],
   "source": [
    "import datetime\n",
    "import gradio as gr\n",
    "import os\n",
    "import requests\n",
    "import sys\n",
    "import time\n",
    "\n",
    "from dotenv import load_dotenv\n",
    "from IPython.display import FileLink"
   ]
  },
  {
   "cell_type": "code",
   "execution_count": 2,
   "id": "b93eb65f",
   "metadata": {},
   "outputs": [
    {
     "data": {
      "text/plain": [
       "'3.10.11 (main, May 16 2023, 00:28:57) [GCC 11.2.0]'"
      ]
     },
     "execution_count": 2,
     "metadata": {},
     "output_type": "execute_result"
    }
   ],
   "source": [
    "sys.version"
   ]
  },
  {
   "cell_type": "code",
   "execution_count": 3,
   "id": "6a8a50d3",
   "metadata": {},
   "outputs": [
    {
     "name": "stdout",
     "output_type": "stream",
     "text": [
      "Today is 10-Apr-2024 13:35:42\n"
     ]
    }
   ],
   "source": [
    "print(f\"Today is {datetime.datetime.today().strftime('%d-%b-%Y %H:%M:%S')}\")"
   ]
  },
  {
   "cell_type": "markdown",
   "id": "dc4937f9",
   "metadata": {},
   "source": [
    "## Azure AI Translator credentials"
   ]
  },
  {
   "cell_type": "code",
   "execution_count": 4,
   "id": "fb379d08",
   "metadata": {},
   "outputs": [],
   "source": [
    "load_dotenv(\"azure.env\")\n",
    "\n",
    "key = os.getenv(\"AZURE_AI_TRANSLATION_KEY\")\n",
    "endpoint = os.getenv(\"AZURE_AI_TRANSLATION_ENDPOINTDOCUMENT\")\n",
    "region = os.getenv(\"AZURE_AI_TRANSLATION_REGION\")"
   ]
  },
  {
   "cell_type": "code",
   "execution_count": 5,
   "id": "6350f45f",
   "metadata": {},
   "outputs": [],
   "source": [
    "source_dir = \"source\"\n",
    "target_dir = \"translated\"\n",
    "\n",
    "os.makedirs(source_dir, exist_ok=True)\n",
    "os.makedirs(target_dir, exist_ok=True)"
   ]
  },
  {
   "cell_type": "markdown",
   "id": "89435185",
   "metadata": {},
   "source": [
    "## Function"
   ]
  },
  {
   "cell_type": "code",
   "execution_count": 6,
   "id": "746e46c8",
   "metadata": {},
   "outputs": [],
   "source": [
    "def translate(input_file, sourceLanguage, targetLanguage):\n",
    "    \"\"\"\n",
    "    Document translation\n",
    "    \"\"\"\n",
    "    start = time.time()\n",
    "    print(f\"Translating the document from {sourceLanguage} to {targetLanguage} ...\")\n",
    "\n",
    "    params = {\n",
    "        \"sourceLanguage\": sourceLanguage,\n",
    "        \"targetLanguage\": targetLanguage,\n",
    "        \"api-version\": \"2023-11-01-preview\",\n",
    "    }\n",
    "    \n",
    "    path = \"translator/document:translate\"\n",
    "    url = endpoint + path\n",
    "\n",
    "    headers = {\"Ocp-Apim-Subscription-Key\": key}\n",
    "    \n",
    "    with open(input_file, \"rb\") as document:\n",
    "        # Define the data to be sent\n",
    "        # Find list of supported content types here: https://aka.ms/dtsync-content-type\n",
    "        data = {\n",
    "            \"document\": (os.path.basename(input_file),\n",
    "                         document,\n",
    "                         \"application/vnd.openxmlformats-officedocument.wordprocessingml.document\")\n",
    "        }\n",
    "\n",
    "        # Send the POST request\n",
    "        response = requests.post(url, headers=headers, files=data, params=params)\n",
    "\n",
    "    # Write the response content to a file\n",
    "    with open(output_file, \"wb\") as output_document:\n",
    "        output_document.write(response.content)\n",
    "\n",
    "    elapsed = time.time() - start\n",
    "    print(\"\\nDone. Elapsed time: \" + time.strftime(\"%H:%M:%S.{}\".format(str(elapsed %\n",
    "          1)[2:])[:15], time.gmtime(elapsed)))"
   ]
  },
  {
   "cell_type": "markdown",
   "id": "d047662e",
   "metadata": {},
   "source": [
    "## Test 1"
   ]
  },
  {
   "cell_type": "code",
   "execution_count": 7,
   "id": "a0735ea0",
   "metadata": {},
   "outputs": [],
   "source": [
    "sourceLanguage = \"en\"\n",
    "targetLanguage = \"fr\""
   ]
  },
  {
   "cell_type": "code",
   "execution_count": 8,
   "id": "6211f8a5",
   "metadata": {},
   "outputs": [],
   "source": [
    "input_file = os.path.join(source_dir, \"worddocument.docx\")\n",
    "output_file = os.path.join(target_dir, \"worddocument_translated_\" + targetLanguage + \".docx\")"
   ]
  },
  {
   "cell_type": "code",
   "execution_count": 9,
   "id": "c53dc6d0",
   "metadata": {},
   "outputs": [
    {
     "data": {
      "text/html": [
       "<a href='source/worddocument.docx' target='_blank'>source/worddocument.docx</a><br>"
      ],
      "text/plain": [
       "/mnt/batch/tasks/shared/LS_root/mounts/clusters/seretkow9/code/Users/seretkow/Azure AI Translator examples/source/worddocument.docx"
      ]
     },
     "execution_count": 9,
     "metadata": {},
     "output_type": "execute_result"
    }
   ],
   "source": [
    "source_link = FileLink(path=os.path.join(\n",
    "    source_dir, os.path.basename(input_file)))\n",
    "source_link"
   ]
  },
  {
   "cell_type": "code",
   "execution_count": 10,
   "id": "ee63c4a3",
   "metadata": {},
   "outputs": [
    {
     "name": "stdout",
     "output_type": "stream",
     "text": [
      "Translating the document from en to fr ...\n",
      "\n",
      "Done. Elapsed time: 00:00:00.402915\n"
     ]
    }
   ],
   "source": [
    "translate(input_file, sourceLanguage, targetLanguage)"
   ]
  },
  {
   "cell_type": "code",
   "execution_count": 11,
   "id": "8a975ae5",
   "metadata": {},
   "outputs": [
    {
     "data": {
      "text/html": [
       "<a href='translated/worddocument_translated_fr.docx' target='_blank'>translated/worddocument_translated_fr.docx</a><br>"
      ],
      "text/plain": [
       "/mnt/batch/tasks/shared/LS_root/mounts/clusters/seretkow9/code/Users/seretkow/Azure AI Translator examples/translated/worddocument_translated_fr.docx"
      ]
     },
     "execution_count": 11,
     "metadata": {},
     "output_type": "execute_result"
    }
   ],
   "source": [
    "translated_link = FileLink(path=os.path.join(\n",
    "    target_dir, os.path.basename(output_file)))\n",
    "translated_link"
   ]
  },
  {
   "cell_type": "markdown",
   "id": "efd2d5a5",
   "metadata": {},
   "source": [
    "## Test 2"
   ]
  },
  {
   "cell_type": "code",
   "execution_count": 12,
   "id": "eb5ae4d8",
   "metadata": {},
   "outputs": [],
   "source": [
    "sourceLanguage = \"en\"\n",
    "targetLanguage = \"it\""
   ]
  },
  {
   "cell_type": "code",
   "execution_count": 13,
   "id": "10990c8a",
   "metadata": {},
   "outputs": [],
   "source": [
    "input_file = os.path.join(source_dir, \"worddocument.docx\")\n",
    "output_file = os.path.join(target_dir, \"worddocument_translated_\" + targetLanguage + \".docx\")"
   ]
  },
  {
   "cell_type": "code",
   "execution_count": 14,
   "id": "226d0b33",
   "metadata": {},
   "outputs": [
    {
     "name": "stdout",
     "output_type": "stream",
     "text": [
      "Translating the document from en to it ...\n",
      "\n",
      "Done. Elapsed time: 00:00:00.381246\n"
     ]
    }
   ],
   "source": [
    "translate(input_file, sourceLanguage, targetLanguage)"
   ]
  },
  {
   "cell_type": "code",
   "execution_count": 15,
   "id": "850df4b8",
   "metadata": {},
   "outputs": [
    {
     "data": {
      "text/html": [
       "<a href='translated/worddocument_translated_it.docx' target='_blank'>translated/worddocument_translated_it.docx</a><br>"
      ],
      "text/plain": [
       "/mnt/batch/tasks/shared/LS_root/mounts/clusters/seretkow9/code/Users/seretkow/Azure AI Translator examples/translated/worddocument_translated_it.docx"
      ]
     },
     "execution_count": 15,
     "metadata": {},
     "output_type": "execute_result"
    }
   ],
   "source": [
    "translated_link = FileLink(path=os.path.join(\n",
    "    target_dir, os.path.basename(output_file)))\n",
    "translated_link"
   ]
  },
  {
   "cell_type": "markdown",
   "id": "21ac8bea",
   "metadata": {},
   "source": [
    "## Test 3"
   ]
  },
  {
   "cell_type": "code",
   "execution_count": 16,
   "id": "ece8e6c6",
   "metadata": {},
   "outputs": [],
   "source": [
    "sourceLanguage = \"en\"\n",
    "targetLanguage = \"ar\""
   ]
  },
  {
   "cell_type": "code",
   "execution_count": 17,
   "id": "57238ffb",
   "metadata": {},
   "outputs": [],
   "source": [
    "input_file = os.path.join(source_dir, \"worddocument.docx\")\n",
    "output_file = os.path.join(target_dir, \"worddocument_translated_\" + targetLanguage + \".docx\")"
   ]
  },
  {
   "cell_type": "code",
   "execution_count": 18,
   "id": "3867f664",
   "metadata": {},
   "outputs": [
    {
     "name": "stdout",
     "output_type": "stream",
     "text": [
      "Translating the document from en to ar ...\n",
      "\n",
      "Done. Elapsed time: 00:00:00.381465\n"
     ]
    }
   ],
   "source": [
    "translate(input_file, sourceLanguage, targetLanguage)"
   ]
  },
  {
   "cell_type": "code",
   "execution_count": 19,
   "id": "bfe308ae",
   "metadata": {},
   "outputs": [
    {
     "data": {
      "text/html": [
       "<a href='translated/worddocument_translated_ar.docx' target='_blank'>translated/worddocument_translated_ar.docx</a><br>"
      ],
      "text/plain": [
       "/mnt/batch/tasks/shared/LS_root/mounts/clusters/seretkow9/code/Users/seretkow/Azure AI Translator examples/translated/worddocument_translated_ar.docx"
      ]
     },
     "execution_count": 19,
     "metadata": {},
     "output_type": "execute_result"
    }
   ],
   "source": [
    "translated_link = FileLink(path=os.path.join(\n",
    "    target_dir, os.path.basename(output_file)))\n",
    "translated_link"
   ]
  },
  {
   "cell_type": "markdown",
   "id": "d532a72b",
   "metadata": {},
   "source": [
    "## Test 4"
   ]
  },
  {
   "cell_type": "code",
   "execution_count": 20,
   "id": "10c2a6dd",
   "metadata": {},
   "outputs": [],
   "source": [
    "sourceLanguage = \"en\"\n",
    "targetLanguage = \"zh-Hans\""
   ]
  },
  {
   "cell_type": "code",
   "execution_count": 21,
   "id": "ada8a706",
   "metadata": {},
   "outputs": [],
   "source": [
    "input_file = os.path.join(source_dir, \"worddocument.docx\")\n",
    "output_file = os.path.join(target_dir, \"worddocument_translated_\" + targetLanguage + \".docx\")"
   ]
  },
  {
   "cell_type": "code",
   "execution_count": 22,
   "id": "e9c953f3",
   "metadata": {},
   "outputs": [
    {
     "name": "stdout",
     "output_type": "stream",
     "text": [
      "Translating the document from en to zh-Hans ...\n",
      "\n",
      "Done. Elapsed time: 00:00:00.372039\n"
     ]
    }
   ],
   "source": [
    "translate(input_file, sourceLanguage, targetLanguage)"
   ]
  },
  {
   "cell_type": "code",
   "execution_count": 23,
   "id": "636598ce",
   "metadata": {},
   "outputs": [
    {
     "data": {
      "text/html": [
       "<a href='translated/worddocument_translated_zh-Hans.docx' target='_blank'>translated/worddocument_translated_zh-Hans.docx</a><br>"
      ],
      "text/plain": [
       "/mnt/batch/tasks/shared/LS_root/mounts/clusters/seretkow9/code/Users/seretkow/Azure AI Translator examples/translated/worddocument_translated_zh-Hans.docx"
      ]
     },
     "execution_count": 23,
     "metadata": {},
     "output_type": "execute_result"
    }
   ],
   "source": [
    "translated_link = FileLink(path=os.path.join(\n",
    "    target_dir, os.path.basename(output_file)))\n",
    "translated_link"
   ]
  },
  {
   "cell_type": "markdown",
   "id": "311c2b8e",
   "metadata": {},
   "source": [
    "## Webapp"
   ]
  },
  {
   "cell_type": "code",
   "execution_count": 24,
   "id": "3586de02",
   "metadata": {},
   "outputs": [],
   "source": [
    "language_dict = {\n",
    "    \"af\": \"Afrikaans\",\n",
    "    \"sq\": \"Albanian\",\n",
    "    \"am\": \"Amharic\",\n",
    "    \"ar\": \"Arabic\",\n",
    "    \"hy\": \"Armenian\",\n",
    "    \"as\": \"Assamese\",\n",
    "    \"az\": \"Azerbaijani\",\n",
    "    \"bn\": \"Bangla\",\n",
    "    \"ba\": \"Bashkir\",\n",
    "    \"eu\": \"Basque\",\n",
    "    \"bho\": \"Bhojpuri\",\n",
    "    \"brx\": \"Bodo\",\n",
    "    \"bs\": \"Bosnian\",\n",
    "    \"bg\": \"Bulgarian\",\n",
    "    \"yue\": \"Cantonese\",\n",
    "    \"ca\": \"Catalan\",\n",
    "    \"lzh\": \"Chinese (Classical)\",\n",
    "    \"zh-Hans\": \"Chinese (Simplified)\",\n",
    "    \"zh-Hant\": \"Chinese (Traditional)\",\n",
    "    \"sn\": \"Chishona\",\n",
    "    \"hr\": \"Croatian\",\n",
    "    \"cs\": \"Czech\",\n",
    "    \"da\": \"Danish\",\n",
    "    \"prs\": \"Dari\",\n",
    "    \"dv\": \"Divehi\",\n",
    "    \"doi\": \"Dogri\",\n",
    "    \"nl\": \"Dutch\",\n",
    "    \"en\": \"English\",\n",
    "    \"et\": \"Estonian\",\n",
    "    \"fo\": \"Faroese\",\n",
    "    \"fj\": \"Fijian\",\n",
    "    \"fil\": \"Filipino\",\n",
    "    \"fi\": \"Finnish\",\n",
    "    \"fr\": \"French\",\n",
    "    \"fr-ca\": \"French (Canada)\",\n",
    "    \"gl\": \"Galician\",\n",
    "    \"ka\": \"Georgian\",\n",
    "    \"de\": \"German\",\n",
    "    \"el\": \"Greek\",\n",
    "    \"gu\": \"Gujarati\",\n",
    "    \"ht\": \"Haitian Creole\",\n",
    "    \"ha\": \"Hausa\",\n",
    "    \"he\": \"Hebrew\",\n",
    "    \"hi\": \"Hindi\",\n",
    "    \"mww\": \"Hmong Daw\",\n",
    "    \"hu\": \"Hungarian\",\n",
    "    \"is\": \"Icelandic\",\n",
    "    \"ig\": \"Igbo\",\n",
    "    \"id\": \"Indonesian\",\n",
    "    \"ikt\": \"Inuktitut\",\n",
    "    \"iu\": \"Inuktitut (Syllabics)\",\n",
    "    \"iu-Latn\": \"Inuktitut (Latin)\",\n",
    "    \"ga\": \"Irish\",\n",
    "    \"it\": \"Italian\",\n",
    "    \"ja\": \"Japanese\",\n",
    "    \"kn\": \"Kannada\",\n",
    "    \"ks\": \"Kashmiri\",\n",
    "    \"kk\": \"Kazakh\",\n",
    "    \"km\": \"Khmer\",\n",
    "    \"rw\": \"Kinyarwanda\",\n",
    "    \"tlh-Latn\": \"Klingon (Latin)\",\n",
    "    \"tlh-Piqd\": \"Klingon (pIqaD)\",\n",
    "    \"gom\": \"Konkani\",\n",
    "    \"ko\": \"Korean\",\n",
    "    \"ku\": \"Kurdish (Kurmanji)\",\n",
    "    \"kmr\": \"Kurdish (Sorani)\",\n",
    "    \"ky\": \"Kyrgyz\",\n",
    "    \"lo\": \"Lao\",\n",
    "    \"lv\": \"Latvian\",\n",
    "    \"lt\": \"Lithuanian\",\n",
    "    \"ln\": \"Lingala\",\n",
    "    \"dsb\": \"Lower Sorbian\",\n",
    "    \"lug\": \"Luganda\",\n",
    "    \"mk\": \"Macedonian\",\n",
    "    \"mai\": \"Maithili\",\n",
    "    \"mg\": \"Malagasy\",\n",
    "    \"ms\": \"Malay\",\n",
    "    \"ml\": \"Malayalam\",\n",
    "    \"mt\": \"Maltese\",\n",
    "    \"mi\": \"Māori\",\n",
    "    \"mr\": \"Marathi\",\n",
    "    \"mn-Cyrl\": \"Mongolian (Cyrillic)\",\n",
    "    \"mn-Mong\": \"Mongolian (Traditional Mongolian)\",\n",
    "    \"my\": \"Myanmar (Burmese)\",\n",
    "    \"ne\": \"Nepali\",\n",
    "    \"nb\": \"Norwegian (Bokmål)\",\n",
    "    \"nya\": \"Nyanja (Chichewa)\",\n",
    "    \"or\": \"Odia (Oriya)\",\n",
    "    \"ps\": \"Pashto\",\n",
    "    \"fa\": \"Persian\",\n",
    "    \"pl\": \"Polish\",\n",
    "    \"pt\": \"Portuguese\",\n",
    "    \"pt-pt\": \"Portuguese (Portugal)\",\n",
    "    \"pa\": \"Punjabi\",\n",
    "    \"otq\": \"Querétaro Otomi\",\n",
    "    \"ro\": \"Romanian\",\n",
    "    \"run\": \"Rundi\",\n",
    "    \"ru\": \"Russian\",\n",
    "    \"sm\": \"Samoan\",\n",
    "    \"sr-Cyrl\": \"Serbian (Cyrillic)\",\n",
    "    \"sr-Latn\": \"Serbian (Latin)\",\n",
    "    \"st\": \"Sesotho\",\n",
    "    \"nso\": \"Sesotho sa Leboa\",\n",
    "    \"tn\": \"Setswana\",\n",
    "    \"sd\": \"Sindhi\",\n",
    "    \"si\": \"Sinhala\",\n",
    "    \"sk\": \"Slovak\",\n",
    "    \"sl\": \"Slovenian\",\n",
    "    \"so\": \"Somali\",\n",
    "    \"es\": \"Spanish\",\n",
    "    \"sw\": \"Swahili\",\n",
    "    \"sv\": \"Swedish\",\n",
    "    \"ty\": \"Tahitian\",\n",
    "    \"ta\": \"Tamil\",\n",
    "    \"tt\": \"Tatar\",\n",
    "    \"te\": \"Telugu\",\n",
    "    \"th\": \"Thai\",\n",
    "    \"bo\": \"Tibetan\",\n",
    "    \"ti\": \"Tigrinya\",\n",
    "    \"to\": \"Tongan\",\n",
    "    \"tr\": \"Turkish\",\n",
    "    \"tk\": \"Turkmen\",\n",
    "    \"uk\": \"Ukrainian\",\n",
    "    \"hsb\": \"Upper Sorbian\",\n",
    "    \"ur\": \"Urdu\",\n",
    "    \"ug\": \"Uyghur\",\n",
    "    \"uz\": \"Uzbek\",\n",
    "    \"vi\": \"Vietnamese\",\n",
    "    \"cy\": \"Welsh\",\n",
    "    \"xh\": \"Xhosa\",\n",
    "    \"yo\": \"Yoruba\",\n",
    "    \"yua\": \"Yucatec Maya\",\n",
    "    \"zu\": \"Zulu\",\n",
    "}"
   ]
  },
  {
   "cell_type": "code",
   "execution_count": 25,
   "id": "cd63f0c4",
   "metadata": {},
   "outputs": [
    {
     "data": {
      "text/plain": [
       "133"
      ]
     },
     "execution_count": 25,
     "metadata": {},
     "output_type": "execute_result"
    }
   ],
   "source": [
    "language_full_names = list(language_dict.values())\n",
    "language_full_names.sort()\n",
    "len(language_full_names)"
   ]
  },
  {
   "cell_type": "code",
   "execution_count": 26,
   "id": "3009144b",
   "metadata": {},
   "outputs": [],
   "source": [
    "language_codes = list(language_dict.keys())\n",
    "language_codes.sort()\n",
    "\n",
    "reverse_language_names = {v: k for k, v in language_dict.items()}"
   ]
  },
  {
   "cell_type": "code",
   "execution_count": 27,
   "id": "cf899d75",
   "metadata": {},
   "outputs": [],
   "source": [
    "def get_language_code(language_name):\n",
    "    # Function to get language code by language name\n",
    "    return reverse_language_names.get(language_name)"
   ]
  },
  {
   "cell_type": "code",
   "execution_count": 28,
   "id": "25046dbe",
   "metadata": {},
   "outputs": [
    {
     "data": {
      "text/plain": [
       "'fr'"
      ]
     },
     "execution_count": 28,
     "metadata": {},
     "output_type": "execute_result"
    }
   ],
   "source": [
    "# Quick test\n",
    "get_language_code(\"French\")"
   ]
  },
  {
   "cell_type": "code",
   "execution_count": 29,
   "id": "93688dc4",
   "metadata": {},
   "outputs": [],
   "source": [
    "def get_format_from_extension(source_ext):\n",
    "    format_mapping = {\n",
    "        '.txt': \"text/plain\",\n",
    "        '.txv': \"text/tab-separated-values\",\n",
    "        '.tab': \"text/tab-separated-values\",\n",
    "        '.csv': \"text/csv\",\n",
    "        '.html': \"text/html\",\n",
    "        '.htm': \"text/html\",\n",
    "        '.mthml': \"message/rfc822@application/x-mimearchive@multipart/related\",\n",
    "        '.mthm': \"message/rfc822@application/x-mimearchive@multipart/related\",\n",
    "        '.pptx': \"application/vnd.openxmlformats-officedocument.presentationml.presentation\",\n",
    "        '.xlsx': \"application/vnd.openxmlformats-officedocument.spreadsheetml.sheet\",\n",
    "        '.docx': \"application/vnd.openxmlformats-officedocument.wordprocessingml.document\",\n",
    "        '.msg': \"application/vnd.ms-outlook\",\n",
    "        '.xlf': \"application/xliff+xml\",\n",
    "        '.xliff': \"application/xliff+xml\"\n",
    "    }\n",
    "    return format_mapping.get(source_ext, None)"
   ]
  },
  {
   "cell_type": "code",
   "execution_count": 30,
   "id": "09544cbe",
   "metadata": {},
   "outputs": [
    {
     "data": {
      "text/plain": [
       "'application/vnd.openxmlformats-officedocument.wordprocessingml.document'"
      ]
     },
     "execution_count": 30,
     "metadata": {},
     "output_type": "execute_result"
    }
   ],
   "source": [
    "source_ext = '.docx'\n",
    "get_format_from_extension(source_ext)"
   ]
  },
  {
   "cell_type": "code",
   "execution_count": 31,
   "id": "60db20bf",
   "metadata": {},
   "outputs": [],
   "source": [
    "def document_translation_fn(source_document, name_source_lang, name_target_lang):\n",
    "    \"\"\"\n",
    "    Synchronous document translation\n",
    "    \"\"\"\n",
    "    # Get the code\n",
    "    source_lang = get_language_code(name_source_lang)\n",
    "    target_lang = get_language_code(name_target_lang)\n",
    "    \n",
    "    # Output file\n",
    "    source_file = os.path.splitext(os.path.basename(source_document))[0]\n",
    "    source_ext = os.path.splitext(source_document)[1]\n",
    "    \n",
    "    output_file = os.path.join(target_dir, source_file + \"_\" + str(name_target_lang) + source_ext)\n",
    "    \n",
    "    fileformat = get_format_from_extension(source_ext)\n",
    "    \n",
    "    params = {\n",
    "        \"sourceLanguage\": source_lang,\n",
    "        \"targetLanguage\": target_lang,\n",
    "        \"api-version\": \"2023-11-01-preview\",\n",
    "    }\n",
    "\n",
    "    headers = {\"Ocp-Apim-Subscription-Key\": key}\n",
    "    \n",
    "    path = \"translator/document:translate\"\n",
    "    url = endpoint + path\n",
    "\n",
    "    with open(source_document, \"rb\") as document:\n",
    "        # Define the data to be sent\n",
    "        # Find list of supported content types here: https://aka.ms/dtsync-content-type\n",
    "        data = {\n",
    "            \"document\": (os.path.basename(source_document),\n",
    "                         document,\n",
    "                         fileformat)\n",
    "        }\n",
    "\n",
    "        # Send the POST request\n",
    "        response = requests.post(url, headers=headers, files=data, params=params)\n",
    "\n",
    "    # Write the response content to a file\n",
    "    with open(output_file, \"wb\") as output_document:\n",
    "        output_document.write(response.content)\n",
    "        \n",
    "    return output_file"
   ]
  },
  {
   "cell_type": "code",
   "execution_count": 32,
   "id": "840a4ac9",
   "metadata": {},
   "outputs": [
    {
     "data": {
      "text/plain": [
       "'translated/worddocument_Italian.docx'"
      ]
     },
     "execution_count": 32,
     "metadata": {},
     "output_type": "execute_result"
    }
   ],
   "source": [
    "# Quick test\n",
    "document_translation_fn(\"source/worddocument.docx\", \"English\", \"Italian\")"
   ]
  },
  {
   "cell_type": "code",
   "execution_count": 33,
   "id": "f1595b81",
   "metadata": {},
   "outputs": [
    {
     "name": "stdout",
     "output_type": "stream",
     "text": [
      "Running on local URL:  http://127.0.0.1:7860\n",
      "Running on public URL: https://fcd1e4b0422e55c4cf.gradio.live\n",
      "\n",
      "This share link expires in 72 hours. For free permanent hosting and GPU upgrades, run `gradio deploy` from Terminal to deploy to Spaces (https://huggingface.co/spaces)\n"
     ]
    },
    {
     "data": {
      "text/html": [
       "<div><iframe src=\"https://fcd1e4b0422e55c4cf.gradio.live\" width=\"100%\" height=\"500\" allow=\"autoplay; camera; microphone; clipboard-read; clipboard-write;\" frameborder=\"0\" allowfullscreen></iframe></div>"
      ],
      "text/plain": [
       "<IPython.core.display.HTML object>"
      ]
     },
     "metadata": {},
     "output_type": "display_data"
    },
    {
     "data": {
      "text/plain": []
     },
     "execution_count": 33,
     "metadata": {},
     "output_type": "execute_result"
    }
   ],
   "source": [
    "image_url = \"https://th.bing.com/th/id/OIP.ngRD8aNJwXZ2B0eol5tFlwAAAA?rs=1&pid=ImgDetMain\"\n",
    "logo = \"<center> <img src= {} width=100px></center>\".format(image_url)\n",
    "\n",
    "doc_translator_webapp = gr.Interface(\n",
    "    fn=document_translation_fn,\n",
    "    inputs=[\n",
    "        gr.components.File(label=\"Document to translate\"),\n",
    "        gr.components.Dropdown(label=\"Source language\",\n",
    "                               choices=language_full_names),\n",
    "        gr.components.Dropdown(label=\"Target language\",\n",
    "                               choices=language_full_names),\n",
    "    ],\n",
    "    outputs=gr.File(label=\"Translated text\"),\n",
    "    cache_examples=False,\n",
    "    title=\"Synchronous document translation with Azure AI Translator\",\n",
    "    description=logo,\n",
    ")\n",
    "\n",
    "doc_translator_webapp.launch(share=True)"
   ]
  },
  {
   "cell_type": "code",
   "execution_count": null,
   "id": "2d7835c3",
   "metadata": {},
   "outputs": [],
   "source": []
  },
  {
   "cell_type": "code",
   "execution_count": null,
   "id": "15bd10f7",
   "metadata": {},
   "outputs": [],
   "source": []
  }
 ],
 "metadata": {
  "kernelspec": {
   "display_name": "Python 3.10 - SDK v2",
   "language": "python",
   "name": "python310-sdkv2"
  },
  "language_info": {
   "codemirror_mode": {
    "name": "ipython",
    "version": 3
   },
   "file_extension": ".py",
   "mimetype": "text/x-python",
   "name": "python",
   "nbconvert_exporter": "python",
   "pygments_lexer": "ipython3",
   "version": "3.10.11"
  }
 },
 "nbformat": 4,
 "nbformat_minor": 5
}
