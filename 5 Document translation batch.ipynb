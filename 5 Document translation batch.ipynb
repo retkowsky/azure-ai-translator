{
 "cells": [
  {
   "cell_type": "markdown",
   "id": "313da351",
   "metadata": {},
   "source": [
    "# Document translation batch (asynchronous mode)\n",
    "\n",
    "https://learn.microsoft.com/en-us/azure/ai-services/translator/document-translation/how-to-guides/use-rest-api-programmatically?tabs=csharp\n",
    "\n",
    "<img src=\"https://th.bing.com/th/id/OIP.ngRD8aNJwXZ2B0eol5tFlwAAAA?rs=1&pid=ImgDetMain\" width=200>"
   ]
  },
  {
   "cell_type": "code",
   "execution_count": 1,
   "id": "0e17c0d3",
   "metadata": {},
   "outputs": [],
   "source": [
    "import datetime\n",
    "import json\n",
    "import os\n",
    "import requests\n",
    "import sys\n",
    "import time\n",
    "\n",
    "from azure.core.credentials import AzureKeyCredential\n",
    "from azure.ai.translation.document import DocumentTranslationClient\n",
    "from dotenv import load_dotenv"
   ]
  },
  {
   "cell_type": "code",
   "execution_count": 2,
   "id": "326398ad",
   "metadata": {},
   "outputs": [
    {
     "data": {
      "text/plain": [
       "'3.10.11 (main, May 16 2023, 00:28:57) [GCC 11.2.0]'"
      ]
     },
     "execution_count": 2,
     "metadata": {},
     "output_type": "execute_result"
    }
   ],
   "source": [
    "sys.version"
   ]
  },
  {
   "cell_type": "code",
   "execution_count": 3,
   "id": "5e96ffdb",
   "metadata": {},
   "outputs": [
    {
     "name": "stdout",
     "output_type": "stream",
     "text": [
      "Today is 10-Apr-2024 09:33:23\n"
     ]
    }
   ],
   "source": [
    "print(f\"Today is {datetime.datetime.today().strftime('%d-%b-%Y %H:%M:%S')}\")"
   ]
  },
  {
   "cell_type": "markdown",
   "id": "e8f284bc",
   "metadata": {},
   "source": [
    "## Azure AI Translator credentials"
   ]
  },
  {
   "cell_type": "code",
   "execution_count": 4,
   "id": "6dd102a2",
   "metadata": {},
   "outputs": [],
   "source": [
    "load_dotenv(\"azure.env\")\n",
    "\n",
    "key = os.getenv(\"AZURE_AI_TRANSLATION_KEY\")\n",
    "endpoint = os.getenv(\"AZURE_AI_TRANSLATION_ENDPOINTDOCUMENT\")\n",
    "region = os.getenv(\"AZURE_AI_TRANSLATION_REGION\")"
   ]
  },
  {
   "cell_type": "markdown",
   "id": "af4aead2",
   "metadata": {},
   "source": [
    "## Blog storage access"
   ]
  },
  {
   "cell_type": "code",
   "execution_count": 5,
   "id": "5f427053",
   "metadata": {},
   "outputs": [],
   "source": [
    "sourceblobsas = \"tobereplaced\"\n",
    "sourcesastoken = \"tobereplaced\""
   ]
  },
  {
   "cell_type": "code",
   "execution_count": 6,
   "id": "c59e5156",
   "metadata": {},
   "outputs": [],
   "source": [
    "targetblobsas = \"tobereplaced\"\n",
    "targetsastoken = \"tobereplaced\""
   ]
  },
  {
   "cell_type": "code",
   "execution_count": 7,
   "id": "3181933b",
   "metadata": {},
   "outputs": [],
   "source": [
    "sourceUri = sourceblobsas + sourcesastoken\n",
    "targetUri = targetblobsas + targetsastoken"
   ]
  },
  {
   "cell_type": "markdown",
   "id": "33abd56a",
   "metadata": {},
   "source": [
    "## Azure AI Translator client"
   ]
  },
  {
   "cell_type": "code",
   "execution_count": 8,
   "id": "bfdd6495",
   "metadata": {},
   "outputs": [],
   "source": [
    "# initialize a new instance of the DocumentTranslationClient object to interact with the Document Translation feature\n",
    "client = DocumentTranslationClient(endpoint, AzureKeyCredential(key))"
   ]
  },
  {
   "cell_type": "markdown",
   "id": "2c7ce4d7",
   "metadata": {},
   "source": [
    "## Example"
   ]
  },
  {
   "cell_type": "code",
   "execution_count": 9,
   "id": "4178533b",
   "metadata": {},
   "outputs": [],
   "source": [
    "targetLanguage = \"fr\""
   ]
  },
  {
   "cell_type": "markdown",
   "id": "3f4aace0",
   "metadata": {},
   "source": [
    "> https://aka.ms/TranslatorLanguageCodes "
   ]
  },
  {
   "cell_type": "code",
   "execution_count": 11,
   "id": "59145268",
   "metadata": {},
   "outputs": [
    {
     "name": "stdout",
     "output_type": "stream",
     "text": [
      "Starting to translate the documents to language:fr ...\n",
      "\n",
      "Elapsed time: 00:01:49.153155\n"
     ]
    }
   ],
   "source": [
    "# include source and target locations and target language code for the begin translation operation\n",
    "print(\n",
    "    f\"Starting to translate the documents to language:{targetLanguage} ...\")\n",
    "\n",
    "start = time.time()\n",
    "\n",
    "poller = client.begin_translation(sourceUri, targetUri, targetLanguage)\n",
    "result = poller.result()\n",
    "\n",
    "elapsed = time.time() - start\n",
    "print(\"\\nElapsed time: \" + time.strftime(\"%H:%M:%S.{}\".format(str(elapsed %\n",
    "      1)[2:])[:15], time.gmtime(elapsed)))"
   ]
  },
  {
   "cell_type": "markdown",
   "id": "2d22d0e2",
   "metadata": {},
   "source": [
    "## Results"
   ]
  },
  {
   "cell_type": "code",
   "execution_count": 12,
   "id": "1bf61768",
   "metadata": {},
   "outputs": [
    {
     "name": "stdout",
     "output_type": "stream",
     "text": [
      "\u001b[1;31;34m\n",
      "Status: Succeeded\n",
      "Created on: 2024-04-10 09:34:11.349999+00:00\n",
      "Last updated on: 2024-04-10 09:35:46.138401+00:00\n",
      "\n",
      "Total number of translations on documents: 4\n",
      "  0 failed\n",
      "  4 succeeded\n"
     ]
    }
   ],
   "source": [
    "print(\"\\033[1;31;34m\")\n",
    "print(\"Status: {}\".format(poller.status()))\n",
    "print(\"Created on: {}\".format(poller.details.created_on))\n",
    "print(\"Last updated on: {}\".format(poller.details.last_updated_on))\n",
    "print(\n",
    "    \"\\nTotal number of translations on documents: {}\".format(\n",
    "        poller.details.documents_total_count\n",
    "    )\n",
    ")\n",
    "\n",
    "print(\"  {} failed\".format(poller.details.documents_failed_count))\n",
    "print(\"  {} succeeded\".format(poller.details.documents_succeeded_count))"
   ]
  },
  {
   "cell_type": "code",
   "execution_count": 13,
   "id": "8529bcda",
   "metadata": {},
   "outputs": [
    {
     "name": "stdout",
     "output_type": "stream",
     "text": [
      "- Document 1\n",
      "Document ID: 004dcbc9-0000-0000-0000-000000000000\n",
      "Document status: Succeeded\n",
      "Source document location: https://azurestorageaccountsr.blob.core.windows.net:443/docs/termsconditions_en.pdf\n",
      "Translated document location: https://azurestorageaccountsr.blob.core.windows.net:443/docs-translated/termsconditions_en.pdf\n",
      "Translated to language: fr\n",
      "\n",
      "- Document 2\n",
      "Document ID: 004dcbc8-0000-0000-0000-000000000000\n",
      "Document status: Succeeded\n",
      "Source document location: https://azurestorageaccountsr.blob.core.windows.net:443/docs/releasenotes_en.pdf\n",
      "Translated document location: https://azurestorageaccountsr.blob.core.windows.net:443/docs-translated/releasenotes_en.pdf\n",
      "Translated to language: fr\n",
      "\n",
      "- Document 3\n",
      "Document ID: 004dcbc7-0000-0000-0000-000000000000\n",
      "Document status: Succeeded\n",
      "Source document location: https://azurestorageaccountsr.blob.core.windows.net:443/docs/Microsoft%20Translator%20Customer%20Ready%20Deck%20v4.1.pptx\n",
      "Translated document location: https://azurestorageaccountsr.blob.core.windows.net:443/docs-translated/Microsoft%20Translator%20Customer%20Ready%20Deck%20v4.1.pptx\n",
      "Translated to language: fr\n",
      "\n",
      "- Document 4\n",
      "Document ID: 004dcbc6-0000-0000-0000-000000000000\n",
      "Document status: Succeeded\n",
      "Source document location: https://azurestorageaccountsr.blob.core.windows.net:443/docs/AutoGen%20A%20Multi-Agent%20Framework%20for%20Enabling%20Next-Gen%20AI%20Applications.msg\n",
      "Translated document location: https://azurestorageaccountsr.blob.core.windows.net:443/docs-translated/AutoGen%20A%20Multi-Agent%20Framework%20for%20Enabling%20Next-Gen%20AI%20Applications.msg\n",
      "Translated to language: fr\n",
      "\n"
     ]
    }
   ],
   "source": [
    "nb = 1\n",
    "\n",
    "for document in result:\n",
    "    print(\"- Document\", nb)\n",
    "    print(\"Document ID: {}\".format(document.id))\n",
    "    print(\"Document status: {}\".format(document.status))\n",
    "\n",
    "    if document.status == \"Succeeded\":\n",
    "        print(\"Source document location: {}\".format(\n",
    "            document.source_document_url))\n",
    "        print(\n",
    "            \"Translated document location: {}\".format(\n",
    "                document.translated_document_url)\n",
    "        )\n",
    "        print(\"Translated to language: {}\\n\".format(document.translated_to))\n",
    "        nb += 1"
   ]
  },
  {
   "cell_type": "code",
   "execution_count": null,
   "id": "ceb3b4b9",
   "metadata": {},
   "outputs": [],
   "source": []
  }
 ],
 "metadata": {
  "kernelspec": {
   "display_name": "Python 3.10 - SDK v2",
   "language": "python",
   "name": "python310-sdkv2"
  },
  "language_info": {
   "codemirror_mode": {
    "name": "ipython",
    "version": 3
   },
   "file_extension": ".py",
   "mimetype": "text/x-python",
   "name": "python",
   "nbconvert_exporter": "python",
   "pygments_lexer": "ipython3",
   "version": "3.10.11"
  }
 },
 "nbformat": 4,
 "nbformat_minor": 5
}
